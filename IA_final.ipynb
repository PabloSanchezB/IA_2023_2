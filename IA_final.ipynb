{
  "nbformat": 4,
  "nbformat_minor": 0,
  "metadata": {
    "colab": {
      "provenance": []
    },
    "kernelspec": {
      "name": "python3",
      "display_name": "Python 3"
    },
    "language_info": {
      "name": "python"
    }
  },
  "cells": [
    {
      "cell_type": "markdown",
      "source": [
        "# Clasificación de idiomas Inglés vs Holandes\n",
        "\n",
        "**Presentado por:**\n",
        "\n",
        "**Pablo Sanchez Bernal**\n",
        "\n",
        "**Rafael Sanchez Oviedo**\n"
      ],
      "metadata": {
        "id": "3LOcVgJ35j3K"
      }
    },
    {
      "cell_type": "markdown",
      "source": [
        "Antes de poder hablar del problema, debemos dar un pequeño contexto acerca de que se trata esta implementación.\n",
        "\n",
        "Es importante saber ¿Qué es la clasificación de texto?\n",
        "\n",
        "La clasificación de texto mediante Machine Learning es una técnica que automatiza la categorización de texto abierto en diversas categorías predefinidas. Dado que el 80-90% de los datos empresariales son no estructurados y su volumen crece más rápido que los datos estructurados, la clasificación automática se vuelve crucial. Tradicionalmente, procesar estos datos se hacía manualmente, pero esto es costoso y consume mucho tiempo. Las herramientas automatizadas de clasificación de texto, que combinan Procesamiento de Lenguaje Natural (NLP) y Machine Learning, permiten estructurar y analizar grandes cantidades de texto de manera eficiente. Esto posibilita clasificar artículos, organizar solicitudes de apoyo y evaluar el sentimiento de la marca a través del análisis del tono en las redes sociales.\n",
        "\n",
        "La clasificación de texto es crucial para optimizar el aprovechamiento de datos no estructurados en las empresas. Facilita la organización eficiente y rentable de diversos tipos de textos, como correos electrónicos, documentos legales, anuncios y bases de datos. Este enfoque ahorra tiempo y permite la toma de decisiones fundamentadas basadas en datos pertinentes."
      ],
      "metadata": {
        "id": "W3MCR9za1Wbq"
      }
    },
    {
      "cell_type": "markdown",
      "source": [
        "### Sistemas de aprendizaje automático\n",
        "\n",
        "La clasificación de texto mediante Machine Learning implica la creación de clasificaciones basadas en observaciones previas en lugar de depender de reglas establecidas por humanos. Los algoritmos de aprendizaje automático comprenden las diversas correlaciones entre fragmentos de texto y anticipan salidas específicas (etiquetas) para entradas particulares mediante el uso de datos de entrenamiento (texto). Al emplear el término \"etiqueta\" en este contexto, nos referimos a un grupo o categoría definida en la que se puede clasificar cualquier texto. Este enfoque permite que el sistema aprenda y mejore su capacidad de clasificación a medida que se le proporciona más información y datos de entrenamiento.\n",
        "\n"
      ],
      "metadata": {
        "id": "wNFo-dYQ036B"
      }
    },
    {
      "cell_type": "markdown",
      "source": [
        "### Problemática\n",
        "\n",
        "El conjunto de datos se centra en la clasificación de texto, específicamente en la identificación del idioma (inglés o neerlandés) en el que están escritas alrededor de 15 palabras en segmentos. Este problema de clasificación de lenguaje puede abordarse construyendo un sistema simple de clasificación de texto.\n",
        "\n"
      ],
      "metadata": {
        "id": "FHPlNhN407-p"
      }
    },
    {
      "cell_type": "markdown",
      "source": [
        "### Fuentes de Datos\n",
        "\n",
        "El conjunto de datos consta de más de 1000 ejemplos, cada uno con segmentos de alrededor de 15 palabras. Cada ejemplo está etiquetado con una clase que especifica si las palabras están escritas en inglés (\"en\") o neerlandés (\"nl\"). La información fue recopilada mediante la copia de segmentos aleatorios de artículos de Wikipedia, y se utilizó un script de Python para modificar la extracción y crear casos de prueba deseados.\n",
        "\n"
      ],
      "metadata": {
        "id": "Vt4PC40X0_SQ"
      }
    },
    {
      "cell_type": "markdown",
      "source": [
        "### Variables\n",
        "\n",
        "1.   Identificador de clase: \"en\" y \"nl\", se encargan de indicar en qué idioma se encuentran las frases.\n",
        "2.   Segmento de texto: Consta de alrededor de 15 palabras en el idioma correspondiente a la clase."
      ],
      "metadata": {
        "id": "I5Y3QNJ01BRQ"
      }
    },
    {
      "cell_type": "markdown",
      "source": [
        "### Estructura del Conjunto de Datos\n",
        "\n",
        "1.   Hay 1070 registros de datos, cada uno separado por caracteres \"\\n\".\n",
        "2.   Cada registro comienza con un código de clase de dos letras seguido por el carácter \"|\" y alrededor de 15 palabras escritas en inglés o neerlandés."
      ],
      "metadata": {
        "id": "JTecFw_21n1K"
      }
    },
    {
      "cell_type": "code",
      "source": [
        "import pandas as pd\n",
        "import numpy as np\n",
        "import re\n",
        "import matplotlib.pyplot as plt\n",
        "import seaborn as sns"
      ],
      "metadata": {
        "id": "jUE9wArtfCmD"
      },
      "execution_count": 1,
      "outputs": []
    },
    {
      "cell_type": "markdown",
      "source": [
        "# Reconocimiento de los datos\n",
        "\n",
        "A continuación mostramos una vista previa de algunos de las frases y contamos la cantidad de registros que hay en el data-set. Cabe señalar que en el documento de texto del dataset se le agregó una primera linea:\n",
        "\n",
        "lang|text\n",
        "\n",
        "que serviran como cabeceras de sus respectivas columnas (la columna de la etiqueta del idioma y la columna del texto)"
      ],
      "metadata": {
        "id": "rxGlcAZnPU_n"
      }
    },
    {
      "cell_type": "code",
      "execution_count": 2,
      "metadata": {
        "colab": {
          "base_uri": "https://localhost:8080/",
          "height": 224
        },
        "id": "SyBuxldFwUBb",
        "outputId": "36c9c9b1-3853-4149-cb36-9d7f0f658a19"
      },
      "outputs": [
        {
          "output_type": "stream",
          "name": "stdout",
          "text": [
            "Numero de registros: 1069\n"
          ]
        },
        {
          "output_type": "execute_result",
          "data": {
            "text/plain": [
              "  lang                                               text\n",
              "0   en  host with After to rugby test World system, th...\n",
              "1   en  and Africa in permission winners,[25] of in ye...\n",
              "2   en  President tournament wearing presenting were m...\n",
              "3   en  The the are 'The thirty-eight reference as Ell...\n",
              "4   en  a The Rugby In and Warrant head 'The Webb and ..."
            ],
            "text/html": [
              "\n",
              "  <div id=\"df-b72d2762-f272-4dc6-a1ab-49bf403984f0\" class=\"colab-df-container\">\n",
              "    <div>\n",
              "<style scoped>\n",
              "    .dataframe tbody tr th:only-of-type {\n",
              "        vertical-align: middle;\n",
              "    }\n",
              "\n",
              "    .dataframe tbody tr th {\n",
              "        vertical-align: top;\n",
              "    }\n",
              "\n",
              "    .dataframe thead th {\n",
              "        text-align: right;\n",
              "    }\n",
              "</style>\n",
              "<table border=\"1\" class=\"dataframe\">\n",
              "  <thead>\n",
              "    <tr style=\"text-align: right;\">\n",
              "      <th></th>\n",
              "      <th>lang</th>\n",
              "      <th>text</th>\n",
              "    </tr>\n",
              "  </thead>\n",
              "  <tbody>\n",
              "    <tr>\n",
              "      <th>0</th>\n",
              "      <td>en</td>\n",
              "      <td>host with After to rugby test World system, th...</td>\n",
              "    </tr>\n",
              "    <tr>\n",
              "      <th>1</th>\n",
              "      <td>en</td>\n",
              "      <td>and Africa in permission winners,[25] of in ye...</td>\n",
              "    </tr>\n",
              "    <tr>\n",
              "      <th>2</th>\n",
              "      <td>en</td>\n",
              "      <td>President tournament wearing presenting were m...</td>\n",
              "    </tr>\n",
              "    <tr>\n",
              "      <th>3</th>\n",
              "      <td>en</td>\n",
              "      <td>The the are 'The thirty-eight reference as Ell...</td>\n",
              "    </tr>\n",
              "    <tr>\n",
              "      <th>4</th>\n",
              "      <td>en</td>\n",
              "      <td>a The Rugby In and Warrant head 'The Webb and ...</td>\n",
              "    </tr>\n",
              "  </tbody>\n",
              "</table>\n",
              "</div>\n",
              "    <div class=\"colab-df-buttons\">\n",
              "\n",
              "  <div class=\"colab-df-container\">\n",
              "    <button class=\"colab-df-convert\" onclick=\"convertToInteractive('df-b72d2762-f272-4dc6-a1ab-49bf403984f0')\"\n",
              "            title=\"Convert this dataframe to an interactive table.\"\n",
              "            style=\"display:none;\">\n",
              "\n",
              "  <svg xmlns=\"http://www.w3.org/2000/svg\" height=\"24px\" viewBox=\"0 -960 960 960\">\n",
              "    <path d=\"M120-120v-720h720v720H120Zm60-500h600v-160H180v160Zm220 220h160v-160H400v160Zm0 220h160v-160H400v160ZM180-400h160v-160H180v160Zm440 0h160v-160H620v160ZM180-180h160v-160H180v160Zm440 0h160v-160H620v160Z\"/>\n",
              "  </svg>\n",
              "    </button>\n",
              "\n",
              "  <style>\n",
              "    .colab-df-container {\n",
              "      display:flex;\n",
              "      gap: 12px;\n",
              "    }\n",
              "\n",
              "    .colab-df-convert {\n",
              "      background-color: #E8F0FE;\n",
              "      border: none;\n",
              "      border-radius: 50%;\n",
              "      cursor: pointer;\n",
              "      display: none;\n",
              "      fill: #1967D2;\n",
              "      height: 32px;\n",
              "      padding: 0 0 0 0;\n",
              "      width: 32px;\n",
              "    }\n",
              "\n",
              "    .colab-df-convert:hover {\n",
              "      background-color: #E2EBFA;\n",
              "      box-shadow: 0px 1px 2px rgba(60, 64, 67, 0.3), 0px 1px 3px 1px rgba(60, 64, 67, 0.15);\n",
              "      fill: #174EA6;\n",
              "    }\n",
              "\n",
              "    .colab-df-buttons div {\n",
              "      margin-bottom: 4px;\n",
              "    }\n",
              "\n",
              "    [theme=dark] .colab-df-convert {\n",
              "      background-color: #3B4455;\n",
              "      fill: #D2E3FC;\n",
              "    }\n",
              "\n",
              "    [theme=dark] .colab-df-convert:hover {\n",
              "      background-color: #434B5C;\n",
              "      box-shadow: 0px 1px 3px 1px rgba(0, 0, 0, 0.15);\n",
              "      filter: drop-shadow(0px 1px 2px rgba(0, 0, 0, 0.3));\n",
              "      fill: #FFFFFF;\n",
              "    }\n",
              "  </style>\n",
              "\n",
              "    <script>\n",
              "      const buttonEl =\n",
              "        document.querySelector('#df-b72d2762-f272-4dc6-a1ab-49bf403984f0 button.colab-df-convert');\n",
              "      buttonEl.style.display =\n",
              "        google.colab.kernel.accessAllowed ? 'block' : 'none';\n",
              "\n",
              "      async function convertToInteractive(key) {\n",
              "        const element = document.querySelector('#df-b72d2762-f272-4dc6-a1ab-49bf403984f0');\n",
              "        const dataTable =\n",
              "          await google.colab.kernel.invokeFunction('convertToInteractive',\n",
              "                                                    [key], {});\n",
              "        if (!dataTable) return;\n",
              "\n",
              "        const docLinkHtml = 'Like what you see? Visit the ' +\n",
              "          '<a target=\"_blank\" href=https://colab.research.google.com/notebooks/data_table.ipynb>data table notebook</a>'\n",
              "          + ' to learn more about interactive tables.';\n",
              "        element.innerHTML = '';\n",
              "        dataTable['output_type'] = 'display_data';\n",
              "        await google.colab.output.renderOutput(dataTable, element);\n",
              "        const docLink = document.createElement('div');\n",
              "        docLink.innerHTML = docLinkHtml;\n",
              "        element.appendChild(docLink);\n",
              "      }\n",
              "    </script>\n",
              "  </div>\n",
              "\n",
              "\n",
              "<div id=\"df-58c7e5d5-8ada-4ef6-aa62-b3e48a91a310\">\n",
              "  <button class=\"colab-df-quickchart\" onclick=\"quickchart('df-58c7e5d5-8ada-4ef6-aa62-b3e48a91a310')\"\n",
              "            title=\"Suggest charts\"\n",
              "            style=\"display:none;\">\n",
              "\n",
              "<svg xmlns=\"http://www.w3.org/2000/svg\" height=\"24px\"viewBox=\"0 0 24 24\"\n",
              "     width=\"24px\">\n",
              "    <g>\n",
              "        <path d=\"M19 3H5c-1.1 0-2 .9-2 2v14c0 1.1.9 2 2 2h14c1.1 0 2-.9 2-2V5c0-1.1-.9-2-2-2zM9 17H7v-7h2v7zm4 0h-2V7h2v10zm4 0h-2v-4h2v4z\"/>\n",
              "    </g>\n",
              "</svg>\n",
              "  </button>\n",
              "\n",
              "<style>\n",
              "  .colab-df-quickchart {\n",
              "      --bg-color: #E8F0FE;\n",
              "      --fill-color: #1967D2;\n",
              "      --hover-bg-color: #E2EBFA;\n",
              "      --hover-fill-color: #174EA6;\n",
              "      --disabled-fill-color: #AAA;\n",
              "      --disabled-bg-color: #DDD;\n",
              "  }\n",
              "\n",
              "  [theme=dark] .colab-df-quickchart {\n",
              "      --bg-color: #3B4455;\n",
              "      --fill-color: #D2E3FC;\n",
              "      --hover-bg-color: #434B5C;\n",
              "      --hover-fill-color: #FFFFFF;\n",
              "      --disabled-bg-color: #3B4455;\n",
              "      --disabled-fill-color: #666;\n",
              "  }\n",
              "\n",
              "  .colab-df-quickchart {\n",
              "    background-color: var(--bg-color);\n",
              "    border: none;\n",
              "    border-radius: 50%;\n",
              "    cursor: pointer;\n",
              "    display: none;\n",
              "    fill: var(--fill-color);\n",
              "    height: 32px;\n",
              "    padding: 0;\n",
              "    width: 32px;\n",
              "  }\n",
              "\n",
              "  .colab-df-quickchart:hover {\n",
              "    background-color: var(--hover-bg-color);\n",
              "    box-shadow: 0 1px 2px rgba(60, 64, 67, 0.3), 0 1px 3px 1px rgba(60, 64, 67, 0.15);\n",
              "    fill: var(--button-hover-fill-color);\n",
              "  }\n",
              "\n",
              "  .colab-df-quickchart-complete:disabled,\n",
              "  .colab-df-quickchart-complete:disabled:hover {\n",
              "    background-color: var(--disabled-bg-color);\n",
              "    fill: var(--disabled-fill-color);\n",
              "    box-shadow: none;\n",
              "  }\n",
              "\n",
              "  .colab-df-spinner {\n",
              "    border: 2px solid var(--fill-color);\n",
              "    border-color: transparent;\n",
              "    border-bottom-color: var(--fill-color);\n",
              "    animation:\n",
              "      spin 1s steps(1) infinite;\n",
              "  }\n",
              "\n",
              "  @keyframes spin {\n",
              "    0% {\n",
              "      border-color: transparent;\n",
              "      border-bottom-color: var(--fill-color);\n",
              "      border-left-color: var(--fill-color);\n",
              "    }\n",
              "    20% {\n",
              "      border-color: transparent;\n",
              "      border-left-color: var(--fill-color);\n",
              "      border-top-color: var(--fill-color);\n",
              "    }\n",
              "    30% {\n",
              "      border-color: transparent;\n",
              "      border-left-color: var(--fill-color);\n",
              "      border-top-color: var(--fill-color);\n",
              "      border-right-color: var(--fill-color);\n",
              "    }\n",
              "    40% {\n",
              "      border-color: transparent;\n",
              "      border-right-color: var(--fill-color);\n",
              "      border-top-color: var(--fill-color);\n",
              "    }\n",
              "    60% {\n",
              "      border-color: transparent;\n",
              "      border-right-color: var(--fill-color);\n",
              "    }\n",
              "    80% {\n",
              "      border-color: transparent;\n",
              "      border-right-color: var(--fill-color);\n",
              "      border-bottom-color: var(--fill-color);\n",
              "    }\n",
              "    90% {\n",
              "      border-color: transparent;\n",
              "      border-bottom-color: var(--fill-color);\n",
              "    }\n",
              "  }\n",
              "</style>\n",
              "\n",
              "  <script>\n",
              "    async function quickchart(key) {\n",
              "      const quickchartButtonEl =\n",
              "        document.querySelector('#' + key + ' button');\n",
              "      quickchartButtonEl.disabled = true;  // To prevent multiple clicks.\n",
              "      quickchartButtonEl.classList.add('colab-df-spinner');\n",
              "      try {\n",
              "        const charts = await google.colab.kernel.invokeFunction(\n",
              "            'suggestCharts', [key], {});\n",
              "      } catch (error) {\n",
              "        console.error('Error during call to suggestCharts:', error);\n",
              "      }\n",
              "      quickchartButtonEl.classList.remove('colab-df-spinner');\n",
              "      quickchartButtonEl.classList.add('colab-df-quickchart-complete');\n",
              "    }\n",
              "    (() => {\n",
              "      let quickchartButtonEl =\n",
              "        document.querySelector('#df-58c7e5d5-8ada-4ef6-aa62-b3e48a91a310 button');\n",
              "      quickchartButtonEl.style.display =\n",
              "        google.colab.kernel.accessAllowed ? 'block' : 'none';\n",
              "    })();\n",
              "  </script>\n",
              "</div>\n",
              "    </div>\n",
              "  </div>\n"
            ]
          },
          "metadata": {},
          "execution_count": 2
        }
      ],
      "source": [
        "file_path = '/content/train_new_mod.txt'\n",
        "\n",
        "df = pd.read_csv(file_path, sep='|')\n",
        "\n",
        "print('Numero de registros: ' + str(df.shape[0]))\n",
        "\n",
        "df.head(5)"
      ]
    },
    {
      "cell_type": "markdown",
      "source": [
        "A continuación utilizamos un countplot con el fin de visualizar la distribución del conjunto de datos, lo que nos permitió revelar que hay una distribución homogénea entre las clases.\n"
      ],
      "metadata": {
        "id": "GrzeoZENQO0r"
      }
    },
    {
      "cell_type": "code",
      "source": [
        "# Establecer el tamaño de la figura\n",
        "plt.figure(figsize=(6, 4))\n",
        "\n",
        "# Crear un countplot con las categorías \"en\" y \"nl\" de diferentes colores\n",
        "sns.countplot(data=df, x='lang', palette={'en': 'red', 'nl': 'green'})\n",
        "\n",
        "# Configurar los ejes y etiquetas\n",
        "plt.xlabel('Language')\n",
        "plt.ylabel('Count')\n",
        "\n",
        "# Mostrar el gráfico\n",
        "plt.show()\n",
        "\n",
        "print('Numero de registros por idioma')\n",
        "df.groupby(['lang'])['text'].count()"
      ],
      "metadata": {
        "colab": {
          "base_uri": "https://localhost:8080/",
          "height": 475
        },
        "id": "_koXsqzZgiHc",
        "outputId": "79ce3cbb-9630-4e5b-9813-13cde2843b27"
      },
      "execution_count": 3,
      "outputs": [
        {
          "output_type": "display_data",
          "data": {
            "text/plain": [
              "<Figure size 600x400 with 1 Axes>"
            ],
            "image/png": "[encoded data removed]"
          },
          "metadata": {}
        },
        {
          "output_type": "stream",
          "name": "stdout",
          "text": [
            "Numero de registros por idioma\n"
          ]
        },
        {
          "output_type": "execute_result",
          "data": {
            "text/plain": [
              "lang\n",
              "en    534\n",
              "nl    535\n",
              "Name: text, dtype: int64"
            ]
          },
          "metadata": {},
          "execution_count": 3
        }
      ]
    },
    {
      "cell_type": "markdown",
      "source": [
        "A continuación, en esta parte procedemos a definir la función limpiar_tokenizar, que limpiará y tokenizara el texto. Ademas de eliminar numeros y signos de puntuación, esta función también eliminará los tokens que no esten escritos en alfabeto latino (caracteres chinos o arabes). Los tokens que no contengan vocales tambien serán eliminados.\n",
        "\n",
        "Una vez hecho lo anterior, procedemos a tokenizar el conjunto de datos en aras de:\n",
        "\n",
        "*   Facilitar el análisis.\n",
        "*   Reducir dimensionalidad.\n",
        "*   Análisis de frecuencia.\n",
        "*   Vectorizar el conjunto de datos.\n"
      ],
      "metadata": {
        "id": "YUx_vWaWSver"
      }
    },
    {
      "cell_type": "code",
      "source": [
        "def not_latin(token):\n",
        "  latin_pattern = re.compile(r'[a-zA-Z]')\n",
        "  return len(latin_pattern.findall(token)) == 0\n",
        "\n",
        "def no_vowels(token):\n",
        "  vowels = re.compile(r'[aeiouAEIOU]')\n",
        "  return len(vowels.findall(token)) == 0\n",
        "\n",
        "def limpiar_tokenizar(texto):\n",
        "  nuevo_texto = texto.lower()\n",
        "  # Eliminación de signos de puntuación\n",
        "  regex = '[\\\\!\\\\\"\\\\#\\\\$\\\\%\\\\&\\\\\\'\\\\(\\\\)\\\\*\\\\+\\\\,\\\\-\\\\.\\\\/\\\\:\\\\;\\\\<\\\\=\\\\>\\\\?\\\\@\\\\[\\\\\\\\\\\\]\\\\^_\\\\`\\\\{\\\\|\\\\}\\\\~]'\n",
        "  nuevo_texto = re.sub(regex , ' ', nuevo_texto)\n",
        "  # Eliminación de números\n",
        "  nuevo_texto = re.sub(\"\\d+\", ' ', nuevo_texto)\n",
        "  # Eliminación de espacios en blanco múltiples\n",
        "  nuevo_texto = re.sub(\"\\\\s+\", ' ', nuevo_texto)\n",
        "  # Tokenización por palabras individuales\n",
        "  nuevo_texto = nuevo_texto.split(sep = ' ')\n",
        "  # Eliminación de tokens que no contengan vocales o que esten en alfabetos no latinos (caracteres chinos a arabes, por ejemplo)\n",
        "  nuevo_texto = [token for token in nuevo_texto if (not no_vowels(token)) and (not not_latin(token))]\n",
        "\n",
        "  return(nuevo_texto)\n",
        "\n",
        "test = \"overzicht Europees laatste tegen was voor vond officiÃ«le in De 2012, op van\"\n",
        "print(test)\n",
        "print(limpiar_tokenizar(texto=test))"
      ],
      "metadata": {
        "id": "3xvyLbN4LKqA",
        "colab": {
          "base_uri": "https://localhost:8080/"
        },
        "outputId": "1d44df9f-eb6c-49c7-c8e4-4f653ca5ee20"
      },
      "execution_count": 4,
      "outputs": [
        {
          "output_type": "stream",
          "name": "stdout",
          "text": [
            "overzicht Europees laatste tegen was voor vond officiÃ«le in De 2012, op van\n",
            "['overzicht', 'europees', 'laatste', 'tegen', 'was', 'voor', 'vond', 'officiã«le', 'in', 'de', 'op', 'van']\n"
          ]
        }
      ]
    },
    {
      "cell_type": "code",
      "source": [
        "df['tokenized_text'] = df['text'].apply(lambda x: limpiar_tokenizar(x))\n",
        "df.head(10)"
      ],
      "metadata": {
        "id": "0nbDvdZkFKHW",
        "colab": {
          "base_uri": "https://localhost:8080/",
          "height": 363
        },
        "outputId": "b7eb9fb3-792e-4bc5-dc4f-f6e346eaafa9"
      },
      "execution_count": 5,
      "outputs": [
        {
          "output_type": "execute_result",
          "data": {
            "text/plain": [
              "  lang                                               text  \\\n",
              "0   en  host with After to rugby test World system, th...   \n",
              "1   en  and Africa in permission winners,[25] of in ye...   \n",
              "2   en  President tournament wearing presenting were m...   \n",
              "3   en  The the are 'The thirty-eight reference as Ell...   \n",
              "4   en  a The Rugby In and Warrant head 'The Webb and ...   \n",
              "5   en  an high - The game engraved Crown Football two...   \n",
              "6   en  a face restored a is Ellis the Lyte.[34][35] p...   \n",
              "7   en  from the political an 1770, the New by crown a...   \n",
              "8   en  maintained On as initially eastern transportat...   \n",
              "9   en  functions a colony Wales the self-governing si...   \n",
              "\n",
              "                                      tokenized_text  \n",
              "0  [host, with, after, to, rugby, test, world, sy...  \n",
              "1  [and, africa, in, permission, winners, of, in,...  \n",
              "2  [president, tournament, wearing, presenting, w...  \n",
              "3  [the, the, are, the, thirty, eight, reference,...  \n",
              "4  [a, the, rugby, in, and, warrant, head, the, w...  \n",
              "5  [an, high, the, game, engraved, crown, footbal...  \n",
              "6  [a, face, restored, a, is, ellis, the, lyte, p...  \n",
              "7  [from, the, political, an, the, new, crown, an...  \n",
              "8  [maintained, on, as, initially, eastern, trans...  \n",
              "9  [functions, a, colony, wales, the, self, gover...  "
            ],
            "text/html": [
              "\n",
              "  <div id=\"df-aa70ca5d-816f-4188-96a5-bea88dd12188\" class=\"colab-df-container\">\n",
              "    <div>\n",
              "<style scoped>\n",
              "    .dataframe tbody tr th:only-of-type {\n",
              "        vertical-align: middle;\n",
              "    }\n",
              "\n",
              "    .dataframe tbody tr th {\n",
              "        vertical-align: top;\n",
              "    }\n",
              "\n",
              "    .dataframe thead th {\n",
              "        text-align: right;\n",
              "    }\n",
              "</style>\n",
              "<table border=\"1\" class=\"dataframe\">\n",
              "  <thead>\n",
              "    <tr style=\"text-align: right;\">\n",
              "      <th></th>\n",
              "      <th>lang</th>\n",
              "      <th>text</th>\n",
              "      <th>tokenized_text</th>\n",
              "    </tr>\n",
              "  </thead>\n",
              "  <tbody>\n",
              "    <tr>\n",
              "      <th>0</th>\n",
              "      <td>en</td>\n",
              "      <td>host with After to rugby test World system, th...</td>\n",
              "      <td>[host, with, after, to, rugby, test, world, sy...</td>\n",
              "    </tr>\n",
              "    <tr>\n",
              "      <th>1</th>\n",
              "      <td>en</td>\n",
              "      <td>and Africa in permission winners,[25] of in ye...</td>\n",
              "      <td>[and, africa, in, permission, winners, of, in,...</td>\n",
              "    </tr>\n",
              "    <tr>\n",
              "      <th>2</th>\n",
              "      <td>en</td>\n",
              "      <td>President tournament wearing presenting were m...</td>\n",
              "      <td>[president, tournament, wearing, presenting, w...</td>\n",
              "    </tr>\n",
              "    <tr>\n",
              "      <th>3</th>\n",
              "      <td>en</td>\n",
              "      <td>The the are 'The thirty-eight reference as Ell...</td>\n",
              "      <td>[the, the, are, the, thirty, eight, reference,...</td>\n",
              "    </tr>\n",
              "    <tr>\n",
              "      <th>4</th>\n",
              "      <td>en</td>\n",
              "      <td>a The Rugby In and Warrant head 'The Webb and ...</td>\n",
              "      <td>[a, the, rugby, in, and, warrant, head, the, w...</td>\n",
              "    </tr>\n",
              "    <tr>\n",
              "      <th>5</th>\n",
              "      <td>en</td>\n",
              "      <td>an high - The game engraved Crown Football two...</td>\n",
              "      <td>[an, high, the, game, engraved, crown, footbal...</td>\n",
              "    </tr>\n",
              "    <tr>\n",
              "      <th>6</th>\n",
              "      <td>en</td>\n",
              "      <td>a face restored a is Ellis the Lyte.[34][35] p...</td>\n",
              "      <td>[a, face, restored, a, is, ellis, the, lyte, p...</td>\n",
              "    </tr>\n",
              "    <tr>\n",
              "      <th>7</th>\n",
              "      <td>en</td>\n",
              "      <td>from the political an 1770, the New by crown a...</td>\n",
              "      <td>[from, the, political, an, the, new, crown, an...</td>\n",
              "    </tr>\n",
              "    <tr>\n",
              "      <th>8</th>\n",
              "      <td>en</td>\n",
              "      <td>maintained On as initially eastern transportat...</td>\n",
              "      <td>[maintained, on, as, initially, eastern, trans...</td>\n",
              "    </tr>\n",
              "    <tr>\n",
              "      <th>9</th>\n",
              "      <td>en</td>\n",
              "      <td>functions a colony Wales the self-governing si...</td>\n",
              "      <td>[functions, a, colony, wales, the, self, gover...</td>\n",
              "    </tr>\n",
              "  </tbody>\n",
              "</table>\n",
              "</div>\n",
              "    <div class=\"colab-df-buttons\">\n",
              "\n",
              "  <div class=\"colab-df-container\">\n",
              "    <button class=\"colab-df-convert\" onclick=\"convertToInteractive('df-aa70ca5d-816f-4188-96a5-bea88dd12188')\"\n",
              "            title=\"Convert this dataframe to an interactive table.\"\n",
              "            style=\"display:none;\">\n",
              "\n",
              "  <svg xmlns=\"http://www.w3.org/2000/svg\" height=\"24px\" viewBox=\"0 -960 960 960\">\n",
              "    <path d=\"M120-120v-720h720v720H120Zm60-500h600v-160H180v160Zm220 220h160v-160H400v160Zm0 220h160v-160H400v160ZM180-400h160v-160H180v160Zm440 0h160v-160H620v160ZM180-180h160v-160H180v160Zm440 0h160v-160H620v160Z\"/>\n",
              "  </svg>\n",
              "    </button>\n",
              "\n",
              "  <style>\n",
              "    .colab-df-container {\n",
              "      display:flex;\n",
              "      gap: 12px;\n",
              "    }\n",
              "\n",
              "    .colab-df-convert {\n",
              "      background-color: #E8F0FE;\n",
              "      border: none;\n",
              "      border-radius: 50%;\n",
              "      cursor: pointer;\n",
              "      display: none;\n",
              "      fill: #1967D2;\n",
              "      height: 32px;\n",
              "      padding: 0 0 0 0;\n",
              "      width: 32px;\n",
              "    }\n",
              "\n",
              "    .colab-df-convert:hover {\n",
              "      background-color: #E2EBFA;\n",
              "      box-shadow: 0px 1px 2px rgba(60, 64, 67, 0.3), 0px 1px 3px 1px rgba(60, 64, 67, 0.15);\n",
              "      fill: #174EA6;\n",
              "    }\n",
              "\n",
              "    .colab-df-buttons div {\n",
              "      margin-bottom: 4px;\n",
              "    }\n",
              "\n",
              "    [theme=dark] .colab-df-convert {\n",
              "      background-color: #3B4455;\n",
              "      fill: #D2E3FC;\n",
              "    }\n",
              "\n",
              "    [theme=dark] .colab-df-convert:hover {\n",
              "      background-color: #434B5C;\n",
              "      box-shadow: 0px 1px 3px 1px rgba(0, 0, 0, 0.15);\n",
              "      filter: drop-shadow(0px 1px 2px rgba(0, 0, 0, 0.3));\n",
              "      fill: #FFFFFF;\n",
              "    }\n",
              "  </style>\n",
              "\n",
              "    <script>\n",
              "      const buttonEl =\n",
              "        document.querySelector('#df-aa70ca5d-816f-4188-96a5-bea88dd12188 button.colab-df-convert');\n",
              "      buttonEl.style.display =\n",
              "        google.colab.kernel.accessAllowed ? 'block' : 'none';\n",
              "\n",
              "      async function convertToInteractive(key) {\n",
              "        const element = document.querySelector('#df-aa70ca5d-816f-4188-96a5-bea88dd12188');\n",
              "        const dataTable =\n",
              "          await google.colab.kernel.invokeFunction('convertToInteractive',\n",
              "                                                    [key], {});\n",
              "        if (!dataTable) return;\n",
              "\n",
              "        const docLinkHtml = 'Like what you see? Visit the ' +\n",
              "          '<a target=\"_blank\" href=https://colab.research.google.com/notebooks/data_table.ipynb>data table notebook</a>'\n",
              "          + ' to learn more about interactive tables.';\n",
              "        element.innerHTML = '';\n",
              "        dataTable['output_type'] = 'display_data';\n",
              "        await google.colab.output.renderOutput(dataTable, element);\n",
              "        const docLink = document.createElement('div');\n",
              "        docLink.innerHTML = docLinkHtml;\n",
              "        element.appendChild(docLink);\n",
              "      }\n",
              "    </script>\n",
              "  </div>\n",
              "\n",
              "\n",
              "<div id=\"df-f3de28f8-88d2-4e1e-a028-3a2d9353a50f\">\n",
              "  <button class=\"colab-df-quickchart\" onclick=\"quickchart('df-f3de28f8-88d2-4e1e-a028-3a2d9353a50f')\"\n",
              "            title=\"Suggest charts\"\n",
              "            style=\"display:none;\">\n",
              "\n",
              "<svg xmlns=\"http://www.w3.org/2000/svg\" height=\"24px\"viewBox=\"0 0 24 24\"\n",
              "     width=\"24px\">\n",
              "    <g>\n",
              "        <path d=\"M19 3H5c-1.1 0-2 .9-2 2v14c0 1.1.9 2 2 2h14c1.1 0 2-.9 2-2V5c0-1.1-.9-2-2-2zM9 17H7v-7h2v7zm4 0h-2V7h2v10zm4 0h-2v-4h2v4z\"/>\n",
              "    </g>\n",
              "</svg>\n",
              "  </button>\n",
              "\n",
              "<style>\n",
              "  .colab-df-quickchart {\n",
              "      --bg-color: #E8F0FE;\n",
              "      --fill-color: #1967D2;\n",
              "      --hover-bg-color: #E2EBFA;\n",
              "      --hover-fill-color: #174EA6;\n",
              "      --disabled-fill-color: #AAA;\n",
              "      --disabled-bg-color: #DDD;\n",
              "  }\n",
              "\n",
              "  [theme=dark] .colab-df-quickchart {\n",
              "      --bg-color: #3B4455;\n",
              "      --fill-color: #D2E3FC;\n",
              "      --hover-bg-color: #434B5C;\n",
              "      --hover-fill-color: #FFFFFF;\n",
              "      --disabled-bg-color: #3B4455;\n",
              "      --disabled-fill-color: #666;\n",
              "  }\n",
              "\n",
              "  .colab-df-quickchart {\n",
              "    background-color: var(--bg-color);\n",
              "    border: none;\n",
              "    border-radius: 50%;\n",
              "    cursor: pointer;\n",
              "    display: none;\n",
              "    fill: var(--fill-color);\n",
              "    height: 32px;\n",
              "    padding: 0;\n",
              "    width: 32px;\n",
              "  }\n",
              "\n",
              "  .colab-df-quickchart:hover {\n",
              "    background-color: var(--hover-bg-color);\n",
              "    box-shadow: 0 1px 2px rgba(60, 64, 67, 0.3), 0 1px 3px 1px rgba(60, 64, 67, 0.15);\n",
              "    fill: var(--button-hover-fill-color);\n",
              "  }\n",
              "\n",
              "  .colab-df-quickchart-complete:disabled,\n",
              "  .colab-df-quickchart-complete:disabled:hover {\n",
              "    background-color: var(--disabled-bg-color);\n",
              "    fill: var(--disabled-fill-color);\n",
              "    box-shadow: none;\n",
              "  }\n",
              "\n",
              "  .colab-df-spinner {\n",
              "    border: 2px solid var(--fill-color);\n",
              "    border-color: transparent;\n",
              "    border-bottom-color: var(--fill-color);\n",
              "    animation:\n",
              "      spin 1s steps(1) infinite;\n",
              "  }\n",
              "\n",
              "  @keyframes spin {\n",
              "    0% {\n",
              "      border-color: transparent;\n",
              "      border-bottom-color: var(--fill-color);\n",
              "      border-left-color: var(--fill-color);\n",
              "    }\n",
              "    20% {\n",
              "      border-color: transparent;\n",
              "      border-left-color: var(--fill-color);\n",
              "      border-top-color: var(--fill-color);\n",
              "    }\n",
              "    30% {\n",
              "      border-color: transparent;\n",
              "      border-left-color: var(--fill-color);\n",
              "      border-top-color: var(--fill-color);\n",
              "      border-right-color: var(--fill-color);\n",
              "    }\n",
              "    40% {\n",
              "      border-color: transparent;\n",
              "      border-right-color: var(--fill-color);\n",
              "      border-top-color: var(--fill-color);\n",
              "    }\n",
              "    60% {\n",
              "      border-color: transparent;\n",
              "      border-right-color: var(--fill-color);\n",
              "    }\n",
              "    80% {\n",
              "      border-color: transparent;\n",
              "      border-right-color: var(--fill-color);\n",
              "      border-bottom-color: var(--fill-color);\n",
              "    }\n",
              "    90% {\n",
              "      border-color: transparent;\n",
              "      border-bottom-color: var(--fill-color);\n",
              "    }\n",
              "  }\n",
              "</style>\n",
              "\n",
              "  <script>\n",
              "    async function quickchart(key) {\n",
              "      const quickchartButtonEl =\n",
              "        document.querySelector('#' + key + ' button');\n",
              "      quickchartButtonEl.disabled = true;  // To prevent multiple clicks.\n",
              "      quickchartButtonEl.classList.add('colab-df-spinner');\n",
              "      try {\n",
              "        const charts = await google.colab.kernel.invokeFunction(\n",
              "            'suggestCharts', [key], {});\n",
              "      } catch (error) {\n",
              "        console.error('Error during call to suggestCharts:', error);\n",
              "      }\n",
              "      quickchartButtonEl.classList.remove('colab-df-spinner');\n",
              "      quickchartButtonEl.classList.add('colab-df-quickchart-complete');\n",
              "    }\n",
              "    (() => {\n",
              "      let quickchartButtonEl =\n",
              "        document.querySelector('#df-f3de28f8-88d2-4e1e-a028-3a2d9353a50f button');\n",
              "      quickchartButtonEl.style.display =\n",
              "        google.colab.kernel.accessAllowed ? 'block' : 'none';\n",
              "    })();\n",
              "  </script>\n",
              "</div>\n",
              "    </div>\n",
              "  </div>\n"
            ]
          },
          "metadata": {},
          "execution_count": 5
        }
      ]
    },
    {
      "cell_type": "markdown",
      "source": [
        "Adicionalmente,  transformamos el DataFrame anidado en un formato tidy, donde cada token individual de la columna 'tokenized_text' se coloca en filas separadas. Esto, buscando facilitar el análisis y la manipulación de datos.\n",
        "\n",
        "Luego imprimimos una vista previa de las primeras 20 líneas."
      ],
      "metadata": {
        "id": "ps3PZKt-C775"
      }
    },
    {
      "cell_type": "code",
      "source": [
        "df_tidy = df.explode(column='tokenized_text')\n",
        "df_tidy = df_tidy.drop(columns='text')\n",
        "df_tidy = df_tidy.rename(columns={'tokenized_text':'token'})\n",
        "df_tidy = df_tidy.reset_index()\n",
        "df_tidy.head(20)"
      ],
      "metadata": {
        "id": "X-rF-ddcHePL",
        "colab": {
          "base_uri": "https://localhost:8080/",
          "height": 677
        },
        "outputId": "f0a2f47a-6b16-4176-cc03-0eb392be0370"
      },
      "execution_count": 6,
      "outputs": [
        {
          "output_type": "execute_result",
          "data": {
            "text/plain": [
              "    index lang       token\n",
              "0       0   en        host\n",
              "1       0   en        with\n",
              "2       0   en       after\n",
              "3       0   en          to\n",
              "4       0   en       rugby\n",
              "5       0   en        test\n",
              "6       0   en       world\n",
              "7       0   en      system\n",
              "8       0   en         the\n",
              "9       0   en   australia\n",
              "10      0   en     zealand\n",
              "11      0   en      jersey\n",
              "12      0   en    national\n",
              "13      0   en      return\n",
              "14      1   en         and\n",
              "15      1   en      africa\n",
              "16      1   en          in\n",
              "17      1   en  permission\n",
              "18      1   en     winners\n",
              "19      1   en          of"
            ],
            "text/html": [
              "\n",
              "  <div id=\"df-bffc2359-ed03-49d5-b3e3-e681e778802f\" class=\"colab-df-container\">\n",
              "    <div>\n",
              "<style scoped>\n",
              "    .dataframe tbody tr th:only-of-type {\n",
              "        vertical-align: middle;\n",
              "    }\n",
              "\n",
              "    .dataframe tbody tr th {\n",
              "        vertical-align: top;\n",
              "    }\n",
              "\n",
              "    .dataframe thead th {\n",
              "        text-align: right;\n",
              "    }\n",
              "</style>\n",
              "<table border=\"1\" class=\"dataframe\">\n",
              "  <thead>\n",
              "    <tr style=\"text-align: right;\">\n",
              "      <th></th>\n",
              "      <th>index</th>\n",
              "      <th>lang</th>\n",
              "      <th>token</th>\n",
              "    </tr>\n",
              "  </thead>\n",
              "  <tbody>\n",
              "    <tr>\n",
              "      <th>0</th>\n",
              "      <td>0</td>\n",
              "      <td>en</td>\n",
              "      <td>host</td>\n",
              "    </tr>\n",
              "    <tr>\n",
              "      <th>1</th>\n",
              "      <td>0</td>\n",
              "      <td>en</td>\n",
              "      <td>with</td>\n",
              "    </tr>\n",
              "    <tr>\n",
              "      <th>2</th>\n",
              "      <td>0</td>\n",
              "      <td>en</td>\n",
              "      <td>after</td>\n",
              "    </tr>\n",
              "    <tr>\n",
              "      <th>3</th>\n",
              "      <td>0</td>\n",
              "      <td>en</td>\n",
              "      <td>to</td>\n",
              "    </tr>\n",
              "    <tr>\n",
              "      <th>4</th>\n",
              "      <td>0</td>\n",
              "      <td>en</td>\n",
              "      <td>rugby</td>\n",
              "    </tr>\n",
              "    <tr>\n",
              "      <th>5</th>\n",
              "      <td>0</td>\n",
              "      <td>en</td>\n",
              "      <td>test</td>\n",
              "    </tr>\n",
              "    <tr>\n",
              "      <th>6</th>\n",
              "      <td>0</td>\n",
              "      <td>en</td>\n",
              "      <td>world</td>\n",
              "    </tr>\n",
              "    <tr>\n",
              "      <th>7</th>\n",
              "      <td>0</td>\n",
              "      <td>en</td>\n",
              "      <td>system</td>\n",
              "    </tr>\n",
              "    <tr>\n",
              "      <th>8</th>\n",
              "      <td>0</td>\n",
              "      <td>en</td>\n",
              "      <td>the</td>\n",
              "    </tr>\n",
              "    <tr>\n",
              "      <th>9</th>\n",
              "      <td>0</td>\n",
              "      <td>en</td>\n",
              "      <td>australia</td>\n",
              "    </tr>\n",
              "    <tr>\n",
              "      <th>10</th>\n",
              "      <td>0</td>\n",
              "      <td>en</td>\n",
              "      <td>zealand</td>\n",
              "    </tr>\n",
              "    <tr>\n",
              "      <th>11</th>\n",
              "      <td>0</td>\n",
              "      <td>en</td>\n",
              "      <td>jersey</td>\n",
              "    </tr>\n",
              "    <tr>\n",
              "      <th>12</th>\n",
              "      <td>0</td>\n",
              "      <td>en</td>\n",
              "      <td>national</td>\n",
              "    </tr>\n",
              "    <tr>\n",
              "      <th>13</th>\n",
              "      <td>0</td>\n",
              "      <td>en</td>\n",
              "      <td>return</td>\n",
              "    </tr>\n",
              "    <tr>\n",
              "      <th>14</th>\n",
              "      <td>1</td>\n",
              "      <td>en</td>\n",
              "      <td>and</td>\n",
              "    </tr>\n",
              "    <tr>\n",
              "      <th>15</th>\n",
              "      <td>1</td>\n",
              "      <td>en</td>\n",
              "      <td>africa</td>\n",
              "    </tr>\n",
              "    <tr>\n",
              "      <th>16</th>\n",
              "      <td>1</td>\n",
              "      <td>en</td>\n",
              "      <td>in</td>\n",
              "    </tr>\n",
              "    <tr>\n",
              "      <th>17</th>\n",
              "      <td>1</td>\n",
              "      <td>en</td>\n",
              "      <td>permission</td>\n",
              "    </tr>\n",
              "    <tr>\n",
              "      <th>18</th>\n",
              "      <td>1</td>\n",
              "      <td>en</td>\n",
              "      <td>winners</td>\n",
              "    </tr>\n",
              "    <tr>\n",
              "      <th>19</th>\n",
              "      <td>1</td>\n",
              "      <td>en</td>\n",
              "      <td>of</td>\n",
              "    </tr>\n",
              "  </tbody>\n",
              "</table>\n",
              "</div>\n",
              "    <div class=\"colab-df-buttons\">\n",
              "\n",
              "  <div class=\"colab-df-container\">\n",
              "    <button class=\"colab-df-convert\" onclick=\"convertToInteractive('df-bffc2359-ed03-49d5-b3e3-e681e778802f')\"\n",
              "            title=\"Convert this dataframe to an interactive table.\"\n",
              "            style=\"display:none;\">\n",
              "\n",
              "  <svg xmlns=\"http://www.w3.org/2000/svg\" height=\"24px\" viewBox=\"0 -960 960 960\">\n",
              "    <path d=\"M120-120v-720h720v720H120Zm60-500h600v-160H180v160Zm220 220h160v-160H400v160Zm0 220h160v-160H400v160ZM180-400h160v-160H180v160Zm440 0h160v-160H620v160ZM180-180h160v-160H180v160Zm440 0h160v-160H620v160Z\"/>\n",
              "  </svg>\n",
              "    </button>\n",
              "\n",
              "  <style>\n",
              "    .colab-df-container {\n",
              "      display:flex;\n",
              "      gap: 12px;\n",
              "    }\n",
              "\n",
              "    .colab-df-convert {\n",
              "      background-color: #E8F0FE;\n",
              "      border: none;\n",
              "      border-radius: 50%;\n",
              "      cursor: pointer;\n",
              "      display: none;\n",
              "      fill: #1967D2;\n",
              "      height: 32px;\n",
              "      padding: 0 0 0 0;\n",
              "      width: 32px;\n",
              "    }\n",
              "\n",
              "    .colab-df-convert:hover {\n",
              "      background-color: #E2EBFA;\n",
              "      box-shadow: 0px 1px 2px rgba(60, 64, 67, 0.3), 0px 1px 3px 1px rgba(60, 64, 67, 0.15);\n",
              "      fill: #174EA6;\n",
              "    }\n",
              "\n",
              "    .colab-df-buttons div {\n",
              "      margin-bottom: 4px;\n",
              "    }\n",
              "\n",
              "    [theme=dark] .colab-df-convert {\n",
              "      background-color: #3B4455;\n",
              "      fill: #D2E3FC;\n",
              "    }\n",
              "\n",
              "    [theme=dark] .colab-df-convert:hover {\n",
              "      background-color: #434B5C;\n",
              "      box-shadow: 0px 1px 3px 1px rgba(0, 0, 0, 0.15);\n",
              "      filter: drop-shadow(0px 1px 2px rgba(0, 0, 0, 0.3));\n",
              "      fill: #FFFFFF;\n",
              "    }\n",
              "  </style>\n",
              "\n",
              "    <script>\n",
              "      const buttonEl =\n",
              "        document.querySelector('#df-bffc2359-ed03-49d5-b3e3-e681e778802f button.colab-df-convert');\n",
              "      buttonEl.style.display =\n",
              "        google.colab.kernel.accessAllowed ? 'block' : 'none';\n",
              "\n",
              "      async function convertToInteractive(key) {\n",
              "        const element = document.querySelector('#df-bffc2359-ed03-49d5-b3e3-e681e778802f');\n",
              "        const dataTable =\n",
              "          await google.colab.kernel.invokeFunction('convertToInteractive',\n",
              "                                                    [key], {});\n",
              "        if (!dataTable) return;\n",
              "\n",
              "        const docLinkHtml = 'Like what you see? Visit the ' +\n",
              "          '<a target=\"_blank\" href=https://colab.research.google.com/notebooks/data_table.ipynb>data table notebook</a>'\n",
              "          + ' to learn more about interactive tables.';\n",
              "        element.innerHTML = '';\n",
              "        dataTable['output_type'] = 'display_data';\n",
              "        await google.colab.output.renderOutput(dataTable, element);\n",
              "        const docLink = document.createElement('div');\n",
              "        docLink.innerHTML = docLinkHtml;\n",
              "        element.appendChild(docLink);\n",
              "      }\n",
              "    </script>\n",
              "  </div>\n",
              "\n",
              "\n",
              "<div id=\"df-876f243c-6f6f-48d3-aac6-d3fe671018bb\">\n",
              "  <button class=\"colab-df-quickchart\" onclick=\"quickchart('df-876f243c-6f6f-48d3-aac6-d3fe671018bb')\"\n",
              "            title=\"Suggest charts\"\n",
              "            style=\"display:none;\">\n",
              "\n",
              "<svg xmlns=\"http://www.w3.org/2000/svg\" height=\"24px\"viewBox=\"0 0 24 24\"\n",
              "     width=\"24px\">\n",
              "    <g>\n",
              "        <path d=\"M19 3H5c-1.1 0-2 .9-2 2v14c0 1.1.9 2 2 2h14c1.1 0 2-.9 2-2V5c0-1.1-.9-2-2-2zM9 17H7v-7h2v7zm4 0h-2V7h2v10zm4 0h-2v-4h2v4z\"/>\n",
              "    </g>\n",
              "</svg>\n",
              "  </button>\n",
              "\n",
              "<style>\n",
              "  .colab-df-quickchart {\n",
              "      --bg-color: #E8F0FE;\n",
              "      --fill-color: #1967D2;\n",
              "      --hover-bg-color: #E2EBFA;\n",
              "      --hover-fill-color: #174EA6;\n",
              "      --disabled-fill-color: #AAA;\n",
              "      --disabled-bg-color: #DDD;\n",
              "  }\n",
              "\n",
              "  [theme=dark] .colab-df-quickchart {\n",
              "      --bg-color: #3B4455;\n",
              "      --fill-color: #D2E3FC;\n",
              "      --hover-bg-color: #434B5C;\n",
              "      --hover-fill-color: #FFFFFF;\n",
              "      --disabled-bg-color: #3B4455;\n",
              "      --disabled-fill-color: #666;\n",
              "  }\n",
              "\n",
              "  .colab-df-quickchart {\n",
              "    background-color: var(--bg-color);\n",
              "    border: none;\n",
              "    border-radius: 50%;\n",
              "    cursor: pointer;\n",
              "    display: none;\n",
              "    fill: var(--fill-color);\n",
              "    height: 32px;\n",
              "    padding: 0;\n",
              "    width: 32px;\n",
              "  }\n",
              "\n",
              "  .colab-df-quickchart:hover {\n",
              "    background-color: var(--hover-bg-color);\n",
              "    box-shadow: 0 1px 2px rgba(60, 64, 67, 0.3), 0 1px 3px 1px rgba(60, 64, 67, 0.15);\n",
              "    fill: var(--button-hover-fill-color);\n",
              "  }\n",
              "\n",
              "  .colab-df-quickchart-complete:disabled,\n",
              "  .colab-df-quickchart-complete:disabled:hover {\n",
              "    background-color: var(--disabled-bg-color);\n",
              "    fill: var(--disabled-fill-color);\n",
              "    box-shadow: none;\n",
              "  }\n",
              "\n",
              "  .colab-df-spinner {\n",
              "    border: 2px solid var(--fill-color);\n",
              "    border-color: transparent;\n",
              "    border-bottom-color: var(--fill-color);\n",
              "    animation:\n",
              "      spin 1s steps(1) infinite;\n",
              "  }\n",
              "\n",
              "  @keyframes spin {\n",
              "    0% {\n",
              "      border-color: transparent;\n",
              "      border-bottom-color: var(--fill-color);\n",
              "      border-left-color: var(--fill-color);\n",
              "    }\n",
              "    20% {\n",
              "      border-color: transparent;\n",
              "      border-left-color: var(--fill-color);\n",
              "      border-top-color: var(--fill-color);\n",
              "    }\n",
              "    30% {\n",
              "      border-color: transparent;\n",
              "      border-left-color: var(--fill-color);\n",
              "      border-top-color: var(--fill-color);\n",
              "      border-right-color: var(--fill-color);\n",
              "    }\n",
              "    40% {\n",
              "      border-color: transparent;\n",
              "      border-right-color: var(--fill-color);\n",
              "      border-top-color: var(--fill-color);\n",
              "    }\n",
              "    60% {\n",
              "      border-color: transparent;\n",
              "      border-right-color: var(--fill-color);\n",
              "    }\n",
              "    80% {\n",
              "      border-color: transparent;\n",
              "      border-right-color: var(--fill-color);\n",
              "      border-bottom-color: var(--fill-color);\n",
              "    }\n",
              "    90% {\n",
              "      border-color: transparent;\n",
              "      border-bottom-color: var(--fill-color);\n",
              "    }\n",
              "  }\n",
              "</style>\n",
              "\n",
              "  <script>\n",
              "    async function quickchart(key) {\n",
              "      const quickchartButtonEl =\n",
              "        document.querySelector('#' + key + ' button');\n",
              "      quickchartButtonEl.disabled = true;  // To prevent multiple clicks.\n",
              "      quickchartButtonEl.classList.add('colab-df-spinner');\n",
              "      try {\n",
              "        const charts = await google.colab.kernel.invokeFunction(\n",
              "            'suggestCharts', [key], {});\n",
              "      } catch (error) {\n",
              "        console.error('Error during call to suggestCharts:', error);\n",
              "      }\n",
              "      quickchartButtonEl.classList.remove('colab-df-spinner');\n",
              "      quickchartButtonEl.classList.add('colab-df-quickchart-complete');\n",
              "    }\n",
              "    (() => {\n",
              "      let quickchartButtonEl =\n",
              "        document.querySelector('#df-876f243c-6f6f-48d3-aac6-d3fe671018bb button');\n",
              "      quickchartButtonEl.style.display =\n",
              "        google.colab.kernel.accessAllowed ? 'block' : 'none';\n",
              "    })();\n",
              "  </script>\n",
              "</div>\n",
              "    </div>\n",
              "  </div>\n"
            ]
          },
          "metadata": {},
          "execution_count": 6
        }
      ]
    },
    {
      "cell_type": "markdown",
      "source": [
        "# Análisis de frecuencia"
      ],
      "metadata": {
        "id": "wpxZRPOyOxWs"
      }
    },
    {
      "cell_type": "markdown",
      "source": [
        " Realizamos un análisis de frecuencia en los datos tokenizados para cada idioma ('lang'), identificando los 10 tokens más frecuentes para posteriormente mostrar el resultado en un formato tidy, donde cada fila representa un token con su frecuencia y el idioma al que pertenece."
      ],
      "metadata": {
        "id": "ehqViMyxDbsw"
      }
    },
    {
      "cell_type": "code",
      "source": [
        "# Top 10 palabras más utilizadas en cada idioma\n",
        "# ==============================================================================\n",
        "df_tidy.groupby(['lang','token'])['token'] \\\n",
        " .count() \\\n",
        " .reset_index(name='count') \\\n",
        " .groupby('lang') \\\n",
        " .apply(lambda x: x.sort_values('count', ascending=False).head(10))"
      ],
      "metadata": {
        "id": "xHhw5AdoO2Ay",
        "colab": {
          "base_uri": "https://localhost:8080/",
          "height": 708
        },
        "outputId": "1716f61b-0f23-4992-df91-289cc02870d5"
      },
      "execution_count": 7,
      "outputs": [
        {
          "output_type": "execute_result",
          "data": {
            "text/plain": [
              "          lang token  count\n",
              "lang                       \n",
              "en   2493   en   the    616\n",
              "     1741   en    of    288\n",
              "     113    en   and    262\n",
              "     1200   en    in    226\n",
              "     0      en     a    185\n",
              "     2528   en    to    138\n",
              "     1282   en    is    112\n",
              "     2679   en   was    104\n",
              "     168    en    as     89\n",
              "     955    en   for     68\n",
              "nl   3267   nl    de    589\n",
              "     5125   nl   van    307\n",
              "     3851   nl    in    280\n",
              "     3770   nl   het    240\n",
              "     3389   nl   een    217\n",
              "     3425   nl    en    203\n",
              "     3893   nl    is    141\n",
              "     5284   nl  voor    102\n",
              "     4452   nl    op     94\n",
              "     5464   nl  zijn     91"
            ],
            "text/html": [
              "\n",
              "  <div id=\"df-41b5e7c1-bcf2-4c6d-93cb-1b28d4af6f8a\" class=\"colab-df-container\">\n",
              "    <div>\n",
              "<style scoped>\n",
              "    .dataframe tbody tr th:only-of-type {\n",
              "        vertical-align: middle;\n",
              "    }\n",
              "\n",
              "    .dataframe tbody tr th {\n",
              "        vertical-align: top;\n",
              "    }\n",
              "\n",
              "    .dataframe thead th {\n",
              "        text-align: right;\n",
              "    }\n",
              "</style>\n",
              "<table border=\"1\" class=\"dataframe\">\n",
              "  <thead>\n",
              "    <tr style=\"text-align: right;\">\n",
              "      <th></th>\n",
              "      <th></th>\n",
              "      <th>lang</th>\n",
              "      <th>token</th>\n",
              "      <th>count</th>\n",
              "    </tr>\n",
              "    <tr>\n",
              "      <th>lang</th>\n",
              "      <th></th>\n",
              "      <th></th>\n",
              "      <th></th>\n",
              "      <th></th>\n",
              "    </tr>\n",
              "  </thead>\n",
              "  <tbody>\n",
              "    <tr>\n",
              "      <th rowspan=\"10\" valign=\"top\">en</th>\n",
              "      <th>2493</th>\n",
              "      <td>en</td>\n",
              "      <td>the</td>\n",
              "      <td>616</td>\n",
              "    </tr>\n",
              "    <tr>\n",
              "      <th>1741</th>\n",
              "      <td>en</td>\n",
              "      <td>of</td>\n",
              "      <td>288</td>\n",
              "    </tr>\n",
              "    <tr>\n",
              "      <th>113</th>\n",
              "      <td>en</td>\n",
              "      <td>and</td>\n",
              "      <td>262</td>\n",
              "    </tr>\n",
              "    <tr>\n",
              "      <th>1200</th>\n",
              "      <td>en</td>\n",
              "      <td>in</td>\n",
              "      <td>226</td>\n",
              "    </tr>\n",
              "    <tr>\n",
              "      <th>0</th>\n",
              "      <td>en</td>\n",
              "      <td>a</td>\n",
              "      <td>185</td>\n",
              "    </tr>\n",
              "    <tr>\n",
              "      <th>2528</th>\n",
              "      <td>en</td>\n",
              "      <td>to</td>\n",
              "      <td>138</td>\n",
              "    </tr>\n",
              "    <tr>\n",
              "      <th>1282</th>\n",
              "      <td>en</td>\n",
              "      <td>is</td>\n",
              "      <td>112</td>\n",
              "    </tr>\n",
              "    <tr>\n",
              "      <th>2679</th>\n",
              "      <td>en</td>\n",
              "      <td>was</td>\n",
              "      <td>104</td>\n",
              "    </tr>\n",
              "    <tr>\n",
              "      <th>168</th>\n",
              "      <td>en</td>\n",
              "      <td>as</td>\n",
              "      <td>89</td>\n",
              "    </tr>\n",
              "    <tr>\n",
              "      <th>955</th>\n",
              "      <td>en</td>\n",
              "      <td>for</td>\n",
              "      <td>68</td>\n",
              "    </tr>\n",
              "    <tr>\n",
              "      <th rowspan=\"10\" valign=\"top\">nl</th>\n",
              "      <th>3267</th>\n",
              "      <td>nl</td>\n",
              "      <td>de</td>\n",
              "      <td>589</td>\n",
              "    </tr>\n",
              "    <tr>\n",
              "      <th>5125</th>\n",
              "      <td>nl</td>\n",
              "      <td>van</td>\n",
              "      <td>307</td>\n",
              "    </tr>\n",
              "    <tr>\n",
              "      <th>3851</th>\n",
              "      <td>nl</td>\n",
              "      <td>in</td>\n",
              "      <td>280</td>\n",
              "    </tr>\n",
              "    <tr>\n",
              "      <th>3770</th>\n",
              "      <td>nl</td>\n",
              "      <td>het</td>\n",
              "      <td>240</td>\n",
              "    </tr>\n",
              "    <tr>\n",
              "      <th>3389</th>\n",
              "      <td>nl</td>\n",
              "      <td>een</td>\n",
              "      <td>217</td>\n",
              "    </tr>\n",
              "    <tr>\n",
              "      <th>3425</th>\n",
              "      <td>nl</td>\n",
              "      <td>en</td>\n",
              "      <td>203</td>\n",
              "    </tr>\n",
              "    <tr>\n",
              "      <th>3893</th>\n",
              "      <td>nl</td>\n",
              "      <td>is</td>\n",
              "      <td>141</td>\n",
              "    </tr>\n",
              "    <tr>\n",
              "      <th>5284</th>\n",
              "      <td>nl</td>\n",
              "      <td>voor</td>\n",
              "      <td>102</td>\n",
              "    </tr>\n",
              "    <tr>\n",
              "      <th>4452</th>\n",
              "      <td>nl</td>\n",
              "      <td>op</td>\n",
              "      <td>94</td>\n",
              "    </tr>\n",
              "    <tr>\n",
              "      <th>5464</th>\n",
              "      <td>nl</td>\n",
              "      <td>zijn</td>\n",
              "      <td>91</td>\n",
              "    </tr>\n",
              "  </tbody>\n",
              "</table>\n",
              "</div>\n",
              "    <div class=\"colab-df-buttons\">\n",
              "\n",
              "  <div class=\"colab-df-container\">\n",
              "    <button class=\"colab-df-convert\" onclick=\"convertToInteractive('df-41b5e7c1-bcf2-4c6d-93cb-1b28d4af6f8a')\"\n",
              "            title=\"Convert this dataframe to an interactive table.\"\n",
              "            style=\"display:none;\">\n",
              "\n",
              "  <svg xmlns=\"http://www.w3.org/2000/svg\" height=\"24px\" viewBox=\"0 -960 960 960\">\n",
              "    <path d=\"M120-120v-720h720v720H120Zm60-500h600v-160H180v160Zm220 220h160v-160H400v160Zm0 220h160v-160H400v160ZM180-400h160v-160H180v160Zm440 0h160v-160H620v160ZM180-180h160v-160H180v160Zm440 0h160v-160H620v160Z\"/>\n",
              "  </svg>\n",
              "    </button>\n",
              "\n",
              "  <style>\n",
              "    .colab-df-container {\n",
              "      display:flex;\n",
              "      gap: 12px;\n",
              "    }\n",
              "\n",
              "    .colab-df-convert {\n",
              "      background-color: #E8F0FE;\n",
              "      border: none;\n",
              "      border-radius: 50%;\n",
              "      cursor: pointer;\n",
              "      display: none;\n",
              "      fill: #1967D2;\n",
              "      height: 32px;\n",
              "      padding: 0 0 0 0;\n",
              "      width: 32px;\n",
              "    }\n",
              "\n",
              "    .colab-df-convert:hover {\n",
              "      background-color: #E2EBFA;\n",
              "      box-shadow: 0px 1px 2px rgba(60, 64, 67, 0.3), 0px 1px 3px 1px rgba(60, 64, 67, 0.15);\n",
              "      fill: #174EA6;\n",
              "    }\n",
              "\n",
              "    .colab-df-buttons div {\n",
              "      margin-bottom: 4px;\n",
              "    }\n",
              "\n",
              "    [theme=dark] .colab-df-convert {\n",
              "      background-color: #3B4455;\n",
              "      fill: #D2E3FC;\n",
              "    }\n",
              "\n",
              "    [theme=dark] .colab-df-convert:hover {\n",
              "      background-color: #434B5C;\n",
              "      box-shadow: 0px 1px 3px 1px rgba(0, 0, 0, 0.15);\n",
              "      filter: drop-shadow(0px 1px 2px rgba(0, 0, 0, 0.3));\n",
              "      fill: #FFFFFF;\n",
              "    }\n",
              "  </style>\n",
              "\n",
              "    <script>\n",
              "      const buttonEl =\n",
              "        document.querySelector('#df-41b5e7c1-bcf2-4c6d-93cb-1b28d4af6f8a button.colab-df-convert');\n",
              "      buttonEl.style.display =\n",
              "        google.colab.kernel.accessAllowed ? 'block' : 'none';\n",
              "\n",
              "      async function convertToInteractive(key) {\n",
              "        const element = document.querySelector('#df-41b5e7c1-bcf2-4c6d-93cb-1b28d4af6f8a');\n",
              "        const dataTable =\n",
              "          await google.colab.kernel.invokeFunction('convertToInteractive',\n",
              "                                                    [key], {});\n",
              "        if (!dataTable) return;\n",
              "\n",
              "        const docLinkHtml = 'Like what you see? Visit the ' +\n",
              "          '<a target=\"_blank\" href=https://colab.research.google.com/notebooks/data_table.ipynb>data table notebook</a>'\n",
              "          + ' to learn more about interactive tables.';\n",
              "        element.innerHTML = '';\n",
              "        dataTable['output_type'] = 'display_data';\n",
              "        await google.colab.output.renderOutput(dataTable, element);\n",
              "        const docLink = document.createElement('div');\n",
              "        docLink.innerHTML = docLinkHtml;\n",
              "        element.appendChild(docLink);\n",
              "      }\n",
              "    </script>\n",
              "  </div>\n",
              "\n",
              "\n",
              "<div id=\"df-ce6682f4-2de7-4c55-b3a0-2a0013e96724\">\n",
              "  <button class=\"colab-df-quickchart\" onclick=\"quickchart('df-ce6682f4-2de7-4c55-b3a0-2a0013e96724')\"\n",
              "            title=\"Suggest charts\"\n",
              "            style=\"display:none;\">\n",
              "\n",
              "<svg xmlns=\"http://www.w3.org/2000/svg\" height=\"24px\"viewBox=\"0 0 24 24\"\n",
              "     width=\"24px\">\n",
              "    <g>\n",
              "        <path d=\"M19 3H5c-1.1 0-2 .9-2 2v14c0 1.1.9 2 2 2h14c1.1 0 2-.9 2-2V5c0-1.1-.9-2-2-2zM9 17H7v-7h2v7zm4 0h-2V7h2v10zm4 0h-2v-4h2v4z\"/>\n",
              "    </g>\n",
              "</svg>\n",
              "  </button>\n",
              "\n",
              "<style>\n",
              "  .colab-df-quickchart {\n",
              "      --bg-color: #E8F0FE;\n",
              "      --fill-color: #1967D2;\n",
              "      --hover-bg-color: #E2EBFA;\n",
              "      --hover-fill-color: #174EA6;\n",
              "      --disabled-fill-color: #AAA;\n",
              "      --disabled-bg-color: #DDD;\n",
              "  }\n",
              "\n",
              "  [theme=dark] .colab-df-quickchart {\n",
              "      --bg-color: #3B4455;\n",
              "      --fill-color: #D2E3FC;\n",
              "      --hover-bg-color: #434B5C;\n",
              "      --hover-fill-color: #FFFFFF;\n",
              "      --disabled-bg-color: #3B4455;\n",
              "      --disabled-fill-color: #666;\n",
              "  }\n",
              "\n",
              "  .colab-df-quickchart {\n",
              "    background-color: var(--bg-color);\n",
              "    border: none;\n",
              "    border-radius: 50%;\n",
              "    cursor: pointer;\n",
              "    display: none;\n",
              "    fill: var(--fill-color);\n",
              "    height: 32px;\n",
              "    padding: 0;\n",
              "    width: 32px;\n",
              "  }\n",
              "\n",
              "  .colab-df-quickchart:hover {\n",
              "    background-color: var(--hover-bg-color);\n",
              "    box-shadow: 0 1px 2px rgba(60, 64, 67, 0.3), 0 1px 3px 1px rgba(60, 64, 67, 0.15);\n",
              "    fill: var(--button-hover-fill-color);\n",
              "  }\n",
              "\n",
              "  .colab-df-quickchart-complete:disabled,\n",
              "  .colab-df-quickchart-complete:disabled:hover {\n",
              "    background-color: var(--disabled-bg-color);\n",
              "    fill: var(--disabled-fill-color);\n",
              "    box-shadow: none;\n",
              "  }\n",
              "\n",
              "  .colab-df-spinner {\n",
              "    border: 2px solid var(--fill-color);\n",
              "    border-color: transparent;\n",
              "    border-bottom-color: var(--fill-color);\n",
              "    animation:\n",
              "      spin 1s steps(1) infinite;\n",
              "  }\n",
              "\n",
              "  @keyframes spin {\n",
              "    0% {\n",
              "      border-color: transparent;\n",
              "      border-bottom-color: var(--fill-color);\n",
              "      border-left-color: var(--fill-color);\n",
              "    }\n",
              "    20% {\n",
              "      border-color: transparent;\n",
              "      border-left-color: var(--fill-color);\n",
              "      border-top-color: var(--fill-color);\n",
              "    }\n",
              "    30% {\n",
              "      border-color: transparent;\n",
              "      border-left-color: var(--fill-color);\n",
              "      border-top-color: var(--fill-color);\n",
              "      border-right-color: var(--fill-color);\n",
              "    }\n",
              "    40% {\n",
              "      border-color: transparent;\n",
              "      border-right-color: var(--fill-color);\n",
              "      border-top-color: var(--fill-color);\n",
              "    }\n",
              "    60% {\n",
              "      border-color: transparent;\n",
              "      border-right-color: var(--fill-color);\n",
              "    }\n",
              "    80% {\n",
              "      border-color: transparent;\n",
              "      border-right-color: var(--fill-color);\n",
              "      border-bottom-color: var(--fill-color);\n",
              "    }\n",
              "    90% {\n",
              "      border-color: transparent;\n",
              "      border-bottom-color: var(--fill-color);\n",
              "    }\n",
              "  }\n",
              "</style>\n",
              "\n",
              "  <script>\n",
              "    async function quickchart(key) {\n",
              "      const quickchartButtonEl =\n",
              "        document.querySelector('#' + key + ' button');\n",
              "      quickchartButtonEl.disabled = true;  // To prevent multiple clicks.\n",
              "      quickchartButtonEl.classList.add('colab-df-spinner');\n",
              "      try {\n",
              "        const charts = await google.colab.kernel.invokeFunction(\n",
              "            'suggestCharts', [key], {});\n",
              "      } catch (error) {\n",
              "        console.error('Error during call to suggestCharts:', error);\n",
              "      }\n",
              "      quickchartButtonEl.classList.remove('colab-df-spinner');\n",
              "      quickchartButtonEl.classList.add('colab-df-quickchart-complete');\n",
              "    }\n",
              "    (() => {\n",
              "      let quickchartButtonEl =\n",
              "        document.querySelector('#df-ce6682f4-2de7-4c55-b3a0-2a0013e96724 button');\n",
              "      quickchartButtonEl.style.display =\n",
              "        google.colab.kernel.accessAllowed ? 'block' : 'none';\n",
              "    })();\n",
              "  </script>\n",
              "</div>\n",
              "    </div>\n",
              "  </div>\n"
            ]
          },
          "metadata": {},
          "execution_count": 7
        }
      ]
    },
    {
      "cell_type": "code",
      "source": [
        "#@title Recuento total de palabras por idioma\n",
        "word_count = df_tidy.groupby('lang')['token'].count()\n",
        "\n",
        "# Crear la tabla gráfica\n",
        "fig, ax = plt.subplots(figsize=(6, 4))\n",
        "colors = ['red', 'green']  # Colores para las categorías 'en' y 'nl'\n",
        "word_count.plot(kind='bar', ax=ax, color=colors)\n",
        "ax.set_xlabel('Idioma')\n",
        "ax.set_ylabel('Recuento de palabras')\n",
        "ax.set_title('Recuento total de palabras por idioma')\n",
        "\n",
        "# Mostrar la tabla gráfica\n",
        "plt.show()\n",
        "\n",
        "print('--------------------------')\n",
        "print('Palabras totales por idioma 👇')\n",
        "print('--------------------------')\n",
        "df_tidy.groupby(by='lang')['token'].count()"
      ],
      "metadata": {
        "id": "Qlw32CR1RtmX",
        "colab": {
          "base_uri": "https://localhost:8080/",
          "height": 535
        },
        "outputId": "4b8a2412-9256-4004-930b-11f89ac4720b"
      },
      "execution_count": 8,
      "outputs": [
        {
          "output_type": "display_data",
          "data": {
            "text/plain": [
              "<Figure size 600x400 with 1 Axes>"
            ],
            "image/png": "[encoded data removed]"
          },
          "metadata": {}
        },
        {
          "output_type": "stream",
          "name": "stdout",
          "text": [
            "--------------------------\n",
            "Palabras totales por idioma 👇\n",
            "--------------------------\n"
          ]
        },
        {
          "output_type": "execute_result",
          "data": {
            "text/plain": [
              "lang\n",
              "en    7763\n",
              "nl    7790\n",
              "Name: token, dtype: int64"
            ]
          },
          "metadata": {},
          "execution_count": 8
        }
      ]
    },
    {
      "cell_type": "code",
      "source": [
        "# Palabras distintas utilizadas\n",
        "# ==============================================================================\n",
        "print('----------------------------')\n",
        "print('Palabras distintas por idioma')\n",
        "print('----------------------------')\n",
        "df_tidy.groupby(by='lang')['token'].nunique()"
      ],
      "metadata": {
        "id": "VPDgY74MTOMz",
        "colab": {
          "base_uri": "https://localhost:8080/"
        },
        "outputId": "7b0ee01a-d269-4deb-9f0d-5ce0a18e2aad"
      },
      "execution_count": 9,
      "outputs": [
        {
          "output_type": "stream",
          "name": "stdout",
          "text": [
            "----------------------------\n",
            "Palabras distintas por idioma\n",
            "----------------------------\n"
          ]
        },
        {
          "output_type": "execute_result",
          "data": {
            "text/plain": [
              "lang\n",
              "en    2778\n",
              "nl    2729\n",
              "Name: token, dtype: int64"
            ]
          },
          "metadata": {},
          "execution_count": 9
        }
      ]
    },
    {
      "cell_type": "code",
      "source": [
        "# Número de palabras comunes entre idiomas\n",
        "# ==============================================================================\n",
        "palabras_en = set(df_tidy[df_tidy.lang == 'en']['token'])\n",
        "palabras_nl = set(df_tidy[df_tidy.lang == 'nl']['token'])\n",
        "\n",
        "print(f\"Palabras comunes entre los dos idiomas: {len(palabras_en.intersection(palabras_nl))}\")"
      ],
      "metadata": {
        "id": "sSKV0ytvVo_m",
        "colab": {
          "base_uri": "https://localhost:8080/"
        },
        "outputId": "2d79ccad-fb5d-4503-9df1-be07e2b6769a"
      },
      "execution_count": 10,
      "outputs": [
        {
          "output_type": "stream",
          "name": "stdout",
          "text": [
            "Palabras comunes entre los dos idiomas: 159\n"
          ]
        }
      ]
    },
    {
      "cell_type": "markdown",
      "source": [
        "**Comparación en el uso de palabras**\n",
        "\n",
        "En el DataFrame mostrado:\n",
        "\n",
        "**en y nl:** La probabilidad estimada de que la palabra aparezca en la categoría en y nl\n",
        "\n",
        "**log_odds:** El logaritmo de la razón de probabilidades (log odds ratio) de la palabra entre las categorías \"en\" y \"nl\".\n",
        "\n",
        "**abs_log_odds:** Este valor representa la magnitud de la diferencia en la probabilidad de la palabra entre las categorías.\n",
        "\n",
        "**idioma frecuente:** La categoría en la que la palabra es más frecuente según el log odds ratio. \"en\" indica que la palabra es más frecuente en el idioma inglés, y nl indica que es más frecuente en el idioma neerlandés.\n",
        "\n",
        "Los valores positivos indican una asociación más fuerte con el idioma inglés, mientras que los valores negativos indican una asociación más fuerte con el idioma neerlandés.\n",
        "\n",
        "Una forma de hacer este análisis es mediante el log of odds ratio de las frecuencias. Esta comparación se hace por pares, en este caso se comparan en y nl."
      ],
      "metadata": {
        "id": "7_SYhz0uZGH_"
      }
    },
    {
      "cell_type": "code",
      "source": [
        "# Cálculo del log of odds ratio de cada palabra (en vs nl)\n",
        "# ==============================================================================\n",
        "# Pivotaje y despivotaje\n",
        "df_pivot = df_tidy.groupby([\"lang\",\"token\"])[\"token\"] \\\n",
        "                .agg([\"count\"]).reset_index() \\\n",
        "                .pivot(index = \"token\" , columns=\"lang\", values= \"count\")\n",
        "\n",
        "df_pivot = df_pivot.fillna(value=0)\n",
        "df_pivot.columns.name = None\n",
        "\n",
        "df_unpivot = df_pivot.melt(value_name='n', var_name='lang', ignore_index=False)\n",
        "df_unpivot = df_unpivot.reset_index()\n",
        "\n",
        "# Selección de los idiomas en y nl\n",
        "df_unpivot = df_unpivot[df_unpivot.lang.isin(['en', 'nl'])]\n",
        "\n",
        "# Se añade el total de palabras de cada idioma\n",
        "df_unpivot = df_unpivot.merge(\n",
        "                    df_tidy.groupby('lang')['token'].count().rename('N'),\n",
        "                    how = 'left',\n",
        "                    on  = 'lang'\n",
        "                 )\n",
        "\n",
        "# Cálculo de odds y log of odds de cada palabra\n",
        "df_logOdds = df_unpivot.copy()\n",
        "df_logOdds['odds'] = (df_logOdds.n + 1) / (df_logOdds.N + 1)\n",
        "df_logOdds = df_logOdds[['token', 'lang', 'odds']] \\\n",
        "                    .pivot(index='token', columns='lang', values='odds')\n",
        "df_logOdds.columns.name = None\n",
        "\n",
        "df_logOdds['log_odds']     = np.log(df_logOdds.en/df_logOdds.nl)\n",
        "df_logOdds['abs_log_odds'] = np.abs(df_logOdds.log_odds)\n",
        "\n",
        "# Si el logaritmo de odds es mayor que cero, significa que es una palabra con\n",
        "# mayor probabilidad de pertenecer al ingles. Esto es así porque el ratio sea ha\n",
        "# calculado como en/nl.\n",
        "df_logOdds['idioma_frecuente'] = np.where(df_logOdds.log_odds > 0,\n",
        "                                              \"en\",\n",
        "                                              \"nl\"\n",
        "                                    )"
      ],
      "metadata": {
        "id": "lqCj-QMrZ3iI"
      },
      "execution_count": 11,
      "outputs": []
    },
    {
      "cell_type": "code",
      "source": [
        "print('-----------------------------------')\n",
        "print('Top 10 palabras más diferenciadoras')\n",
        "print('-----------------------------------')\n",
        "df_logOdds.sort_values('abs_log_odds', ascending=False).head(10)"
      ],
      "metadata": {
        "id": "QcdZo78pexon",
        "colab": {
          "base_uri": "https://localhost:8080/",
          "height": 446
        },
        "outputId": "61b5b667-3357-4fa2-96c7-a1600de13da2"
      },
      "execution_count": 12,
      "outputs": [
        {
          "output_type": "stream",
          "name": "stdout",
          "text": [
            "-----------------------------------\n",
            "Top 10 palabras más diferenciadoras\n",
            "-----------------------------------\n"
          ]
        },
        {
          "output_type": "execute_result",
          "data": {
            "text/plain": [
              "             en        nl  log_odds  abs_log_odds idioma_frecuente\n",
              "token                                                             \n",
              "het    0.000129  0.030933 -5.481325      5.481325               nl\n",
              "een    0.000129  0.027981 -5.381024      5.381024               nl\n",
              "van    0.000258  0.039533 -5.033481      5.033481               nl\n",
              "to     0.017903  0.000128  4.937945      4.937945               en\n",
              "voor   0.000129  0.013220 -4.631257      4.631257               nl\n",
              "en     0.000258  0.026184 -4.621501      4.621501               nl\n",
              "op     0.000129  0.012194 -4.550405      4.550405               nl\n",
              "zijn   0.000129  0.011808 -4.518317      4.518317               nl\n",
              "as     0.011592  0.000128  4.503281      4.503281               en\n",
              "and    0.033874  0.000385  4.477013      4.477013               en"
            ],
            "text/html": [
              "\n",
              "  <div id=\"df-cd516b40-82ec-4064-ad2a-6ce9ad5b99d2\" class=\"colab-df-container\">\n",
              "    <div>\n",
              "<style scoped>\n",
              "    .dataframe tbody tr th:only-of-type {\n",
              "        vertical-align: middle;\n",
              "    }\n",
              "\n",
              "    .dataframe tbody tr th {\n",
              "        vertical-align: top;\n",
              "    }\n",
              "\n",
              "    .dataframe thead th {\n",
              "        text-align: right;\n",
              "    }\n",
              "</style>\n",
              "<table border=\"1\" class=\"dataframe\">\n",
              "  <thead>\n",
              "    <tr style=\"text-align: right;\">\n",
              "      <th></th>\n",
              "      <th>en</th>\n",
              "      <th>nl</th>\n",
              "      <th>log_odds</th>\n",
              "      <th>abs_log_odds</th>\n",
              "      <th>idioma_frecuente</th>\n",
              "    </tr>\n",
              "    <tr>\n",
              "      <th>token</th>\n",
              "      <th></th>\n",
              "      <th></th>\n",
              "      <th></th>\n",
              "      <th></th>\n",
              "      <th></th>\n",
              "    </tr>\n",
              "  </thead>\n",
              "  <tbody>\n",
              "    <tr>\n",
              "      <th>het</th>\n",
              "      <td>0.000129</td>\n",
              "      <td>0.030933</td>\n",
              "      <td>-5.481325</td>\n",
              "      <td>5.481325</td>\n",
              "      <td>nl</td>\n",
              "    </tr>\n",
              "    <tr>\n",
              "      <th>een</th>\n",
              "      <td>0.000129</td>\n",
              "      <td>0.027981</td>\n",
              "      <td>-5.381024</td>\n",
              "      <td>5.381024</td>\n",
              "      <td>nl</td>\n",
              "    </tr>\n",
              "    <tr>\n",
              "      <th>van</th>\n",
              "      <td>0.000258</td>\n",
              "      <td>0.039533</td>\n",
              "      <td>-5.033481</td>\n",
              "      <td>5.033481</td>\n",
              "      <td>nl</td>\n",
              "    </tr>\n",
              "    <tr>\n",
              "      <th>to</th>\n",
              "      <td>0.017903</td>\n",
              "      <td>0.000128</td>\n",
              "      <td>4.937945</td>\n",
              "      <td>4.937945</td>\n",
              "      <td>en</td>\n",
              "    </tr>\n",
              "    <tr>\n",
              "      <th>voor</th>\n",
              "      <td>0.000129</td>\n",
              "      <td>0.013220</td>\n",
              "      <td>-4.631257</td>\n",
              "      <td>4.631257</td>\n",
              "      <td>nl</td>\n",
              "    </tr>\n",
              "    <tr>\n",
              "      <th>en</th>\n",
              "      <td>0.000258</td>\n",
              "      <td>0.026184</td>\n",
              "      <td>-4.621501</td>\n",
              "      <td>4.621501</td>\n",
              "      <td>nl</td>\n",
              "    </tr>\n",
              "    <tr>\n",
              "      <th>op</th>\n",
              "      <td>0.000129</td>\n",
              "      <td>0.012194</td>\n",
              "      <td>-4.550405</td>\n",
              "      <td>4.550405</td>\n",
              "      <td>nl</td>\n",
              "    </tr>\n",
              "    <tr>\n",
              "      <th>zijn</th>\n",
              "      <td>0.000129</td>\n",
              "      <td>0.011808</td>\n",
              "      <td>-4.518317</td>\n",
              "      <td>4.518317</td>\n",
              "      <td>nl</td>\n",
              "    </tr>\n",
              "    <tr>\n",
              "      <th>as</th>\n",
              "      <td>0.011592</td>\n",
              "      <td>0.000128</td>\n",
              "      <td>4.503281</td>\n",
              "      <td>4.503281</td>\n",
              "      <td>en</td>\n",
              "    </tr>\n",
              "    <tr>\n",
              "      <th>and</th>\n",
              "      <td>0.033874</td>\n",
              "      <td>0.000385</td>\n",
              "      <td>4.477013</td>\n",
              "      <td>4.477013</td>\n",
              "      <td>en</td>\n",
              "    </tr>\n",
              "  </tbody>\n",
              "</table>\n",
              "</div>\n",
              "    <div class=\"colab-df-buttons\">\n",
              "\n",
              "  <div class=\"colab-df-container\">\n",
              "    <button class=\"colab-df-convert\" onclick=\"convertToInteractive('df-cd516b40-82ec-4064-ad2a-6ce9ad5b99d2')\"\n",
              "            title=\"Convert this dataframe to an interactive table.\"\n",
              "            style=\"display:none;\">\n",
              "\n",
              "  <svg xmlns=\"http://www.w3.org/2000/svg\" height=\"24px\" viewBox=\"0 -960 960 960\">\n",
              "    <path d=\"M120-120v-720h720v720H120Zm60-500h600v-160H180v160Zm220 220h160v-160H400v160Zm0 220h160v-160H400v160ZM180-400h160v-160H180v160Zm440 0h160v-160H620v160ZM180-180h160v-160H180v160Zm440 0h160v-160H620v160Z\"/>\n",
              "  </svg>\n",
              "    </button>\n",
              "\n",
              "  <style>\n",
              "    .colab-df-container {\n",
              "      display:flex;\n",
              "      gap: 12px;\n",
              "    }\n",
              "\n",
              "    .colab-df-convert {\n",
              "      background-color: #E8F0FE;\n",
              "      border: none;\n",
              "      border-radius: 50%;\n",
              "      cursor: pointer;\n",
              "      display: none;\n",
              "      fill: #1967D2;\n",
              "      height: 32px;\n",
              "      padding: 0 0 0 0;\n",
              "      width: 32px;\n",
              "    }\n",
              "\n",
              "    .colab-df-convert:hover {\n",
              "      background-color: #E2EBFA;\n",
              "      box-shadow: 0px 1px 2px rgba(60, 64, 67, 0.3), 0px 1px 3px 1px rgba(60, 64, 67, 0.15);\n",
              "      fill: #174EA6;\n",
              "    }\n",
              "\n",
              "    .colab-df-buttons div {\n",
              "      margin-bottom: 4px;\n",
              "    }\n",
              "\n",
              "    [theme=dark] .colab-df-convert {\n",
              "      background-color: #3B4455;\n",
              "      fill: #D2E3FC;\n",
              "    }\n",
              "\n",
              "    [theme=dark] .colab-df-convert:hover {\n",
              "      background-color: #434B5C;\n",
              "      box-shadow: 0px 1px 3px 1px rgba(0, 0, 0, 0.15);\n",
              "      filter: drop-shadow(0px 1px 2px rgba(0, 0, 0, 0.3));\n",
              "      fill: #FFFFFF;\n",
              "    }\n",
              "  </style>\n",
              "\n",
              "    <script>\n",
              "      const buttonEl =\n",
              "        document.querySelector('#df-cd516b40-82ec-4064-ad2a-6ce9ad5b99d2 button.colab-df-convert');\n",
              "      buttonEl.style.display =\n",
              "        google.colab.kernel.accessAllowed ? 'block' : 'none';\n",
              "\n",
              "      async function convertToInteractive(key) {\n",
              "        const element = document.querySelector('#df-cd516b40-82ec-4064-ad2a-6ce9ad5b99d2');\n",
              "        const dataTable =\n",
              "          await google.colab.kernel.invokeFunction('convertToInteractive',\n",
              "                                                    [key], {});\n",
              "        if (!dataTable) return;\n",
              "\n",
              "        const docLinkHtml = 'Like what you see? Visit the ' +\n",
              "          '<a target=\"_blank\" href=https://colab.research.google.com/notebooks/data_table.ipynb>data table notebook</a>'\n",
              "          + ' to learn more about interactive tables.';\n",
              "        element.innerHTML = '';\n",
              "        dataTable['output_type'] = 'display_data';\n",
              "        await google.colab.output.renderOutput(dataTable, element);\n",
              "        const docLink = document.createElement('div');\n",
              "        docLink.innerHTML = docLinkHtml;\n",
              "        element.appendChild(docLink);\n",
              "      }\n",
              "    </script>\n",
              "  </div>\n",
              "\n",
              "\n",
              "<div id=\"df-77425912-3b0f-4847-9551-eacde892637d\">\n",
              "  <button class=\"colab-df-quickchart\" onclick=\"quickchart('df-77425912-3b0f-4847-9551-eacde892637d')\"\n",
              "            title=\"Suggest charts\"\n",
              "            style=\"display:none;\">\n",
              "\n",
              "<svg xmlns=\"http://www.w3.org/2000/svg\" height=\"24px\"viewBox=\"0 0 24 24\"\n",
              "     width=\"24px\">\n",
              "    <g>\n",
              "        <path d=\"M19 3H5c-1.1 0-2 .9-2 2v14c0 1.1.9 2 2 2h14c1.1 0 2-.9 2-2V5c0-1.1-.9-2-2-2zM9 17H7v-7h2v7zm4 0h-2V7h2v10zm4 0h-2v-4h2v4z\"/>\n",
              "    </g>\n",
              "</svg>\n",
              "  </button>\n",
              "\n",
              "<style>\n",
              "  .colab-df-quickchart {\n",
              "      --bg-color: #E8F0FE;\n",
              "      --fill-color: #1967D2;\n",
              "      --hover-bg-color: #E2EBFA;\n",
              "      --hover-fill-color: #174EA6;\n",
              "      --disabled-fill-color: #AAA;\n",
              "      --disabled-bg-color: #DDD;\n",
              "  }\n",
              "\n",
              "  [theme=dark] .colab-df-quickchart {\n",
              "      --bg-color: #3B4455;\n",
              "      --fill-color: #D2E3FC;\n",
              "      --hover-bg-color: #434B5C;\n",
              "      --hover-fill-color: #FFFFFF;\n",
              "      --disabled-bg-color: #3B4455;\n",
              "      --disabled-fill-color: #666;\n",
              "  }\n",
              "\n",
              "  .colab-df-quickchart {\n",
              "    background-color: var(--bg-color);\n",
              "    border: none;\n",
              "    border-radius: 50%;\n",
              "    cursor: pointer;\n",
              "    display: none;\n",
              "    fill: var(--fill-color);\n",
              "    height: 32px;\n",
              "    padding: 0;\n",
              "    width: 32px;\n",
              "  }\n",
              "\n",
              "  .colab-df-quickchart:hover {\n",
              "    background-color: var(--hover-bg-color);\n",
              "    box-shadow: 0 1px 2px rgba(60, 64, 67, 0.3), 0 1px 3px 1px rgba(60, 64, 67, 0.15);\n",
              "    fill: var(--button-hover-fill-color);\n",
              "  }\n",
              "\n",
              "  .colab-df-quickchart-complete:disabled,\n",
              "  .colab-df-quickchart-complete:disabled:hover {\n",
              "    background-color: var(--disabled-bg-color);\n",
              "    fill: var(--disabled-fill-color);\n",
              "    box-shadow: none;\n",
              "  }\n",
              "\n",
              "  .colab-df-spinner {\n",
              "    border: 2px solid var(--fill-color);\n",
              "    border-color: transparent;\n",
              "    border-bottom-color: var(--fill-color);\n",
              "    animation:\n",
              "      spin 1s steps(1) infinite;\n",
              "  }\n",
              "\n",
              "  @keyframes spin {\n",
              "    0% {\n",
              "      border-color: transparent;\n",
              "      border-bottom-color: var(--fill-color);\n",
              "      border-left-color: var(--fill-color);\n",
              "    }\n",
              "    20% {\n",
              "      border-color: transparent;\n",
              "      border-left-color: var(--fill-color);\n",
              "      border-top-color: var(--fill-color);\n",
              "    }\n",
              "    30% {\n",
              "      border-color: transparent;\n",
              "      border-left-color: var(--fill-color);\n",
              "      border-top-color: var(--fill-color);\n",
              "      border-right-color: var(--fill-color);\n",
              "    }\n",
              "    40% {\n",
              "      border-color: transparent;\n",
              "      border-right-color: var(--fill-color);\n",
              "      border-top-color: var(--fill-color);\n",
              "    }\n",
              "    60% {\n",
              "      border-color: transparent;\n",
              "      border-right-color: var(--fill-color);\n",
              "    }\n",
              "    80% {\n",
              "      border-color: transparent;\n",
              "      border-right-color: var(--fill-color);\n",
              "      border-bottom-color: var(--fill-color);\n",
              "    }\n",
              "    90% {\n",
              "      border-color: transparent;\n",
              "      border-bottom-color: var(--fill-color);\n",
              "    }\n",
              "  }\n",
              "</style>\n",
              "\n",
              "  <script>\n",
              "    async function quickchart(key) {\n",
              "      const quickchartButtonEl =\n",
              "        document.querySelector('#' + key + ' button');\n",
              "      quickchartButtonEl.disabled = true;  // To prevent multiple clicks.\n",
              "      quickchartButtonEl.classList.add('colab-df-spinner');\n",
              "      try {\n",
              "        const charts = await google.colab.kernel.invokeFunction(\n",
              "            'suggestCharts', [key], {});\n",
              "      } catch (error) {\n",
              "        console.error('Error during call to suggestCharts:', error);\n",
              "      }\n",
              "      quickchartButtonEl.classList.remove('colab-df-spinner');\n",
              "      quickchartButtonEl.classList.add('colab-df-quickchart-complete');\n",
              "    }\n",
              "    (() => {\n",
              "      let quickchartButtonEl =\n",
              "        document.querySelector('#df-77425912-3b0f-4847-9551-eacde892637d button');\n",
              "      quickchartButtonEl.style.display =\n",
              "        google.colab.kernel.accessAllowed ? 'block' : 'none';\n",
              "    })();\n",
              "  </script>\n",
              "</div>\n",
              "    </div>\n",
              "  </div>\n"
            ]
          },
          "metadata": {},
          "execution_count": 12
        }
      ]
    },
    {
      "cell_type": "code",
      "source": [
        "# Top 15 palabras más características de cada idioma\n",
        "# ==============================================================================\n",
        "\n",
        "top_30 = df_logOdds[['log_odds', 'abs_log_odds', 'idioma_frecuente']] \\\n",
        "        .groupby('idioma_frecuente') \\\n",
        "        .apply(lambda x: x.nlargest(15, columns='abs_log_odds').reset_index()) \\\n",
        "        .reset_index(drop=True) \\\n",
        "        .sort_values('log_odds')\n",
        "\n",
        "f, ax = plt.subplots(figsize=(4, 7))\n",
        "sns.barplot(\n",
        "    x    = 'log_odds',\n",
        "    y    = 'token',\n",
        "    hue  = 'idioma_frecuente',\n",
        "    data = top_30,\n",
        "    ax   = ax\n",
        ")\n",
        "ax.set_title('Top 15 palabras más características de cada idioma')\n",
        "ax.set_xlabel('log odds ratio (en / nl)');"
      ],
      "metadata": {
        "id": "bxggNNkLgpNz",
        "colab": {
          "base_uri": "https://localhost:8080/",
          "height": 642
        },
        "outputId": "1189b687-d837-42ac-c8c3-f73446e47add"
      },
      "execution_count": 13,
      "outputs": [
        {
          "output_type": "display_data",
          "data": {
            "text/plain": [
              "<Figure size 400x700 with 1 Axes>"
            ],
            "image/png": "[encoded data removed]"
          },
          "metadata": {}
        }
      ]
    },
    {
      "cell_type": "markdown",
      "source": [
        "Las palabras señaladas en el grafico de arriba tendrán mucho peso a la hora de clasificar los idiomas. Podemos ver que practicamente todas estas palabras son stopwords de sus respectivos idiomas. Ademas, muchas de estas palabras tambien aparecen en el top 10 de palabras mas utilizadas en cada idioma."
      ],
      "metadata": {
        "id": "Nd98mxgJibXQ"
      }
    },
    {
      "cell_type": "markdown",
      "source": [
        "## **Frecuencia de los terminos y Fecuencia Inversa del Documento**\n",
        "\n",
        "Permite calcular la frecuencia relativa de cada término en el texto mediante el cálculo del Term Frequency (tf)."
      ],
      "metadata": {
        "id": "NR_SEVoJjt-j"
      }
    },
    {
      "cell_type": "code",
      "source": [
        "# Cálculo term-frecuency (tf)\n",
        "# ==============================================================================\n",
        "tf = df_tidy.copy()\n",
        "# Número de veces que aparece cada término en cada registro\n",
        "tf = tf.groupby([\"index\", \"token\"])[\"token\"].agg([\"count\"]).reset_index()\n",
        "# Se añade una columna con el total de términos por registro\n",
        "tf['total_count'] = tf.groupby('index')['count'].transform(sum)\n",
        "# Se calcula el tf\n",
        "tf['tf'] = tf[\"count\"] / tf[\"total_count\"]\n",
        "tf.sort_values(by = \"tf\").head(5)"
      ],
      "metadata": {
        "id": "KGg0RK6EkBFS",
        "colab": {
          "base_uri": "https://localhost:8080/",
          "height": 206
        },
        "outputId": "b8cbb44b-dac3-483d-8d6c-8aa9aaf0c666"
      },
      "execution_count": 14,
      "outputs": [
        {
          "output_type": "execute_result",
          "data": {
            "text/plain": [
              "      index      token  count  total_count        tf\n",
              "8841    665        zus      1           26  0.038462\n",
              "8839    665   voorzien      1           26  0.038462\n",
              "8837    665      vader      1           26  0.038462\n",
              "8836    665  overleden      1           26  0.038462\n",
              "8835    665   nickleby      1           26  0.038462"
            ],
            "text/html": [
              "\n",
              "  <div id=\"df-96136aed-aa3b-455b-ad2d-2b9ca7df4eb2\" class=\"colab-df-container\">\n",
              "    <div>\n",
              "<style scoped>\n",
              "    .dataframe tbody tr th:only-of-type {\n",
              "        vertical-align: middle;\n",
              "    }\n",
              "\n",
              "    .dataframe tbody tr th {\n",
              "        vertical-align: top;\n",
              "    }\n",
              "\n",
              "    .dataframe thead th {\n",
              "        text-align: right;\n",
              "    }\n",
              "</style>\n",
              "<table border=\"1\" class=\"dataframe\">\n",
              "  <thead>\n",
              "    <tr style=\"text-align: right;\">\n",
              "      <th></th>\n",
              "      <th>index</th>\n",
              "      <th>token</th>\n",
              "      <th>count</th>\n",
              "      <th>total_count</th>\n",
              "      <th>tf</th>\n",
              "    </tr>\n",
              "  </thead>\n",
              "  <tbody>\n",
              "    <tr>\n",
              "      <th>8841</th>\n",
              "      <td>665</td>\n",
              "      <td>zus</td>\n",
              "      <td>1</td>\n",
              "      <td>26</td>\n",
              "      <td>0.038462</td>\n",
              "    </tr>\n",
              "    <tr>\n",
              "      <th>8839</th>\n",
              "      <td>665</td>\n",
              "      <td>voorzien</td>\n",
              "      <td>1</td>\n",
              "      <td>26</td>\n",
              "      <td>0.038462</td>\n",
              "    </tr>\n",
              "    <tr>\n",
              "      <th>8837</th>\n",
              "      <td>665</td>\n",
              "      <td>vader</td>\n",
              "      <td>1</td>\n",
              "      <td>26</td>\n",
              "      <td>0.038462</td>\n",
              "    </tr>\n",
              "    <tr>\n",
              "      <th>8836</th>\n",
              "      <td>665</td>\n",
              "      <td>overleden</td>\n",
              "      <td>1</td>\n",
              "      <td>26</td>\n",
              "      <td>0.038462</td>\n",
              "    </tr>\n",
              "    <tr>\n",
              "      <th>8835</th>\n",
              "      <td>665</td>\n",
              "      <td>nickleby</td>\n",
              "      <td>1</td>\n",
              "      <td>26</td>\n",
              "      <td>0.038462</td>\n",
              "    </tr>\n",
              "  </tbody>\n",
              "</table>\n",
              "</div>\n",
              "    <div class=\"colab-df-buttons\">\n",
              "\n",
              "  <div class=\"colab-df-container\">\n",
              "    <button class=\"colab-df-convert\" onclick=\"convertToInteractive('df-96136aed-aa3b-455b-ad2d-2b9ca7df4eb2')\"\n",
              "            title=\"Convert this dataframe to an interactive table.\"\n",
              "            style=\"display:none;\">\n",
              "\n",
              "  <svg xmlns=\"http://www.w3.org/2000/svg\" height=\"24px\" viewBox=\"0 -960 960 960\">\n",
              "    <path d=\"M120-120v-720h720v720H120Zm60-500h600v-160H180v160Zm220 220h160v-160H400v160Zm0 220h160v-160H400v160ZM180-400h160v-160H180v160Zm440 0h160v-160H620v160ZM180-180h160v-160H180v160Zm440 0h160v-160H620v160Z\"/>\n",
              "  </svg>\n",
              "    </button>\n",
              "\n",
              "  <style>\n",
              "    .colab-df-container {\n",
              "      display:flex;\n",
              "      gap: 12px;\n",
              "    }\n",
              "\n",
              "    .colab-df-convert {\n",
              "      background-color: #E8F0FE;\n",
              "      border: none;\n",
              "      border-radius: 50%;\n",
              "      cursor: pointer;\n",
              "      display: none;\n",
              "      fill: #1967D2;\n",
              "      height: 32px;\n",
              "      padding: 0 0 0 0;\n",
              "      width: 32px;\n",
              "    }\n",
              "\n",
              "    .colab-df-convert:hover {\n",
              "      background-color: #E2EBFA;\n",
              "      box-shadow: 0px 1px 2px rgba(60, 64, 67, 0.3), 0px 1px 3px 1px rgba(60, 64, 67, 0.15);\n",
              "      fill: #174EA6;\n",
              "    }\n",
              "\n",
              "    .colab-df-buttons div {\n",
              "      margin-bottom: 4px;\n",
              "    }\n",
              "\n",
              "    [theme=dark] .colab-df-convert {\n",
              "      background-color: #3B4455;\n",
              "      fill: #D2E3FC;\n",
              "    }\n",
              "\n",
              "    [theme=dark] .colab-df-convert:hover {\n",
              "      background-color: #434B5C;\n",
              "      box-shadow: 0px 1px 3px 1px rgba(0, 0, 0, 0.15);\n",
              "      filter: drop-shadow(0px 1px 2px rgba(0, 0, 0, 0.3));\n",
              "      fill: #FFFFFF;\n",
              "    }\n",
              "  </style>\n",
              "\n",
              "    <script>\n",
              "      const buttonEl =\n",
              "        document.querySelector('#df-96136aed-aa3b-455b-ad2d-2b9ca7df4eb2 button.colab-df-convert');\n",
              "      buttonEl.style.display =\n",
              "        google.colab.kernel.accessAllowed ? 'block' : 'none';\n",
              "\n",
              "      async function convertToInteractive(key) {\n",
              "        const element = document.querySelector('#df-96136aed-aa3b-455b-ad2d-2b9ca7df4eb2');\n",
              "        const dataTable =\n",
              "          await google.colab.kernel.invokeFunction('convertToInteractive',\n",
              "                                                    [key], {});\n",
              "        if (!dataTable) return;\n",
              "\n",
              "        const docLinkHtml = 'Like what you see? Visit the ' +\n",
              "          '<a target=\"_blank\" href=https://colab.research.google.com/notebooks/data_table.ipynb>data table notebook</a>'\n",
              "          + ' to learn more about interactive tables.';\n",
              "        element.innerHTML = '';\n",
              "        dataTable['output_type'] = 'display_data';\n",
              "        await google.colab.output.renderOutput(dataTable, element);\n",
              "        const docLink = document.createElement('div');\n",
              "        docLink.innerHTML = docLinkHtml;\n",
              "        element.appendChild(docLink);\n",
              "      }\n",
              "    </script>\n",
              "  </div>\n",
              "\n",
              "\n",
              "<div id=\"df-0e078d1a-0dd5-4827-9723-9cae72942c43\">\n",
              "  <button class=\"colab-df-quickchart\" onclick=\"quickchart('df-0e078d1a-0dd5-4827-9723-9cae72942c43')\"\n",
              "            title=\"Suggest charts\"\n",
              "            style=\"display:none;\">\n",
              "\n",
              "<svg xmlns=\"http://www.w3.org/2000/svg\" height=\"24px\"viewBox=\"0 0 24 24\"\n",
              "     width=\"24px\">\n",
              "    <g>\n",
              "        <path d=\"M19 3H5c-1.1 0-2 .9-2 2v14c0 1.1.9 2 2 2h14c1.1 0 2-.9 2-2V5c0-1.1-.9-2-2-2zM9 17H7v-7h2v7zm4 0h-2V7h2v10zm4 0h-2v-4h2v4z\"/>\n",
              "    </g>\n",
              "</svg>\n",
              "  </button>\n",
              "\n",
              "<style>\n",
              "  .colab-df-quickchart {\n",
              "      --bg-color: #E8F0FE;\n",
              "      --fill-color: #1967D2;\n",
              "      --hover-bg-color: #E2EBFA;\n",
              "      --hover-fill-color: #174EA6;\n",
              "      --disabled-fill-color: #AAA;\n",
              "      --disabled-bg-color: #DDD;\n",
              "  }\n",
              "\n",
              "  [theme=dark] .colab-df-quickchart {\n",
              "      --bg-color: #3B4455;\n",
              "      --fill-color: #D2E3FC;\n",
              "      --hover-bg-color: #434B5C;\n",
              "      --hover-fill-color: #FFFFFF;\n",
              "      --disabled-bg-color: #3B4455;\n",
              "      --disabled-fill-color: #666;\n",
              "  }\n",
              "\n",
              "  .colab-df-quickchart {\n",
              "    background-color: var(--bg-color);\n",
              "    border: none;\n",
              "    border-radius: 50%;\n",
              "    cursor: pointer;\n",
              "    display: none;\n",
              "    fill: var(--fill-color);\n",
              "    height: 32px;\n",
              "    padding: 0;\n",
              "    width: 32px;\n",
              "  }\n",
              "\n",
              "  .colab-df-quickchart:hover {\n",
              "    background-color: var(--hover-bg-color);\n",
              "    box-shadow: 0 1px 2px rgba(60, 64, 67, 0.3), 0 1px 3px 1px rgba(60, 64, 67, 0.15);\n",
              "    fill: var(--button-hover-fill-color);\n",
              "  }\n",
              "\n",
              "  .colab-df-quickchart-complete:disabled,\n",
              "  .colab-df-quickchart-complete:disabled:hover {\n",
              "    background-color: var(--disabled-bg-color);\n",
              "    fill: var(--disabled-fill-color);\n",
              "    box-shadow: none;\n",
              "  }\n",
              "\n",
              "  .colab-df-spinner {\n",
              "    border: 2px solid var(--fill-color);\n",
              "    border-color: transparent;\n",
              "    border-bottom-color: var(--fill-color);\n",
              "    animation:\n",
              "      spin 1s steps(1) infinite;\n",
              "  }\n",
              "\n",
              "  @keyframes spin {\n",
              "    0% {\n",
              "      border-color: transparent;\n",
              "      border-bottom-color: var(--fill-color);\n",
              "      border-left-color: var(--fill-color);\n",
              "    }\n",
              "    20% {\n",
              "      border-color: transparent;\n",
              "      border-left-color: var(--fill-color);\n",
              "      border-top-color: var(--fill-color);\n",
              "    }\n",
              "    30% {\n",
              "      border-color: transparent;\n",
              "      border-left-color: var(--fill-color);\n",
              "      border-top-color: var(--fill-color);\n",
              "      border-right-color: var(--fill-color);\n",
              "    }\n",
              "    40% {\n",
              "      border-color: transparent;\n",
              "      border-right-color: var(--fill-color);\n",
              "      border-top-color: var(--fill-color);\n",
              "    }\n",
              "    60% {\n",
              "      border-color: transparent;\n",
              "      border-right-color: var(--fill-color);\n",
              "    }\n",
              "    80% {\n",
              "      border-color: transparent;\n",
              "      border-right-color: var(--fill-color);\n",
              "      border-bottom-color: var(--fill-color);\n",
              "    }\n",
              "    90% {\n",
              "      border-color: transparent;\n",
              "      border-bottom-color: var(--fill-color);\n",
              "    }\n",
              "  }\n",
              "</style>\n",
              "\n",
              "  <script>\n",
              "    async function quickchart(key) {\n",
              "      const quickchartButtonEl =\n",
              "        document.querySelector('#' + key + ' button');\n",
              "      quickchartButtonEl.disabled = true;  // To prevent multiple clicks.\n",
              "      quickchartButtonEl.classList.add('colab-df-spinner');\n",
              "      try {\n",
              "        const charts = await google.colab.kernel.invokeFunction(\n",
              "            'suggestCharts', [key], {});\n",
              "      } catch (error) {\n",
              "        console.error('Error during call to suggestCharts:', error);\n",
              "      }\n",
              "      quickchartButtonEl.classList.remove('colab-df-spinner');\n",
              "      quickchartButtonEl.classList.add('colab-df-quickchart-complete');\n",
              "    }\n",
              "    (() => {\n",
              "      let quickchartButtonEl =\n",
              "        document.querySelector('#df-0e078d1a-0dd5-4827-9723-9cae72942c43 button');\n",
              "      quickchartButtonEl.style.display =\n",
              "        google.colab.kernel.accessAllowed ? 'block' : 'none';\n",
              "    })();\n",
              "  </script>\n",
              "</div>\n",
              "    </div>\n",
              "  </div>\n"
            ]
          },
          "metadata": {},
          "execution_count": 14
        }
      ]
    },
    {
      "cell_type": "markdown",
      "source": [
        "Se calcula el IDF para cada término en el conjunto de texto, lo cual es útil para determinar la importancia relativa de cada término."
      ],
      "metadata": {
        "id": "ALSs0dZs7fIF"
      }
    },
    {
      "cell_type": "code",
      "source": [
        "# Inverse document frequency\n",
        "# ==============================================================================\n",
        "idf = df_tidy.copy()\n",
        "total_documents = idf[\"index\"].drop_duplicates().count()\n",
        "# Número de documentos (registros) en los que aparece cada término\n",
        "idf = idf.groupby([\"token\", \"index\"])[\"token\"].agg([\"count\"]).reset_index()\n",
        "idf['n_documentos'] = idf.groupby('token')['count'].transform(sum)\n",
        "# Cálculo del idf\n",
        "idf['idf'] = np.log(total_documents / idf['n_documentos'])\n",
        "idf = idf[[\"token\",\"n_documentos\", \"idf\"]].drop_duplicates()\n",
        "idf.sort_values(by=\"idf\").head(5)"
      ],
      "metadata": {
        "id": "dAO67m4Y7g7P",
        "colab": {
          "base_uri": "https://localhost:8080/",
          "height": 206
        },
        "outputId": "ce2b6641-0ba6-4ed4-a855-70b240c505cc"
      },
      "execution_count": 15,
      "outputs": [
        {
          "output_type": "execute_result",
          "data": {
            "text/plain": [
              "      token  n_documentos       idf\n",
              "11467   the           623  0.539932\n",
              "2630     de           597  0.582562\n",
              "5981     in           506  0.747942\n",
              "8717     of           313  1.228276\n",
              "12532   van           308  1.244379"
            ],
            "text/html": [
              "\n",
              "  <div id=\"df-26716288-c7ae-4c47-89f6-f65555e95909\" class=\"colab-df-container\">\n",
              "    <div>\n",
              "<style scoped>\n",
              "    .dataframe tbody tr th:only-of-type {\n",
              "        vertical-align: middle;\n",
              "    }\n",
              "\n",
              "    .dataframe tbody tr th {\n",
              "        vertical-align: top;\n",
              "    }\n",
              "\n",
              "    .dataframe thead th {\n",
              "        text-align: right;\n",
              "    }\n",
              "</style>\n",
              "<table border=\"1\" class=\"dataframe\">\n",
              "  <thead>\n",
              "    <tr style=\"text-align: right;\">\n",
              "      <th></th>\n",
              "      <th>token</th>\n",
              "      <th>n_documentos</th>\n",
              "      <th>idf</th>\n",
              "    </tr>\n",
              "  </thead>\n",
              "  <tbody>\n",
              "    <tr>\n",
              "      <th>11467</th>\n",
              "      <td>the</td>\n",
              "      <td>623</td>\n",
              "      <td>0.539932</td>\n",
              "    </tr>\n",
              "    <tr>\n",
              "      <th>2630</th>\n",
              "      <td>de</td>\n",
              "      <td>597</td>\n",
              "      <td>0.582562</td>\n",
              "    </tr>\n",
              "    <tr>\n",
              "      <th>5981</th>\n",
              "      <td>in</td>\n",
              "      <td>506</td>\n",
              "      <td>0.747942</td>\n",
              "    </tr>\n",
              "    <tr>\n",
              "      <th>8717</th>\n",
              "      <td>of</td>\n",
              "      <td>313</td>\n",
              "      <td>1.228276</td>\n",
              "    </tr>\n",
              "    <tr>\n",
              "      <th>12532</th>\n",
              "      <td>van</td>\n",
              "      <td>308</td>\n",
              "      <td>1.244379</td>\n",
              "    </tr>\n",
              "  </tbody>\n",
              "</table>\n",
              "</div>\n",
              "    <div class=\"colab-df-buttons\">\n",
              "\n",
              "  <div class=\"colab-df-container\">\n",
              "    <button class=\"colab-df-convert\" onclick=\"convertToInteractive('df-26716288-c7ae-4c47-89f6-f65555e95909')\"\n",
              "            title=\"Convert this dataframe to an interactive table.\"\n",
              "            style=\"display:none;\">\n",
              "\n",
              "  <svg xmlns=\"http://www.w3.org/2000/svg\" height=\"24px\" viewBox=\"0 -960 960 960\">\n",
              "    <path d=\"M120-120v-720h720v720H120Zm60-500h600v-160H180v160Zm220 220h160v-160H400v160Zm0 220h160v-160H400v160ZM180-400h160v-160H180v160Zm440 0h160v-160H620v160ZM180-180h160v-160H180v160Zm440 0h160v-160H620v160Z\"/>\n",
              "  </svg>\n",
              "    </button>\n",
              "\n",
              "  <style>\n",
              "    .colab-df-container {\n",
              "      display:flex;\n",
              "      gap: 12px;\n",
              "    }\n",
              "\n",
              "    .colab-df-convert {\n",
              "      background-color: #E8F0FE;\n",
              "      border: none;\n",
              "      border-radius: 50%;\n",
              "      cursor: pointer;\n",
              "      display: none;\n",
              "      fill: #1967D2;\n",
              "      height: 32px;\n",
              "      padding: 0 0 0 0;\n",
              "      width: 32px;\n",
              "    }\n",
              "\n",
              "    .colab-df-convert:hover {\n",
              "      background-color: #E2EBFA;\n",
              "      box-shadow: 0px 1px 2px rgba(60, 64, 67, 0.3), 0px 1px 3px 1px rgba(60, 64, 67, 0.15);\n",
              "      fill: #174EA6;\n",
              "    }\n",
              "\n",
              "    .colab-df-buttons div {\n",
              "      margin-bottom: 4px;\n",
              "    }\n",
              "\n",
              "    [theme=dark] .colab-df-convert {\n",
              "      background-color: #3B4455;\n",
              "      fill: #D2E3FC;\n",
              "    }\n",
              "\n",
              "    [theme=dark] .colab-df-convert:hover {\n",
              "      background-color: #434B5C;\n",
              "      box-shadow: 0px 1px 3px 1px rgba(0, 0, 0, 0.15);\n",
              "      filter: drop-shadow(0px 1px 2px rgba(0, 0, 0, 0.3));\n",
              "      fill: #FFFFFF;\n",
              "    }\n",
              "  </style>\n",
              "\n",
              "    <script>\n",
              "      const buttonEl =\n",
              "        document.querySelector('#df-26716288-c7ae-4c47-89f6-f65555e95909 button.colab-df-convert');\n",
              "      buttonEl.style.display =\n",
              "        google.colab.kernel.accessAllowed ? 'block' : 'none';\n",
              "\n",
              "      async function convertToInteractive(key) {\n",
              "        const element = document.querySelector('#df-26716288-c7ae-4c47-89f6-f65555e95909');\n",
              "        const dataTable =\n",
              "          await google.colab.kernel.invokeFunction('convertToInteractive',\n",
              "                                                    [key], {});\n",
              "        if (!dataTable) return;\n",
              "\n",
              "        const docLinkHtml = 'Like what you see? Visit the ' +\n",
              "          '<a target=\"_blank\" href=https://colab.research.google.com/notebooks/data_table.ipynb>data table notebook</a>'\n",
              "          + ' to learn more about interactive tables.';\n",
              "        element.innerHTML = '';\n",
              "        dataTable['output_type'] = 'display_data';\n",
              "        await google.colab.output.renderOutput(dataTable, element);\n",
              "        const docLink = document.createElement('div');\n",
              "        docLink.innerHTML = docLinkHtml;\n",
              "        element.appendChild(docLink);\n",
              "      }\n",
              "    </script>\n",
              "  </div>\n",
              "\n",
              "\n",
              "<div id=\"df-1c576dc9-d2d2-4666-b0c8-0a2deeaffccb\">\n",
              "  <button class=\"colab-df-quickchart\" onclick=\"quickchart('df-1c576dc9-d2d2-4666-b0c8-0a2deeaffccb')\"\n",
              "            title=\"Suggest charts\"\n",
              "            style=\"display:none;\">\n",
              "\n",
              "<svg xmlns=\"http://www.w3.org/2000/svg\" height=\"24px\"viewBox=\"0 0 24 24\"\n",
              "     width=\"24px\">\n",
              "    <g>\n",
              "        <path d=\"M19 3H5c-1.1 0-2 .9-2 2v14c0 1.1.9 2 2 2h14c1.1 0 2-.9 2-2V5c0-1.1-.9-2-2-2zM9 17H7v-7h2v7zm4 0h-2V7h2v10zm4 0h-2v-4h2v4z\"/>\n",
              "    </g>\n",
              "</svg>\n",
              "  </button>\n",
              "\n",
              "<style>\n",
              "  .colab-df-quickchart {\n",
              "      --bg-color: #E8F0FE;\n",
              "      --fill-color: #1967D2;\n",
              "      --hover-bg-color: #E2EBFA;\n",
              "      --hover-fill-color: #174EA6;\n",
              "      --disabled-fill-color: #AAA;\n",
              "      --disabled-bg-color: #DDD;\n",
              "  }\n",
              "\n",
              "  [theme=dark] .colab-df-quickchart {\n",
              "      --bg-color: #3B4455;\n",
              "      --fill-color: #D2E3FC;\n",
              "      --hover-bg-color: #434B5C;\n",
              "      --hover-fill-color: #FFFFFF;\n",
              "      --disabled-bg-color: #3B4455;\n",
              "      --disabled-fill-color: #666;\n",
              "  }\n",
              "\n",
              "  .colab-df-quickchart {\n",
              "    background-color: var(--bg-color);\n",
              "    border: none;\n",
              "    border-radius: 50%;\n",
              "    cursor: pointer;\n",
              "    display: none;\n",
              "    fill: var(--fill-color);\n",
              "    height: 32px;\n",
              "    padding: 0;\n",
              "    width: 32px;\n",
              "  }\n",
              "\n",
              "  .colab-df-quickchart:hover {\n",
              "    background-color: var(--hover-bg-color);\n",
              "    box-shadow: 0 1px 2px rgba(60, 64, 67, 0.3), 0 1px 3px 1px rgba(60, 64, 67, 0.15);\n",
              "    fill: var(--button-hover-fill-color);\n",
              "  }\n",
              "\n",
              "  .colab-df-quickchart-complete:disabled,\n",
              "  .colab-df-quickchart-complete:disabled:hover {\n",
              "    background-color: var(--disabled-bg-color);\n",
              "    fill: var(--disabled-fill-color);\n",
              "    box-shadow: none;\n",
              "  }\n",
              "\n",
              "  .colab-df-spinner {\n",
              "    border: 2px solid var(--fill-color);\n",
              "    border-color: transparent;\n",
              "    border-bottom-color: var(--fill-color);\n",
              "    animation:\n",
              "      spin 1s steps(1) infinite;\n",
              "  }\n",
              "\n",
              "  @keyframes spin {\n",
              "    0% {\n",
              "      border-color: transparent;\n",
              "      border-bottom-color: var(--fill-color);\n",
              "      border-left-color: var(--fill-color);\n",
              "    }\n",
              "    20% {\n",
              "      border-color: transparent;\n",
              "      border-left-color: var(--fill-color);\n",
              "      border-top-color: var(--fill-color);\n",
              "    }\n",
              "    30% {\n",
              "      border-color: transparent;\n",
              "      border-left-color: var(--fill-color);\n",
              "      border-top-color: var(--fill-color);\n",
              "      border-right-color: var(--fill-color);\n",
              "    }\n",
              "    40% {\n",
              "      border-color: transparent;\n",
              "      border-right-color: var(--fill-color);\n",
              "      border-top-color: var(--fill-color);\n",
              "    }\n",
              "    60% {\n",
              "      border-color: transparent;\n",
              "      border-right-color: var(--fill-color);\n",
              "    }\n",
              "    80% {\n",
              "      border-color: transparent;\n",
              "      border-right-color: var(--fill-color);\n",
              "      border-bottom-color: var(--fill-color);\n",
              "    }\n",
              "    90% {\n",
              "      border-color: transparent;\n",
              "      border-bottom-color: var(--fill-color);\n",
              "    }\n",
              "  }\n",
              "</style>\n",
              "\n",
              "  <script>\n",
              "    async function quickchart(key) {\n",
              "      const quickchartButtonEl =\n",
              "        document.querySelector('#' + key + ' button');\n",
              "      quickchartButtonEl.disabled = true;  // To prevent multiple clicks.\n",
              "      quickchartButtonEl.classList.add('colab-df-spinner');\n",
              "      try {\n",
              "        const charts = await google.colab.kernel.invokeFunction(\n",
              "            'suggestCharts', [key], {});\n",
              "      } catch (error) {\n",
              "        console.error('Error during call to suggestCharts:', error);\n",
              "      }\n",
              "      quickchartButtonEl.classList.remove('colab-df-spinner');\n",
              "      quickchartButtonEl.classList.add('colab-df-quickchart-complete');\n",
              "    }\n",
              "    (() => {\n",
              "      let quickchartButtonEl =\n",
              "        document.querySelector('#df-1c576dc9-d2d2-4666-b0c8-0a2deeaffccb button');\n",
              "      quickchartButtonEl.style.display =\n",
              "        google.colab.kernel.accessAllowed ? 'block' : 'none';\n",
              "    })();\n",
              "  </script>\n",
              "</div>\n",
              "    </div>\n",
              "  </div>\n"
            ]
          },
          "metadata": {},
          "execution_count": 15
        }
      ]
    },
    {
      "cell_type": "markdown",
      "source": [
        "En esta tabla podemos observar el número de registros en los que aparece cada palabra.\n",
        "\n",
        "Term Frequency - Inverse Document Frequency:\n",
        "\n",
        "La razón principal para realizar este cálculo es identificar los términos más relevantes y distintivos en un conjunto de documentos.\n",
        "\n",
        "## **Creación de la matriz tf-idf**"
      ],
      "metadata": {
        "id": "w9cCXpox-dIu"
      }
    },
    {
      "cell_type": "code",
      "source": [
        "# Term Frequency - Inverse Document Frequency\n",
        "# ==============================================================================\n",
        "tf_idf = pd.merge(left=tf, right=idf, on=\"token\")\n",
        "tf_idf[\"tf_idf\"] = tf_idf[\"tf\"] * tf_idf[\"idf\"]\n",
        "tf_idf.sort_values(by=\"index\").head(5)"
      ],
      "metadata": {
        "id": "Q5PHdk7Q-w_G",
        "colab": {
          "base_uri": "https://localhost:8080/",
          "height": 206
        },
        "outputId": "8167ab4d-0593-489a-cbb5-ce4dab3cab3f"
      },
      "execution_count": 16,
      "outputs": [
        {
          "output_type": "execute_result",
          "data": {
            "text/plain": [
              "     index    token  count  total_count        tf  n_documentos       idf  \\\n",
              "0        0    after      1           14  0.071429            13  4.409530   \n",
              "533      0     with      1           14  0.071429            49  3.082659   \n",
              "580      0    world      1           14  0.071429            20  3.978747   \n",
              "600      0  zealand      1           14  0.071429             1  6.974479   \n",
              "53       0      the      1           14  0.071429           623  0.539932   \n",
              "\n",
              "       tf_idf  \n",
              "0    0.314966  \n",
              "533  0.220190  \n",
              "580  0.284196  \n",
              "600  0.498177  \n",
              "53   0.038567  "
            ],
            "text/html": [
              "\n",
              "  <div id=\"df-ae9aa22d-1375-4ab9-89e4-ff517b21521c\" class=\"colab-df-container\">\n",
              "    <div>\n",
              "<style scoped>\n",
              "    .dataframe tbody tr th:only-of-type {\n",
              "        vertical-align: middle;\n",
              "    }\n",
              "\n",
              "    .dataframe tbody tr th {\n",
              "        vertical-align: top;\n",
              "    }\n",
              "\n",
              "    .dataframe thead th {\n",
              "        text-align: right;\n",
              "    }\n",
              "</style>\n",
              "<table border=\"1\" class=\"dataframe\">\n",
              "  <thead>\n",
              "    <tr style=\"text-align: right;\">\n",
              "      <th></th>\n",
              "      <th>index</th>\n",
              "      <th>token</th>\n",
              "      <th>count</th>\n",
              "      <th>total_count</th>\n",
              "      <th>tf</th>\n",
              "      <th>n_documentos</th>\n",
              "      <th>idf</th>\n",
              "      <th>tf_idf</th>\n",
              "    </tr>\n",
              "  </thead>\n",
              "  <tbody>\n",
              "    <tr>\n",
              "      <th>0</th>\n",
              "      <td>0</td>\n",
              "      <td>after</td>\n",
              "      <td>1</td>\n",
              "      <td>14</td>\n",
              "      <td>0.071429</td>\n",
              "      <td>13</td>\n",
              "      <td>4.409530</td>\n",
              "      <td>0.314966</td>\n",
              "    </tr>\n",
              "    <tr>\n",
              "      <th>533</th>\n",
              "      <td>0</td>\n",
              "      <td>with</td>\n",
              "      <td>1</td>\n",
              "      <td>14</td>\n",
              "      <td>0.071429</td>\n",
              "      <td>49</td>\n",
              "      <td>3.082659</td>\n",
              "      <td>0.220190</td>\n",
              "    </tr>\n",
              "    <tr>\n",
              "      <th>580</th>\n",
              "      <td>0</td>\n",
              "      <td>world</td>\n",
              "      <td>1</td>\n",
              "      <td>14</td>\n",
              "      <td>0.071429</td>\n",
              "      <td>20</td>\n",
              "      <td>3.978747</td>\n",
              "      <td>0.284196</td>\n",
              "    </tr>\n",
              "    <tr>\n",
              "      <th>600</th>\n",
              "      <td>0</td>\n",
              "      <td>zealand</td>\n",
              "      <td>1</td>\n",
              "      <td>14</td>\n",
              "      <td>0.071429</td>\n",
              "      <td>1</td>\n",
              "      <td>6.974479</td>\n",
              "      <td>0.498177</td>\n",
              "    </tr>\n",
              "    <tr>\n",
              "      <th>53</th>\n",
              "      <td>0</td>\n",
              "      <td>the</td>\n",
              "      <td>1</td>\n",
              "      <td>14</td>\n",
              "      <td>0.071429</td>\n",
              "      <td>623</td>\n",
              "      <td>0.539932</td>\n",
              "      <td>0.038567</td>\n",
              "    </tr>\n",
              "  </tbody>\n",
              "</table>\n",
              "</div>\n",
              "    <div class=\"colab-df-buttons\">\n",
              "\n",
              "  <div class=\"colab-df-container\">\n",
              "    <button class=\"colab-df-convert\" onclick=\"convertToInteractive('df-ae9aa22d-1375-4ab9-89e4-ff517b21521c')\"\n",
              "            title=\"Convert this dataframe to an interactive table.\"\n",
              "            style=\"display:none;\">\n",
              "\n",
              "  <svg xmlns=\"http://www.w3.org/2000/svg\" height=\"24px\" viewBox=\"0 -960 960 960\">\n",
              "    <path d=\"M120-120v-720h720v720H120Zm60-500h600v-160H180v160Zm220 220h160v-160H400v160Zm0 220h160v-160H400v160ZM180-400h160v-160H180v160Zm440 0h160v-160H620v160ZM180-180h160v-160H180v160Zm440 0h160v-160H620v160Z\"/>\n",
              "  </svg>\n",
              "    </button>\n",
              "\n",
              "  <style>\n",
              "    .colab-df-container {\n",
              "      display:flex;\n",
              "      gap: 12px;\n",
              "    }\n",
              "\n",
              "    .colab-df-convert {\n",
              "      background-color: #E8F0FE;\n",
              "      border: none;\n",
              "      border-radius: 50%;\n",
              "      cursor: pointer;\n",
              "      display: none;\n",
              "      fill: #1967D2;\n",
              "      height: 32px;\n",
              "      padding: 0 0 0 0;\n",
              "      width: 32px;\n",
              "    }\n",
              "\n",
              "    .colab-df-convert:hover {\n",
              "      background-color: #E2EBFA;\n",
              "      box-shadow: 0px 1px 2px rgba(60, 64, 67, 0.3), 0px 1px 3px 1px rgba(60, 64, 67, 0.15);\n",
              "      fill: #174EA6;\n",
              "    }\n",
              "\n",
              "    .colab-df-buttons div {\n",
              "      margin-bottom: 4px;\n",
              "    }\n",
              "\n",
              "    [theme=dark] .colab-df-convert {\n",
              "      background-color: #3B4455;\n",
              "      fill: #D2E3FC;\n",
              "    }\n",
              "\n",
              "    [theme=dark] .colab-df-convert:hover {\n",
              "      background-color: #434B5C;\n",
              "      box-shadow: 0px 1px 3px 1px rgba(0, 0, 0, 0.15);\n",
              "      filter: drop-shadow(0px 1px 2px rgba(0, 0, 0, 0.3));\n",
              "      fill: #FFFFFF;\n",
              "    }\n",
              "  </style>\n",
              "\n",
              "    <script>\n",
              "      const buttonEl =\n",
              "        document.querySelector('#df-ae9aa22d-1375-4ab9-89e4-ff517b21521c button.colab-df-convert');\n",
              "      buttonEl.style.display =\n",
              "        google.colab.kernel.accessAllowed ? 'block' : 'none';\n",
              "\n",
              "      async function convertToInteractive(key) {\n",
              "        const element = document.querySelector('#df-ae9aa22d-1375-4ab9-89e4-ff517b21521c');\n",
              "        const dataTable =\n",
              "          await google.colab.kernel.invokeFunction('convertToInteractive',\n",
              "                                                    [key], {});\n",
              "        if (!dataTable) return;\n",
              "\n",
              "        const docLinkHtml = 'Like what you see? Visit the ' +\n",
              "          '<a target=\"_blank\" href=https://colab.research.google.com/notebooks/data_table.ipynb>data table notebook</a>'\n",
              "          + ' to learn more about interactive tables.';\n",
              "        element.innerHTML = '';\n",
              "        dataTable['output_type'] = 'display_data';\n",
              "        await google.colab.output.renderOutput(dataTable, element);\n",
              "        const docLink = document.createElement('div');\n",
              "        docLink.innerHTML = docLinkHtml;\n",
              "        element.appendChild(docLink);\n",
              "      }\n",
              "    </script>\n",
              "  </div>\n",
              "\n",
              "\n",
              "<div id=\"df-c522bfff-60f3-40eb-8b88-4cc44a70adcd\">\n",
              "  <button class=\"colab-df-quickchart\" onclick=\"quickchart('df-c522bfff-60f3-40eb-8b88-4cc44a70adcd')\"\n",
              "            title=\"Suggest charts\"\n",
              "            style=\"display:none;\">\n",
              "\n",
              "<svg xmlns=\"http://www.w3.org/2000/svg\" height=\"24px\"viewBox=\"0 0 24 24\"\n",
              "     width=\"24px\">\n",
              "    <g>\n",
              "        <path d=\"M19 3H5c-1.1 0-2 .9-2 2v14c0 1.1.9 2 2 2h14c1.1 0 2-.9 2-2V5c0-1.1-.9-2-2-2zM9 17H7v-7h2v7zm4 0h-2V7h2v10zm4 0h-2v-4h2v4z\"/>\n",
              "    </g>\n",
              "</svg>\n",
              "  </button>\n",
              "\n",
              "<style>\n",
              "  .colab-df-quickchart {\n",
              "      --bg-color: #E8F0FE;\n",
              "      --fill-color: #1967D2;\n",
              "      --hover-bg-color: #E2EBFA;\n",
              "      --hover-fill-color: #174EA6;\n",
              "      --disabled-fill-color: #AAA;\n",
              "      --disabled-bg-color: #DDD;\n",
              "  }\n",
              "\n",
              "  [theme=dark] .colab-df-quickchart {\n",
              "      --bg-color: #3B4455;\n",
              "      --fill-color: #D2E3FC;\n",
              "      --hover-bg-color: #434B5C;\n",
              "      --hover-fill-color: #FFFFFF;\n",
              "      --disabled-bg-color: #3B4455;\n",
              "      --disabled-fill-color: #666;\n",
              "  }\n",
              "\n",
              "  .colab-df-quickchart {\n",
              "    background-color: var(--bg-color);\n",
              "    border: none;\n",
              "    border-radius: 50%;\n",
              "    cursor: pointer;\n",
              "    display: none;\n",
              "    fill: var(--fill-color);\n",
              "    height: 32px;\n",
              "    padding: 0;\n",
              "    width: 32px;\n",
              "  }\n",
              "\n",
              "  .colab-df-quickchart:hover {\n",
              "    background-color: var(--hover-bg-color);\n",
              "    box-shadow: 0 1px 2px rgba(60, 64, 67, 0.3), 0 1px 3px 1px rgba(60, 64, 67, 0.15);\n",
              "    fill: var(--button-hover-fill-color);\n",
              "  }\n",
              "\n",
              "  .colab-df-quickchart-complete:disabled,\n",
              "  .colab-df-quickchart-complete:disabled:hover {\n",
              "    background-color: var(--disabled-bg-color);\n",
              "    fill: var(--disabled-fill-color);\n",
              "    box-shadow: none;\n",
              "  }\n",
              "\n",
              "  .colab-df-spinner {\n",
              "    border: 2px solid var(--fill-color);\n",
              "    border-color: transparent;\n",
              "    border-bottom-color: var(--fill-color);\n",
              "    animation:\n",
              "      spin 1s steps(1) infinite;\n",
              "  }\n",
              "\n",
              "  @keyframes spin {\n",
              "    0% {\n",
              "      border-color: transparent;\n",
              "      border-bottom-color: var(--fill-color);\n",
              "      border-left-color: var(--fill-color);\n",
              "    }\n",
              "    20% {\n",
              "      border-color: transparent;\n",
              "      border-left-color: var(--fill-color);\n",
              "      border-top-color: var(--fill-color);\n",
              "    }\n",
              "    30% {\n",
              "      border-color: transparent;\n",
              "      border-left-color: var(--fill-color);\n",
              "      border-top-color: var(--fill-color);\n",
              "      border-right-color: var(--fill-color);\n",
              "    }\n",
              "    40% {\n",
              "      border-color: transparent;\n",
              "      border-right-color: var(--fill-color);\n",
              "      border-top-color: var(--fill-color);\n",
              "    }\n",
              "    60% {\n",
              "      border-color: transparent;\n",
              "      border-right-color: var(--fill-color);\n",
              "    }\n",
              "    80% {\n",
              "      border-color: transparent;\n",
              "      border-right-color: var(--fill-color);\n",
              "      border-bottom-color: var(--fill-color);\n",
              "    }\n",
              "    90% {\n",
              "      border-color: transparent;\n",
              "      border-bottom-color: var(--fill-color);\n",
              "    }\n",
              "  }\n",
              "</style>\n",
              "\n",
              "  <script>\n",
              "    async function quickchart(key) {\n",
              "      const quickchartButtonEl =\n",
              "        document.querySelector('#' + key + ' button');\n",
              "      quickchartButtonEl.disabled = true;  // To prevent multiple clicks.\n",
              "      quickchartButtonEl.classList.add('colab-df-spinner');\n",
              "      try {\n",
              "        const charts = await google.colab.kernel.invokeFunction(\n",
              "            'suggestCharts', [key], {});\n",
              "      } catch (error) {\n",
              "        console.error('Error during call to suggestCharts:', error);\n",
              "      }\n",
              "      quickchartButtonEl.classList.remove('colab-df-spinner');\n",
              "      quickchartButtonEl.classList.add('colab-df-quickchart-complete');\n",
              "    }\n",
              "    (() => {\n",
              "      let quickchartButtonEl =\n",
              "        document.querySelector('#df-c522bfff-60f3-40eb-8b88-4cc44a70adcd button');\n",
              "      quickchartButtonEl.style.display =\n",
              "        google.colab.kernel.accessAllowed ? 'block' : 'none';\n",
              "    })();\n",
              "  </script>\n",
              "</div>\n",
              "    </div>\n",
              "  </div>\n"
            ]
          },
          "metadata": {},
          "execution_count": 16
        }
      ]
    },
    {
      "cell_type": "markdown",
      "source": [
        "# **Train-Test**\n",
        "\n",
        "En todo proceso de aprendizaje estadístico es recomendable repartir las observaciones en un set de entrenamiento y otro de test. Esto permite evaluar la capacidad del modelo. Para este ejercicio se selecciona como test un 20% aleatorio de los registros."
      ],
      "metadata": {
        "id": "j5_eUIIvQrBs"
      }
    },
    {
      "cell_type": "code",
      "source": [
        "# Reparto train y test\n",
        "# ==============================================================================\n",
        "from sklearn.model_selection import train_test_split\n",
        "\n",
        "datos_X = df['text']\n",
        "datos_y = df['lang']\n",
        "\n",
        "X_train, X_test, y_train, y_test = train_test_split(\n",
        "    datos_X,\n",
        "    datos_y,\n",
        "    test_size = 0.2,\n",
        "    random_state = 123\n",
        "\n",
        ")\n"
      ],
      "metadata": {
        "id": "xM-AvYjtMYYz"
      },
      "execution_count": 17,
      "outputs": []
    },
    {
      "cell_type": "markdown",
      "source": [
        "Es importante verificar que la proporción de cada grupo es similar en el set de entrenamiento y en el de test."
      ],
      "metadata": {
        "id": "8Hw0CRuWRKq6"
      }
    },
    {
      "cell_type": "code",
      "source": [
        "value, counts = np.unique(y_train, return_counts=True)\n",
        "print('Proporción en el grupo de entrenamiento:')\n",
        "print(dict(zip(value, 100 * counts / sum(counts))))\n",
        "value, counts = np.unique(y_test, return_counts=True)\n",
        "print('Proporción en el grupo de prueba:')\n",
        "print(dict(zip(value, 100 * counts / sum(counts))))"
      ],
      "metadata": {
        "id": "zPPdJSt2RObR",
        "colab": {
          "base_uri": "https://localhost:8080/"
        },
        "outputId": "8a8240e9-8ee0-4228-fb93-2c610d91d836"
      },
      "execution_count": 18,
      "outputs": [
        {
          "output_type": "stream",
          "name": "stdout",
          "text": [
            "Proporción en el grupo de entrenamiento:\n",
            "{'en': 49.473684210526315, 'nl': 50.526315789473685}\n",
            "Proporción en el grupo de prueba:\n",
            "{'en': 51.86915887850467, 'nl': 48.13084112149533}\n"
          ]
        }
      ]
    },
    {
      "cell_type": "markdown",
      "source": [
        "# **Vectorización tf-idf**\n",
        "\n",
        "Empleando los registros de entrenamiento se crea un matriz tf-idf en la que cada columna es un término (palabra), cada fila un documento (registro) y el valor de intersección el tf-idf correspondiente. Para facilitar la obtención de la matriz TF-IDF se recurre a la clase TfidVectorized de Scikit-Learn pero, en lugar de utilizar el tokenizador por defecto, se emplea la función definida en los apartados anteriores (limpiar_tokenizar()).\n",
        "\n",
        "También notese que en el parametro stop_words le decimos al vectorizador que no elimine ninguna stopword, ya que estas son muy importantes a la hora de discriminar entre idiomas."
      ],
      "metadata": {
        "id": "QLsrzCwZTPdW"
      }
    },
    {
      "cell_type": "code",
      "source": [
        "from sklearn.feature_extraction.text import TfidfVectorizer\n",
        "\n",
        "# Creación de la matriz tf-idf\n",
        "# ==============================================================================\n",
        "tfidf_vectorizador = TfidfVectorizer(\n",
        "                        tokenizer  = limpiar_tokenizar,\n",
        "                        min_df     = 3,\n",
        "                        stop_words = None\n",
        "                    )\n",
        "tfidf_vectorizador.fit(X_train)"
      ],
      "metadata": {
        "id": "2QgoFsv0TfR0",
        "colab": {
          "base_uri": "https://localhost:8080/",
          "height": 147
        },
        "outputId": "f2f8d1c1-4242-4f90-bc8e-f923ebe0a7fb"
      },
      "execution_count": 19,
      "outputs": [
        {
          "output_type": "stream",
          "name": "stderr",
          "text": [
            "/usr/local/lib/python3.10/dist-packages/sklearn/feature_extraction/text.py:528: UserWarning: The parameter 'token_pattern' will not be used since 'tokenizer' is not None'\n",
            "  warnings.warn(\n"
          ]
        },
        {
          "output_type": "execute_result",
          "data": {
            "text/plain": [
              "TfidfVectorizer(min_df=3,\n",
              "                tokenizer=<function limpiar_tokenizar at 0x7ad612d16320>)"
            ],
            "text/html": [
              "<style>#sk-container-id-1 {color: black;background-color: white;}#sk-container-id-1 pre{padding: 0;}#sk-container-id-1 div.sk-toggleable {background-color: white;}#sk-container-id-1 label.sk-toggleable__label {cursor: pointer;display: block;width: 100%;margin-bottom: 0;padding: 0.3em;box-sizing: border-box;text-align: center;}#sk-container-id-1 label.sk-toggleable__label-arrow:before {content: \"▸\";float: left;margin-right: 0.25em;color: #696969;}#sk-container-id-1 label.sk-toggleable__label-arrow:hover:before {color: black;}#sk-container-id-1 div.sk-estimator:hover label.sk-toggleable__label-arrow:before {color: black;}#sk-container-id-1 div.sk-toggleable__content {max-height: 0;max-width: 0;overflow: hidden;text-align: left;background-color: #f0f8ff;}#sk-container-id-1 div.sk-toggleable__content pre {margin: 0.2em;color: black;border-radius: 0.25em;background-color: #f0f8ff;}#sk-container-id-1 input.sk-toggleable__control:checked~div.sk-toggleable__content {max-height: 200px;max-width: 100%;overflow: auto;}#sk-container-id-1 input.sk-toggleable__control:checked~label.sk-toggleable__label-arrow:before {content: \"▾\";}#sk-container-id-1 div.sk-estimator input.sk-toggleable__control:checked~label.sk-toggleable__label {background-color: #d4ebff;}#sk-container-id-1 div.sk-label input.sk-toggleable__control:checked~label.sk-toggleable__label {background-color: #d4ebff;}#sk-container-id-1 input.sk-hidden--visually {border: 0;clip: rect(1px 1px 1px 1px);clip: rect(1px, 1px, 1px, 1px);height: 1px;margin: -1px;overflow: hidden;padding: 0;position: absolute;width: 1px;}#sk-container-id-1 div.sk-estimator {font-family: monospace;background-color: #f0f8ff;border: 1px dotted black;border-radius: 0.25em;box-sizing: border-box;margin-bottom: 0.5em;}#sk-container-id-1 div.sk-estimator:hover {background-color: #d4ebff;}#sk-container-id-1 div.sk-parallel-item::after {content: \"\";width: 100%;border-bottom: 1px solid gray;flex-grow: 1;}#sk-container-id-1 div.sk-label:hover label.sk-toggleable__label {background-color: #d4ebff;}#sk-container-id-1 div.sk-serial::before {content: \"\";position: absolute;border-left: 1px solid gray;box-sizing: border-box;top: 0;bottom: 0;left: 50%;z-index: 0;}#sk-container-id-1 div.sk-serial {display: flex;flex-direction: column;align-items: center;background-color: white;padding-right: 0.2em;padding-left: 0.2em;position: relative;}#sk-container-id-1 div.sk-item {position: relative;z-index: 1;}#sk-container-id-1 div.sk-parallel {display: flex;align-items: stretch;justify-content: center;background-color: white;position: relative;}#sk-container-id-1 div.sk-item::before, #sk-container-id-1 div.sk-parallel-item::before {content: \"\";position: absolute;border-left: 1px solid gray;box-sizing: border-box;top: 0;bottom: 0;left: 50%;z-index: -1;}#sk-container-id-1 div.sk-parallel-item {display: flex;flex-direction: column;z-index: 1;position: relative;background-color: white;}#sk-container-id-1 div.sk-parallel-item:first-child::after {align-self: flex-end;width: 50%;}#sk-container-id-1 div.sk-parallel-item:last-child::after {align-self: flex-start;width: 50%;}#sk-container-id-1 div.sk-parallel-item:only-child::after {width: 0;}#sk-container-id-1 div.sk-dashed-wrapped {border: 1px dashed gray;margin: 0 0.4em 0.5em 0.4em;box-sizing: border-box;padding-bottom: 0.4em;background-color: white;}#sk-container-id-1 div.sk-label label {font-family: monospace;font-weight: bold;display: inline-block;line-height: 1.2em;}#sk-container-id-1 div.sk-label-container {text-align: center;}#sk-container-id-1 div.sk-container {/* jupyter's `normalize.less` sets `[hidden] { display: none; }` but bootstrap.min.css set `[hidden] { display: none !important; }` so we also need the `!important` here to be able to override the default hidden behavior on the sphinx rendered scikit-learn.org. See: https://github.com/scikit-learn/scikit-learn/issues/21755 */display: inline-block !important;position: relative;}#sk-container-id-1 div.sk-text-repr-fallback {display: none;}</style><div id=\"sk-container-id-1\" class=\"sk-top-container\"><div class=\"sk-text-repr-fallback\"><pre>TfidfVectorizer(min_df=3,\n",
              "                tokenizer=&lt;function limpiar_tokenizar at 0x7ad612d16320&gt;)</pre><b>In a Jupyter environment, please rerun this cell to show the HTML representation or trust the notebook. <br />On GitHub, the HTML representation is unable to render, please try loading this page with nbviewer.org.</b></div><div class=\"sk-container\" hidden><div class=\"sk-item\"><div class=\"sk-estimator sk-toggleable\"><input class=\"sk-toggleable__control sk-hidden--visually\" id=\"sk-estimator-id-1\" type=\"checkbox\" checked><label for=\"sk-estimator-id-1\" class=\"sk-toggleable__label sk-toggleable__label-arrow\">TfidfVectorizer</label><div class=\"sk-toggleable__content\"><pre>TfidfVectorizer(min_df=3,\n",
              "                tokenizer=&lt;function limpiar_tokenizar at 0x7ad612d16320&gt;)</pre></div></div></div></div></div>"
            ]
          },
          "metadata": {},
          "execution_count": 19
        }
      ]
    },
    {
      "cell_type": "markdown",
      "source": [
        "A la hora de transformar los documentos de test, hay que proyectarlos en la misma matriz obtenida previamente con los documentos de entrenamiento. Esto es importante ya que, si en los documentos de test hay algún término que no aparece en los de entrenamiento o viceversa, las dimensiones de cada matriz no coinciden."
      ],
      "metadata": {
        "id": "aQ-cBMnhXOvn"
      }
    },
    {
      "cell_type": "code",
      "source": [
        "vect_Xtrain = tfidf_vectorizador.transform(X_train)\n",
        "vect_Xtest  = tfidf_vectorizador.transform(X_test)"
      ],
      "metadata": {
        "id": "ZYym0JRwZMFL"
      },
      "execution_count": 20,
      "outputs": []
    },
    {
      "cell_type": "code",
      "source": [
        "print(f\" Número de tokens creados: {len(tfidf_vectorizador.get_feature_names_out())}\")\n",
        "print(tfidf_vectorizador.get_feature_names_out()[:10])"
      ],
      "metadata": {
        "id": "aWOT2UjgaW2v",
        "colab": {
          "base_uri": "https://localhost:8080/"
        },
        "outputId": "c54f6a09-b2f1-4b57-c085-5259e106bfb9"
      },
      "execution_count": 21,
      "outputs": [
        {
          "output_type": "stream",
          "name": "stdout",
          "text": [
            " Número de tokens creados: 621\n",
            "['a' 'aan' 'aarde' 'about' 'act' 'administration' 'af' 'africa' 'african'\n",
            " 'after']\n"
          ]
        }
      ]
    },
    {
      "cell_type": "code",
      "source": [
        "print(\"Conjunto de entrenamiento - Características:\", vect_Xtrain.shape)\n",
        "print(\"Conjunto de entrenamiento - Etiquetas:\", y_train.shape)\n",
        "print(\"Conjunto de prueba - Características:\", vect_Xtest.shape)\n",
        "print(\"Conjunto de prueba - Etiquetas:\", y_test.shape)"
      ],
      "metadata": {
        "id": "th57xap1eaPJ",
        "colab": {
          "base_uri": "https://localhost:8080/"
        },
        "outputId": "ffb09fd7-b8a7-413e-abaf-c4804f21d219"
      },
      "execution_count": 22,
      "outputs": [
        {
          "output_type": "stream",
          "name": "stdout",
          "text": [
            "Conjunto de entrenamiento - Características: (855, 621)\n",
            "Conjunto de entrenamiento - Etiquetas: (855,)\n",
            "Conjunto de prueba - Características: (214, 621)\n",
            "Conjunto de prueba - Etiquetas: (214,)\n"
          ]
        }
      ]
    },
    {
      "cell_type": "code",
      "source": [],
      "metadata": {
        "id": "ox2UYZ1DAwl_"
      },
      "execution_count": 22,
      "outputs": []
    },
    {
      "cell_type": "markdown",
      "source": [
        "# **Funciones de selección de caracteristicas**\n",
        "La función cuasiConstantes() toma matrices de entrenamiento y prueba, aplicando la eliminación de características cuasi-constantes utilizando VarianceThreshold, la cual es una clase en la biblioteca scikit-learn que se utiliza para realizar la selección de características basada en la varianza, eliminando las características que tienen muy poca varianza. Luego, devuelve las matrices de entrenamiento y prueba después de la eliminación, junto con los índices de las características seleccionadas.\n",
        "\n",
        "Adicionalmente, implementamos una función llamada ScaracteristicasRandom() que utiliza Recursive Feature Elimination (RFE) en combinación con un clasificador Random Forest para seleccionar y clasificar características.\n",
        "\n",
        "La idea principal detrás de RFE es ajustar repetidamente un modelo y eliminar las características menos importantes hasta que se alcance el número deseado de características o hasta que no haya más características para eliminar."
      ],
      "metadata": {
        "id": "Opjmu329hcNE"
      }
    },
    {
      "cell_type": "code",
      "source": [
        "from sklearn.feature_selection import VarianceThreshold\n",
        "from sklearn.ensemble import RandomForestClassifier\n",
        "from sklearn.feature_selection import RFE\n",
        "from sklearn.datasets import make_classification\n",
        "\n",
        "def cuasiConstantes(Xtrain, Xtest, threshold=0.005):\n",
        "    # Crear el objeto VarianceThreshold\n",
        "    selector = VarianceThreshold(threshold=threshold)\n",
        "\n",
        "    # Aplicar la eliminación de características cuasi-constantes en la matriz tf-idf de entrenamiento\n",
        "    xtrain = selector.fit_transform(Xtrain)\n",
        "\n",
        "    # Obtener los índices de las características seleccionadas\n",
        "    selected_feature_indices = selector.get_support(indices=True)\n",
        "\n",
        "    # Filtrar la matriz tf-idf de prueba utilizando los índices de características seleccionadas\n",
        "    xtest = selector.transform(Xtest)\n",
        "\n",
        "    num_selected_features = xtrain.shape[1]\n",
        "    print(\"Número de características seleccionadas:\", num_selected_features)\n",
        "\n",
        "    return xtrain, xtest, selected_feature_indices\n",
        "\n",
        "\n",
        "\n",
        "def ScaracteristicasRandom(xtrain, y_train, n_estimators=100, max_depth=None, min_samples_split=2):\n",
        "    # Crear un estimador Random Forest con parámetros ajustados\n",
        "    rf = RandomForestClassifier(n_estimators=n_estimators, max_depth=max_depth, min_samples_split=min_samples_split, n_jobs=-1)\n",
        "\n",
        "    # Crear un selector RFE con Random Forest y ranking\n",
        "    rfe = RFE(estimator=rf, step=2)\n",
        "\n",
        "    # Aplicar RFE al conjunto de datos\n",
        "    xtrainE = rfe.fit_transform(xtrain, y_train)\n",
        "    # Obtener las características seleccionadas\n",
        "    selected_features = rfe.support_\n",
        "\n",
        "    # Obtener el ranking de importancia de características\n",
        "    feature_ranking = rfe.ranking_\n",
        "\n",
        "    # Imprimir las características seleccionadas\n",
        "    print(\"Características seleccionadas:\")\n",
        "    for i, feature in enumerate(selected_features):\n",
        "        if feature:\n",
        "            print(f\"Feature {i+1}\")\n",
        "\n",
        "    # Imprimir el ranking de características\n",
        "    print(\"Ranking de características :\")\n",
        "    for i, rank in enumerate(feature_ranking):\n",
        "        print(f\"Feature {i+1}: {rank}\")\n",
        "\n",
        "    return xtrainE, selected_features, feature_ranking\n",
        "\n"
      ],
      "metadata": {
        "id": "55XcBNPsiEzo"
      },
      "execution_count": 23,
      "outputs": []
    },
    {
      "cell_type": "code",
      "source": [
        "#invocamos la función cuasiConstantes()\n",
        "\n",
        "selected_xtrain, selected_xtest, selected_feature_indices = cuasiConstantes(vect_Xtrain, vect_Xtest)\n",
        "\n",
        "print(selected_xtrain.shape)\n",
        "print(selected_xtest.shape)\n",
        "print(selected_feature_indices)\n",
        "print([tfidf_vectorizador.get_feature_names_out()[i] for i in selected_feature_indices])"
      ],
      "metadata": {
        "id": "YwJzqXTL44ht",
        "colab": {
          "base_uri": "https://localhost:8080/"
        },
        "outputId": "16ec7d79-cf89-46b8-c369-b14af6d9880a"
      },
      "execution_count": 24,
      "outputs": [
        {
          "output_type": "stream",
          "name": "stdout",
          "text": [
            "Número de características seleccionadas: 29\n",
            "(855, 29)\n",
            "(214, 29)\n",
            "[  0   1  18  25  40 120 123 134 140 154 162 182 226 233 237 240 251 263\n",
            " 340 379 395 497 508 518 551 566 575 581 616]\n",
            "['a', 'aan', 'als', 'and', 'as', 'dat', 'de', 'die', 'door', 'een', 'en', 'for', 'he', 'het', 'hij', 'his', 'in', 'is', 'met', 'of', 'op', 'te', 'the', 'to', 'van', 'voor', 'was', 'werd', 'zijn']\n"
          ]
        }
      ]
    },
    {
      "cell_type": "code",
      "source": [
        "#Invocamos la función ScaracteristicasRandom()\n",
        "xtrainE, selected_features, feature_ranking = ScaracteristicasRandom(selected_xtrain, y_train)\n",
        "\n",
        "# Conjunto de prueba transformado\n",
        "xtestE = selected_xtest[:, selected_features]"
      ],
      "metadata": {
        "id": "lUPyYzZjWwCD",
        "colab": {
          "base_uri": "https://localhost:8080/"
        },
        "outputId": "1b4cf3af-7f5b-4968-8ef2-e62c42c514df"
      },
      "execution_count": 25,
      "outputs": [
        {
          "output_type": "stream",
          "name": "stdout",
          "text": [
            "Características seleccionadas:\n",
            "Feature 1\n",
            "Feature 4\n",
            "Feature 7\n",
            "Feature 8\n",
            "Feature 10\n",
            "Feature 11\n",
            "Feature 14\n",
            "Feature 20\n",
            "Feature 21\n",
            "Feature 23\n",
            "Feature 24\n",
            "Feature 25\n",
            "Feature 26\n",
            "Feature 29\n",
            "Ranking de características :\n",
            "Feature 1: 1\n",
            "Feature 2: 4\n",
            "Feature 3: 2\n",
            "Feature 4: 1\n",
            "Feature 5: 4\n",
            "Feature 6: 5\n",
            "Feature 7: 1\n",
            "Feature 8: 1\n",
            "Feature 9: 3\n",
            "Feature 10: 1\n",
            "Feature 11: 1\n",
            "Feature 12: 7\n",
            "Feature 13: 9\n",
            "Feature 14: 1\n",
            "Feature 15: 5\n",
            "Feature 16: 9\n",
            "Feature 17: 6\n",
            "Feature 18: 6\n",
            "Feature 19: 8\n",
            "Feature 20: 1\n",
            "Feature 21: 1\n",
            "Feature 22: 3\n",
            "Feature 23: 1\n",
            "Feature 24: 1\n",
            "Feature 25: 1\n",
            "Feature 26: 1\n",
            "Feature 27: 7\n",
            "Feature 28: 8\n",
            "Feature 29: 1\n"
          ]
        }
      ]
    },
    {
      "cell_type": "code",
      "source": [
        "# Contar características seleccionadas\n",
        "num_selected_features = sum(selected_features)\n",
        "print(\"Número de características seleccionadas:\", num_selected_features)"
      ],
      "metadata": {
        "id": "X0RfK3D0XpK7",
        "colab": {
          "base_uri": "https://localhost:8080/"
        },
        "outputId": "01c2c630-6748-468c-e411-95d56589325a"
      },
      "execution_count": 26,
      "outputs": [
        {
          "output_type": "stream",
          "name": "stdout",
          "text": [
            "Número de características seleccionadas: 14\n"
          ]
        }
      ]
    },
    {
      "cell_type": "markdown",
      "source": [
        "#**METODOS DE APRENDIZAJE DE MÁQUINA**"
      ],
      "metadata": {
        "id": "IN17vkJFdko3"
      }
    },
    {
      "cell_type": "markdown",
      "source": [
        "##**Arboles de Decisión**\n"
      ],
      "metadata": {
        "id": "DgHiU2g4e7_s"
      }
    },
    {
      "cell_type": "markdown",
      "source": [
        "###Prueba con parametros por defecto\n",
        "\n",
        "Imprimimos las dimensiones del conjunto de entrenamiento y prueba, proporcionando información sobre la cantidad de instancias y características en los datos de entrenamiento y prueba, así como la forma de las etiquetas asociadas."
      ],
      "metadata": {
        "id": "snhGuUPV3nur"
      }
    },
    {
      "cell_type": "code",
      "source": [
        "print(\"Dimensiones entreamiento :\", xtrainE.shape)\n",
        "print(\"Dimensiones prueba \", xtestE.shape)"
      ],
      "metadata": {
        "colab": {
          "base_uri": "https://localhost:8080/"
        },
        "id": "xr5hfhhfUhh7",
        "outputId": "07c65d1d-7e60-4d96-a1e2-6f51a9954224"
      },
      "execution_count": 41,
      "outputs": [
        {
          "output_type": "stream",
          "name": "stdout",
          "text": [
            "Dimensiones entreamiento : (855, 14)\n",
            "Dimensiones prueba  (214, 14)\n"
          ]
        }
      ]
    },
    {
      "cell_type": "markdown",
      "source": [
        "A continuacion, entrenamos el modelo de clasificación de arbol de decisión, realizando validación cruzada para evaluar el rendimiento, y luego imprimir la precisión del modelo en los datos de entrenamiento y prueba.\n",
        "\n",
        "La validación cruzada nos proporciona una evaluación más robusta del rendimiento del modelo al dividir los datos en conjuntos de entrenamiento y prueba en múltiples iteraciones."
      ],
      "metadata": {
        "id": "c25Or5LQq2aY"
      }
    },
    {
      "cell_type": "code",
      "source": [
        "from sklearn.tree import DecisionTreeClassifier\n",
        "from sklearn.model_selection import cross_val_score\n",
        "\n",
        "dt_Model = DecisionTreeClassifier()\n",
        "cross_val_scores = cross_val_score(dt_Model, xtrainE, y_train, cv=2)\n",
        "dt_Model.fit(xtrainE, y_train)\n",
        "# Evaluar el rendimiento del modelo en los datos de entrenamiento y prueba\n",
        "train_accuracy = dt_Model.score(xtrainE, y_train) * 100\n",
        "test_accuracy = dt_Model.score(xtestE, y_test) * 100\n",
        "\n",
        "print(\"Precisión del entrenamiento:\", \"{:.3f}%\".format(train_accuracy))\n",
        "print(\"Precisión de prueba:\", \"{:.3f}%\".format(test_accuracy))\n",
        "\n",
        "# Imprimir los resultados de la validación cruzada\n",
        "print(\"Resultados de la validación cruzada:\")\n",
        "print(cross_val_scores)\n",
        "print(\"Precisión media: {:.2f}\".format(cross_val_scores.mean()))"
      ],
      "metadata": {
        "id": "y57ZvCBuXtPh",
        "colab": {
          "base_uri": "https://localhost:8080/"
        },
        "outputId": "575de5d0-cd74-430d-d73b-1df3d2b5299a"
      },
      "execution_count": 42,
      "outputs": [
        {
          "output_type": "stream",
          "name": "stdout",
          "text": [
            "Precisión del entrenamiento: 99.181%\n",
            "Precisión de prueba: 99.065%\n",
            "Resultados de la validación cruzada:\n",
            "[0.97663551 0.98126464]\n",
            "Precisión media: 0.98\n"
          ]
        }
      ]
    },
    {
      "cell_type": "markdown",
      "source": [
        "###Prueba con Hiperparametros Ajustados:\n",
        "\n",
        "Definimos la matriz de hiperparámetros para su posteior uso."
      ],
      "metadata": {
        "id": "dvWQiCKGXAPV"
      }
    },
    {
      "cell_type": "code",
      "source": [
        "param_grid = {\n",
        "    'criterion': ['gini', 'entropy'],\n",
        "    'max_depth': [None, 5, 10],\n",
        "    'min_samples_split': [2,4, 8, 10],\n",
        "    'min_samples_leaf': [4, 2, 15],\n",
        "    'max_features': ['auto', 'sqrt', 'log2']\n",
        "}\n",
        "print(param_grid)"
      ],
      "metadata": {
        "colab": {
          "base_uri": "https://localhost:8080/"
        },
        "id": "Y4KtgwryXpwR",
        "outputId": "ebc8562f-becc-43fd-9d36-1dfdcf7bd004"
      },
      "execution_count": 43,
      "outputs": [
        {
          "output_type": "stream",
          "name": "stdout",
          "text": [
            "{'criterion': ['gini', 'entropy'], 'max_depth': [None, 5, 10], 'min_samples_split': [2, 4, 8, 10], 'min_samples_leaf': [4, 2, 15], 'max_features': ['auto', 'sqrt', 'log2']}\n"
          ]
        }
      ]
    },
    {
      "cell_type": "markdown",
      "source": [
        "###Utilización de la función GridSearchCV"
      ],
      "metadata": {
        "id": "Y46l85x-Z62I"
      }
    },
    {
      "cell_type": "code",
      "source": [
        "from sklearn.model_selection import GridSearchCV\n",
        "\n",
        "dt_Grid = GridSearchCV(estimator = dt_Model, param_grid = param_grid, cv = 2, verbose=2, n_jobs = -1)\n",
        "\n",
        "dt_Grid.fit(xtrainE, y_train)"
      ],
      "metadata": {
        "colab": {
          "base_uri": "https://localhost:8080/",
          "height": 135
        },
        "id": "fab9uvslZ8ja",
        "outputId": "d8928f58-85a1-4704-ea15-08362ce83ad9"
      },
      "execution_count": 44,
      "outputs": [
        {
          "output_type": "stream",
          "name": "stdout",
          "text": [
            "Fitting 2 folds for each of 216 candidates, totalling 432 fits\n"
          ]
        },
        {
          "output_type": "execute_result",
          "data": {
            "text/plain": [
              "GridSearchCV(cv=2, estimator=DecisionTreeClassifier(), n_jobs=-1,\n",
              "             param_grid={'criterion': ['gini', 'entropy'],\n",
              "                         'max_depth': [None, 5, 10],\n",
              "                         'max_features': ['auto', 'sqrt', 'log2'],\n",
              "                         'min_samples_leaf': [4, 2, 15],\n",
              "                         'min_samples_split': [2, 4, 8, 10]},\n",
              "             verbose=2)"
            ],
            "text/html": [
              "<style>#sk-container-id-3 {color: black;background-color: white;}#sk-container-id-3 pre{padding: 0;}#sk-container-id-3 div.sk-toggleable {background-color: white;}#sk-container-id-3 label.sk-toggleable__label {cursor: pointer;display: block;width: 100%;margin-bottom: 0;padding: 0.3em;box-sizing: border-box;text-align: center;}#sk-container-id-3 label.sk-toggleable__label-arrow:before {content: \"▸\";float: left;margin-right: 0.25em;color: #696969;}#sk-container-id-3 label.sk-toggleable__label-arrow:hover:before {color: black;}#sk-container-id-3 div.sk-estimator:hover label.sk-toggleable__label-arrow:before {color: black;}#sk-container-id-3 div.sk-toggleable__content {max-height: 0;max-width: 0;overflow: hidden;text-align: left;background-color: #f0f8ff;}#sk-container-id-3 div.sk-toggleable__content pre {margin: 0.2em;color: black;border-radius: 0.25em;background-color: #f0f8ff;}#sk-container-id-3 input.sk-toggleable__control:checked~div.sk-toggleable__content {max-height: 200px;max-width: 100%;overflow: auto;}#sk-container-id-3 input.sk-toggleable__control:checked~label.sk-toggleable__label-arrow:before {content: \"▾\";}#sk-container-id-3 div.sk-estimator input.sk-toggleable__control:checked~label.sk-toggleable__label {background-color: #d4ebff;}#sk-container-id-3 div.sk-label input.sk-toggleable__control:checked~label.sk-toggleable__label {background-color: #d4ebff;}#sk-container-id-3 input.sk-hidden--visually {border: 0;clip: rect(1px 1px 1px 1px);clip: rect(1px, 1px, 1px, 1px);height: 1px;margin: -1px;overflow: hidden;padding: 0;position: absolute;width: 1px;}#sk-container-id-3 div.sk-estimator {font-family: monospace;background-color: #f0f8ff;border: 1px dotted black;border-radius: 0.25em;box-sizing: border-box;margin-bottom: 0.5em;}#sk-container-id-3 div.sk-estimator:hover {background-color: #d4ebff;}#sk-container-id-3 div.sk-parallel-item::after {content: \"\";width: 100%;border-bottom: 1px solid gray;flex-grow: 1;}#sk-container-id-3 div.sk-label:hover label.sk-toggleable__label {background-color: #d4ebff;}#sk-container-id-3 div.sk-serial::before {content: \"\";position: absolute;border-left: 1px solid gray;box-sizing: border-box;top: 0;bottom: 0;left: 50%;z-index: 0;}#sk-container-id-3 div.sk-serial {display: flex;flex-direction: column;align-items: center;background-color: white;padding-right: 0.2em;padding-left: 0.2em;position: relative;}#sk-container-id-3 div.sk-item {position: relative;z-index: 1;}#sk-container-id-3 div.sk-parallel {display: flex;align-items: stretch;justify-content: center;background-color: white;position: relative;}#sk-container-id-3 div.sk-item::before, #sk-container-id-3 div.sk-parallel-item::before {content: \"\";position: absolute;border-left: 1px solid gray;box-sizing: border-box;top: 0;bottom: 0;left: 50%;z-index: -1;}#sk-container-id-3 div.sk-parallel-item {display: flex;flex-direction: column;z-index: 1;position: relative;background-color: white;}#sk-container-id-3 div.sk-parallel-item:first-child::after {align-self: flex-end;width: 50%;}#sk-container-id-3 div.sk-parallel-item:last-child::after {align-self: flex-start;width: 50%;}#sk-container-id-3 div.sk-parallel-item:only-child::after {width: 0;}#sk-container-id-3 div.sk-dashed-wrapped {border: 1px dashed gray;margin: 0 0.4em 0.5em 0.4em;box-sizing: border-box;padding-bottom: 0.4em;background-color: white;}#sk-container-id-3 div.sk-label label {font-family: monospace;font-weight: bold;display: inline-block;line-height: 1.2em;}#sk-container-id-3 div.sk-label-container {text-align: center;}#sk-container-id-3 div.sk-container {/* jupyter's `normalize.less` sets `[hidden] { display: none; }` but bootstrap.min.css set `[hidden] { display: none !important; }` so we also need the `!important` here to be able to override the default hidden behavior on the sphinx rendered scikit-learn.org. See: https://github.com/scikit-learn/scikit-learn/issues/21755 */display: inline-block !important;position: relative;}#sk-container-id-3 div.sk-text-repr-fallback {display: none;}</style><div id=\"sk-container-id-3\" class=\"sk-top-container\"><div class=\"sk-text-repr-fallback\"><pre>GridSearchCV(cv=2, estimator=DecisionTreeClassifier(), n_jobs=-1,\n",
              "             param_grid={&#x27;criterion&#x27;: [&#x27;gini&#x27;, &#x27;entropy&#x27;],\n",
              "                         &#x27;max_depth&#x27;: [None, 5, 10],\n",
              "                         &#x27;max_features&#x27;: [&#x27;auto&#x27;, &#x27;sqrt&#x27;, &#x27;log2&#x27;],\n",
              "                         &#x27;min_samples_leaf&#x27;: [4, 2, 15],\n",
              "                         &#x27;min_samples_split&#x27;: [2, 4, 8, 10]},\n",
              "             verbose=2)</pre><b>In a Jupyter environment, please rerun this cell to show the HTML representation or trust the notebook. <br />On GitHub, the HTML representation is unable to render, please try loading this page with nbviewer.org.</b></div><div class=\"sk-container\" hidden><div class=\"sk-item sk-dashed-wrapped\"><div class=\"sk-label-container\"><div class=\"sk-label sk-toggleable\"><input class=\"sk-toggleable__control sk-hidden--visually\" id=\"sk-estimator-id-5\" type=\"checkbox\" ><label for=\"sk-estimator-id-5\" class=\"sk-toggleable__label sk-toggleable__label-arrow\">GridSearchCV</label><div class=\"sk-toggleable__content\"><pre>GridSearchCV(cv=2, estimator=DecisionTreeClassifier(), n_jobs=-1,\n",
              "             param_grid={&#x27;criterion&#x27;: [&#x27;gini&#x27;, &#x27;entropy&#x27;],\n",
              "                         &#x27;max_depth&#x27;: [None, 5, 10],\n",
              "                         &#x27;max_features&#x27;: [&#x27;auto&#x27;, &#x27;sqrt&#x27;, &#x27;log2&#x27;],\n",
              "                         &#x27;min_samples_leaf&#x27;: [4, 2, 15],\n",
              "                         &#x27;min_samples_split&#x27;: [2, 4, 8, 10]},\n",
              "             verbose=2)</pre></div></div></div><div class=\"sk-parallel\"><div class=\"sk-parallel-item\"><div class=\"sk-item\"><div class=\"sk-label-container\"><div class=\"sk-label sk-toggleable\"><input class=\"sk-toggleable__control sk-hidden--visually\" id=\"sk-estimator-id-6\" type=\"checkbox\" ><label for=\"sk-estimator-id-6\" class=\"sk-toggleable__label sk-toggleable__label-arrow\">estimator: DecisionTreeClassifier</label><div class=\"sk-toggleable__content\"><pre>DecisionTreeClassifier()</pre></div></div></div><div class=\"sk-serial\"><div class=\"sk-item\"><div class=\"sk-estimator sk-toggleable\"><input class=\"sk-toggleable__control sk-hidden--visually\" id=\"sk-estimator-id-7\" type=\"checkbox\" ><label for=\"sk-estimator-id-7\" class=\"sk-toggleable__label sk-toggleable__label-arrow\">DecisionTreeClassifier</label><div class=\"sk-toggleable__content\"><pre>DecisionTreeClassifier()</pre></div></div></div></div></div></div></div></div></div></div>"
            ]
          },
          "metadata": {},
          "execution_count": 44
        }
      ]
    },
    {
      "cell_type": "markdown",
      "source": [
        "Parámetros escogidos:"
      ],
      "metadata": {
        "id": "-BcpF9bxbdF5"
      }
    },
    {
      "cell_type": "code",
      "source": [
        "test_params = dt_Grid.best_params_\n",
        "test_params"
      ],
      "metadata": {
        "colab": {
          "base_uri": "https://localhost:8080/"
        },
        "id": "Y7HThQGobe_v",
        "outputId": "e870280b-e609-4173-bd61-b3ba882bc5e4"
      },
      "execution_count": 45,
      "outputs": [
        {
          "output_type": "execute_result",
          "data": {
            "text/plain": [
              "{'criterion': 'gini',\n",
              " 'max_depth': None,\n",
              " 'max_features': 'sqrt',\n",
              " 'min_samples_leaf': 2,\n",
              " 'min_samples_split': 4}"
            ]
          },
          "metadata": {},
          "execution_count": 45
        }
      ]
    },
    {
      "cell_type": "markdown",
      "source": [
        "Se evalua el rendimiento del método con los mejores parametros"
      ],
      "metadata": {
        "id": "B8GSCvVJdQri"
      }
    },
    {
      "cell_type": "code",
      "source": [
        "# Evaluar el rendimiento del modelo en los datos de entrenamiento y prueba\n",
        "train_accuracy = dt_Grid.score(xtrainE, y_train) * 100\n",
        "test_accuracy = dt_Grid.score(xtestE, y_test) * 100\n",
        "\n",
        "print(\"Precisión del entrenamiento:\", \"{:.3f}%\".format(train_accuracy))\n",
        "print(\"Precisión de prueba:\", \"{:.3f}%\".format(test_accuracy))"
      ],
      "metadata": {
        "colab": {
          "base_uri": "https://localhost:8080/"
        },
        "id": "5cpZ8hoGdSDA",
        "outputId": "34509102-6890-48fd-a640-f310d508e276"
      },
      "execution_count": 46,
      "outputs": [
        {
          "output_type": "stream",
          "name": "stdout",
          "text": [
            "Precisión del entrenamiento: 98.363%\n",
            "Precisión de prueba: 97.196%\n"
          ]
        }
      ]
    },
    {
      "cell_type": "markdown",
      "source": [
        "### Matriz de Confusión\n",
        "Una vez calculado el rendimiento, procedemos a dibujar la matriz de confusión para corroborar de manera visual, la infomación arrojado anteriormente."
      ],
      "metadata": {
        "id": "-nobRtrrgcqP"
      }
    },
    {
      "cell_type": "code",
      "source": [
        "from sklearn.metrics import confusion_matrix\n",
        "\n",
        "# Calcular la matriz de confusión\n",
        "y_pred = dt_Grid.predict(xtestE)\n",
        "cm = confusion_matrix(y_test, y_pred)\n",
        "labels = np.unique(y_test)\n",
        "df_cm = pd.DataFrame(cm, index=labels, columns=labels)\n",
        "plt.figure(figsize=(8, 6))\n",
        "sns.heatmap(df_cm, annot=True, cmap='Blues', fmt='d')\n",
        "plt.title(\"Matriz de Confusión\")\n",
        "plt.xlabel(\"Etiqueta Predicha\")\n",
        "plt.ylabel(\"Etiqueta Verdadera\")\n",
        "plt.show()"
      ],
      "metadata": {
        "colab": {
          "base_uri": "https://localhost:8080/",
          "height": 564
        },
        "id": "m2xsTizzgeD7",
        "outputId": "586f1364-a053-4d24-903a-a02a3d5e8759"
      },
      "execution_count": 51,
      "outputs": [
        {
          "output_type": "display_data",
          "data": {
            "text/plain": [
              "<Figure size 800x600 with 2 Axes>"
            ],
            "image/png": "[encoded data removed]"
          },
          "metadata": {}
        }
      ]
    },
    {
      "cell_type": "markdown",
      "source": [
        "##**Random Forest**"
      ],
      "metadata": {
        "id": "QQcwgBLN2M4E"
      }
    },
    {
      "cell_type": "markdown",
      "source": [
        "###Pruebas con parámetros por defecto:\n",
        "\n",
        "Imprimimos las dimensiones del conjunto de entrenamiento y prueba, proporcionando información sobre la cantidad de instancias y características en los datos de entrenamiento y prueba, así como la forma de las etiquetas asociadas."
      ],
      "metadata": {
        "id": "CSkgyGKu8FY5"
      }
    },
    {
      "cell_type": "code",
      "source": [
        "print(\"Dimensiones entreamiento :\", xtrainE.shape)\n",
        "print(\"Dimensiones prueba \", xtestE.shape)"
      ],
      "metadata": {
        "id": "-I4vsjHBaijP",
        "colab": {
          "base_uri": "https://localhost:8080/"
        },
        "outputId": "2b4dfa96-672f-449c-b2df-9f37532b43bc"
      },
      "execution_count": 81,
      "outputs": [
        {
          "output_type": "stream",
          "name": "stdout",
          "text": [
            "Dimensiones entreamiento : (855, 14)\n",
            "Dimensiones prueba  (214, 14)\n"
          ]
        }
      ]
    },
    {
      "cell_type": "markdown",
      "source": [
        "A continuacion, entrenamos el modelo de clasificación de bosque aleatorio, realizando validación cruzada para evaluar el rendimiento, y luego imprimir la precisión del modelo en los datos de entrenamiento y prueba.\n",
        "\n",
        "La validación cruzada nos proporciona una evaluación más robusta del rendimiento del modelo al dividir los datos en conjuntos de entrenamiento y prueba en múltiples iteraciones."
      ],
      "metadata": {
        "id": "CShOo1byF5iY"
      }
    },
    {
      "cell_type": "code",
      "source": [
        "from sklearn.ensemble import RandomForestClassifier\n",
        "from sklearn.model_selection import cross_val_score\n",
        "\n",
        "rf_Model = RandomForestClassifier()\n",
        "cross_val_scores = cross_val_score(rf_Model, xtrainE, y_train, cv=2)\n",
        "rf_Model.fit(xtrainE, y_train)\n",
        "# Evaluar el rendimiento del modelo en los datos de entrenamiento y prueba\n",
        "train_accuracy = rf_Model.score(xtrainE, y_train) * 100\n",
        "test_accuracy = rf_Model.score(xtestE, y_test) * 100\n",
        "\n",
        "print(\"Precisión del entrenamiento:\", \"{:.3f}%\".format(train_accuracy))\n",
        "print(\"Precisión de prueba:\", \"{:.3f}%\".format(test_accuracy))\n",
        "\n",
        "# Imprimir los resultados de la validación cruzada\n",
        "print(\"Resultados de la validación cruzada:\")\n",
        "print(cross_val_scores)\n",
        "print(\"Precisión media: {:.2f}\".format(cross_val_scores.mean()))"
      ],
      "metadata": {
        "id": "mBdUFp3pawhd",
        "colab": {
          "base_uri": "https://localhost:8080/"
        },
        "outputId": "126ed6e4-06c6-46e6-d452-71a7a35ef357"
      },
      "execution_count": 30,
      "outputs": [
        {
          "output_type": "stream",
          "name": "stdout",
          "text": [
            "Precisión del entrenamiento: 99.181%\n",
            "Precisión de prueba: 98.598%\n",
            "Resultados de la validación cruzada:\n",
            "[0.97897196 0.99063232]\n",
            "Precisión media: 0.98\n"
          ]
        }
      ]
    },
    {
      "cell_type": "markdown",
      "source": [
        "###Prueba con hiperparámetros ajustados\n",
        "\n",
        "Definimos la matriz de hiperparámetros para su posteior uso."
      ],
      "metadata": {
        "id": "Ii1ACXe7d9gW"
      }
    },
    {
      "cell_type": "code",
      "source": [
        "# Número de árboles en el bosque aleatorio\n",
        "n_estimators = [int(x) for x in np.linspace(start=100, stop=500, num=4)]\n",
        "# Número de características a considerar en cada división\n",
        "max_features = ['auto', 'sqrt']\n",
        "# Número máximo de niveles en el árbol\n",
        "max_depth = None,\n",
        "# Número mínimo de muestras requeridas para dividir un nodo\n",
        "min_samples_split = [8, 9,]\n",
        "# Número mínimo de muestras requeridas en cada nodo hoja\n",
        "min_samples_leaf = [1, 2]\n",
        "# Método de selección de muestras para entrenar cada árbol"
      ],
      "metadata": {
        "id": "xlhE0d8EIp5_"
      },
      "execution_count": 31,
      "outputs": []
    },
    {
      "cell_type": "code",
      "source": [
        "param_grid = {'n_estimators': n_estimators,\n",
        "               'max_features': max_features,\n",
        "               'max_depth': max_depth,\n",
        "               'min_samples_split': min_samples_split,\n",
        "               'min_samples_leaf': min_samples_leaf,\n",
        "                }\n",
        "print(param_grid)"
      ],
      "metadata": {
        "id": "YxIeiQKaIwJA",
        "colab": {
          "base_uri": "https://localhost:8080/"
        },
        "outputId": "f41f5972-fa1b-4f40-ab07-4816fa08dc3a"
      },
      "execution_count": 32,
      "outputs": [
        {
          "output_type": "stream",
          "name": "stdout",
          "text": [
            "{'n_estimators': [100, 233, 366, 500], 'max_features': ['auto', 'sqrt'], 'max_depth': (None,), 'min_samples_split': [8, 9], 'min_samples_leaf': [1, 2]}\n"
          ]
        }
      ]
    },
    {
      "cell_type": "markdown",
      "source": [
        "###Utilización de la función GridSearchCV"
      ],
      "metadata": {
        "id": "2JYFIymwehI5"
      }
    },
    {
      "cell_type": "code",
      "source": [
        "from sklearn.model_selection import GridSearchCV\n",
        "\n",
        "rf_Grid = GridSearchCV(estimator = rf_Model, param_grid = param_grid, cv = 2, verbose=2, n_jobs = -1)\n",
        "\n",
        "rf_Grid.fit(xtrainE, y_train)"
      ],
      "metadata": {
        "id": "zso7ySInJwf4",
        "colab": {
          "base_uri": "https://localhost:8080/",
          "height": 190
        },
        "outputId": "69f3b701-c7d4-49a5-d969-31dddf8c8e97"
      },
      "execution_count": 33,
      "outputs": [
        {
          "output_type": "stream",
          "name": "stdout",
          "text": [
            "Fitting 2 folds for each of 32 candidates, totalling 64 fits\n"
          ]
        },
        {
          "output_type": "stream",
          "name": "stderr",
          "text": [
            "/usr/local/lib/python3.10/dist-packages/sklearn/ensemble/_forest.py:424: FutureWarning: `max_features='auto'` has been deprecated in 1.1 and will be removed in 1.3. To keep the past behaviour, explicitly set `max_features='sqrt'` or remove this parameter as it is also the default value for RandomForestClassifiers and ExtraTreesClassifiers.\n",
            "  warn(\n"
          ]
        },
        {
          "output_type": "execute_result",
          "data": {
            "text/plain": [
              "GridSearchCV(cv=2, estimator=RandomForestClassifier(), n_jobs=-1,\n",
              "             param_grid={'max_depth': (None,), 'max_features': ['auto', 'sqrt'],\n",
              "                         'min_samples_leaf': [1, 2],\n",
              "                         'min_samples_split': [8, 9],\n",
              "                         'n_estimators': [100, 233, 366, 500]},\n",
              "             verbose=2)"
            ],
            "text/html": [
              "<style>#sk-container-id-2 {color: black;background-color: white;}#sk-container-id-2 pre{padding: 0;}#sk-container-id-2 div.sk-toggleable {background-color: white;}#sk-container-id-2 label.sk-toggleable__label {cursor: pointer;display: block;width: 100%;margin-bottom: 0;padding: 0.3em;box-sizing: border-box;text-align: center;}#sk-container-id-2 label.sk-toggleable__label-arrow:before {content: \"▸\";float: left;margin-right: 0.25em;color: #696969;}#sk-container-id-2 label.sk-toggleable__label-arrow:hover:before {color: black;}#sk-container-id-2 div.sk-estimator:hover label.sk-toggleable__label-arrow:before {color: black;}#sk-container-id-2 div.sk-toggleable__content {max-height: 0;max-width: 0;overflow: hidden;text-align: left;background-color: #f0f8ff;}#sk-container-id-2 div.sk-toggleable__content pre {margin: 0.2em;color: black;border-radius: 0.25em;background-color: #f0f8ff;}#sk-container-id-2 input.sk-toggleable__control:checked~div.sk-toggleable__content {max-height: 200px;max-width: 100%;overflow: auto;}#sk-container-id-2 input.sk-toggleable__control:checked~label.sk-toggleable__label-arrow:before {content: \"▾\";}#sk-container-id-2 div.sk-estimator input.sk-toggleable__control:checked~label.sk-toggleable__label {background-color: #d4ebff;}#sk-container-id-2 div.sk-label input.sk-toggleable__control:checked~label.sk-toggleable__label {background-color: #d4ebff;}#sk-container-id-2 input.sk-hidden--visually {border: 0;clip: rect(1px 1px 1px 1px);clip: rect(1px, 1px, 1px, 1px);height: 1px;margin: -1px;overflow: hidden;padding: 0;position: absolute;width: 1px;}#sk-container-id-2 div.sk-estimator {font-family: monospace;background-color: #f0f8ff;border: 1px dotted black;border-radius: 0.25em;box-sizing: border-box;margin-bottom: 0.5em;}#sk-container-id-2 div.sk-estimator:hover {background-color: #d4ebff;}#sk-container-id-2 div.sk-parallel-item::after {content: \"\";width: 100%;border-bottom: 1px solid gray;flex-grow: 1;}#sk-container-id-2 div.sk-label:hover label.sk-toggleable__label {background-color: #d4ebff;}#sk-container-id-2 div.sk-serial::before {content: \"\";position: absolute;border-left: 1px solid gray;box-sizing: border-box;top: 0;bottom: 0;left: 50%;z-index: 0;}#sk-container-id-2 div.sk-serial {display: flex;flex-direction: column;align-items: center;background-color: white;padding-right: 0.2em;padding-left: 0.2em;position: relative;}#sk-container-id-2 div.sk-item {position: relative;z-index: 1;}#sk-container-id-2 div.sk-parallel {display: flex;align-items: stretch;justify-content: center;background-color: white;position: relative;}#sk-container-id-2 div.sk-item::before, #sk-container-id-2 div.sk-parallel-item::before {content: \"\";position: absolute;border-left: 1px solid gray;box-sizing: border-box;top: 0;bottom: 0;left: 50%;z-index: -1;}#sk-container-id-2 div.sk-parallel-item {display: flex;flex-direction: column;z-index: 1;position: relative;background-color: white;}#sk-container-id-2 div.sk-parallel-item:first-child::after {align-self: flex-end;width: 50%;}#sk-container-id-2 div.sk-parallel-item:last-child::after {align-self: flex-start;width: 50%;}#sk-container-id-2 div.sk-parallel-item:only-child::after {width: 0;}#sk-container-id-2 div.sk-dashed-wrapped {border: 1px dashed gray;margin: 0 0.4em 0.5em 0.4em;box-sizing: border-box;padding-bottom: 0.4em;background-color: white;}#sk-container-id-2 div.sk-label label {font-family: monospace;font-weight: bold;display: inline-block;line-height: 1.2em;}#sk-container-id-2 div.sk-label-container {text-align: center;}#sk-container-id-2 div.sk-container {/* jupyter's `normalize.less` sets `[hidden] { display: none; }` but bootstrap.min.css set `[hidden] { display: none !important; }` so we also need the `!important` here to be able to override the default hidden behavior on the sphinx rendered scikit-learn.org. See: https://github.com/scikit-learn/scikit-learn/issues/21755 */display: inline-block !important;position: relative;}#sk-container-id-2 div.sk-text-repr-fallback {display: none;}</style><div id=\"sk-container-id-2\" class=\"sk-top-container\"><div class=\"sk-text-repr-fallback\"><pre>GridSearchCV(cv=2, estimator=RandomForestClassifier(), n_jobs=-1,\n",
              "             param_grid={&#x27;max_depth&#x27;: (None,), &#x27;max_features&#x27;: [&#x27;auto&#x27;, &#x27;sqrt&#x27;],\n",
              "                         &#x27;min_samples_leaf&#x27;: [1, 2],\n",
              "                         &#x27;min_samples_split&#x27;: [8, 9],\n",
              "                         &#x27;n_estimators&#x27;: [100, 233, 366, 500]},\n",
              "             verbose=2)</pre><b>In a Jupyter environment, please rerun this cell to show the HTML representation or trust the notebook. <br />On GitHub, the HTML representation is unable to render, please try loading this page with nbviewer.org.</b></div><div class=\"sk-container\" hidden><div class=\"sk-item sk-dashed-wrapped\"><div class=\"sk-label-container\"><div class=\"sk-label sk-toggleable\"><input class=\"sk-toggleable__control sk-hidden--visually\" id=\"sk-estimator-id-2\" type=\"checkbox\" ><label for=\"sk-estimator-id-2\" class=\"sk-toggleable__label sk-toggleable__label-arrow\">GridSearchCV</label><div class=\"sk-toggleable__content\"><pre>GridSearchCV(cv=2, estimator=RandomForestClassifier(), n_jobs=-1,\n",
              "             param_grid={&#x27;max_depth&#x27;: (None,), &#x27;max_features&#x27;: [&#x27;auto&#x27;, &#x27;sqrt&#x27;],\n",
              "                         &#x27;min_samples_leaf&#x27;: [1, 2],\n",
              "                         &#x27;min_samples_split&#x27;: [8, 9],\n",
              "                         &#x27;n_estimators&#x27;: [100, 233, 366, 500]},\n",
              "             verbose=2)</pre></div></div></div><div class=\"sk-parallel\"><div class=\"sk-parallel-item\"><div class=\"sk-item\"><div class=\"sk-label-container\"><div class=\"sk-label sk-toggleable\"><input class=\"sk-toggleable__control sk-hidden--visually\" id=\"sk-estimator-id-3\" type=\"checkbox\" ><label for=\"sk-estimator-id-3\" class=\"sk-toggleable__label sk-toggleable__label-arrow\">estimator: RandomForestClassifier</label><div class=\"sk-toggleable__content\"><pre>RandomForestClassifier()</pre></div></div></div><div class=\"sk-serial\"><div class=\"sk-item\"><div class=\"sk-estimator sk-toggleable\"><input class=\"sk-toggleable__control sk-hidden--visually\" id=\"sk-estimator-id-4\" type=\"checkbox\" ><label for=\"sk-estimator-id-4\" class=\"sk-toggleable__label sk-toggleable__label-arrow\">RandomForestClassifier</label><div class=\"sk-toggleable__content\"><pre>RandomForestClassifier()</pre></div></div></div></div></div></div></div></div></div></div>"
            ]
          },
          "metadata": {},
          "execution_count": 33
        }
      ]
    },
    {
      "cell_type": "markdown",
      "source": [
        "Parámetros escogidos:"
      ],
      "metadata": {
        "id": "eS8-RAFVeykC"
      }
    },
    {
      "cell_type": "code",
      "source": [
        "test_params = rf_Grid.best_params_\n",
        "test_params"
      ],
      "metadata": {
        "id": "47PU780bKy5o",
        "colab": {
          "base_uri": "https://localhost:8080/"
        },
        "outputId": "5430dea7-480a-443a-fe77-92ff0409c68a"
      },
      "execution_count": 34,
      "outputs": [
        {
          "output_type": "execute_result",
          "data": {
            "text/plain": [
              "{'max_depth': None,\n",
              " 'max_features': 'auto',\n",
              " 'min_samples_leaf': 1,\n",
              " 'min_samples_split': 8,\n",
              " 'n_estimators': 233}"
            ]
          },
          "metadata": {},
          "execution_count": 34
        }
      ]
    },
    {
      "cell_type": "markdown",
      "source": [
        "Se evalua el rendimiento del método con los mejores parametros"
      ],
      "metadata": {
        "id": "CQNw47sVqBRO"
      }
    },
    {
      "cell_type": "code",
      "source": [
        "# Evaluar el rendimiento del modelo en los datos de entrenamiento y prueba\n",
        "train_accuracy = rf_Grid.score(xtrainE, y_train) * 100\n",
        "test_accuracy = rf_Grid.score(xtestE, y_test) * 100\n",
        "\n",
        "print(\"Precisión del entrenamiento:\", \"{:.3f}%\".format(train_accuracy))\n",
        "print(\"Precisión de prueba:\", \"{:.3f}%\".format(test_accuracy))"
      ],
      "metadata": {
        "id": "zBehQUPpLDxo",
        "colab": {
          "base_uri": "https://localhost:8080/"
        },
        "outputId": "55d83ff4-d3da-42a2-bfe5-34ebcc11f572"
      },
      "execution_count": 35,
      "outputs": [
        {
          "output_type": "stream",
          "name": "stdout",
          "text": [
            "Precisión del entrenamiento: 99.064%\n",
            "Precisión de prueba: 98.598%\n"
          ]
        }
      ]
    },
    {
      "cell_type": "markdown",
      "source": [
        "### Matriz de Confusión\n",
        "Una vez calculado el rendimiento, procedemos a dibujar la matriz de confusión para corroborar de manera visual, la infomación arrojado anteriormente."
      ],
      "metadata": {
        "id": "Xj4bSZVducep"
      }
    },
    {
      "cell_type": "code",
      "source": [
        "from sklearn.metrics import confusion_matrix\n",
        "\n",
        "# Calcular la matriz de confusión\n",
        "y_pred = rf_Grid.predict(xtestE)\n",
        "cm = confusion_matrix(y_test, y_pred)\n",
        "labels = np.unique(y_test)\n",
        "df_cm = pd.DataFrame(cm, index=labels, columns=labels)\n",
        "plt.figure(figsize=(8, 6))\n",
        "sns.heatmap(df_cm, annot=True, cmap='Blues', fmt='d')\n",
        "plt.title(\"Matriz de Confusión\")\n",
        "plt.xlabel(\"Etiqueta Predicha\")\n",
        "plt.ylabel(\"Etiqueta Verdadera\")\n",
        "plt.show()\n"
      ],
      "metadata": {
        "id": "zuCEaO__q3Pz",
        "colab": {
          "base_uri": "https://localhost:8080/",
          "height": 564
        },
        "outputId": "694fbb54-7353-4eae-f846-8e12a4a428e7"
      },
      "execution_count": 50,
      "outputs": [
        {
          "output_type": "display_data",
          "data": {
            "text/plain": [
              "<Figure size 800x600 with 2 Axes>"
            ],
            "image/png": "[encoded data removed]"
          },
          "metadata": {}
        }
      ]
    },
    {
      "cell_type": "markdown",
      "source": [
        "##**Redes Neuronales**"
      ],
      "metadata": {
        "id": "cdYiId1SjB6Q"
      }
    },
    {
      "cell_type": "markdown",
      "source": [
        "###Pruebas con parámetros por defecto:\n",
        "\n",
        "Imprimimos las dimensiones del conjunto de entrenamiento y prueba, proporcionando información sobre la cantidad de instancias y características en los datos de entrenamiento y prueba, así como la forma de las etiquetas asociadas."
      ],
      "metadata": {
        "id": "5LzNCF70nJYJ"
      }
    },
    {
      "cell_type": "code",
      "source": [
        "print(\"Dimensiones entreamiento :\", xtrainE.shape)\n",
        "print(\"Dimensiones prueba \", xtestE.shape)"
      ],
      "metadata": {
        "colab": {
          "base_uri": "https://localhost:8080/"
        },
        "id": "qZZlCUWgnLkK",
        "outputId": "e03e358e-4235-4a46-a1d0-fe305d92cbee"
      },
      "execution_count": 52,
      "outputs": [
        {
          "output_type": "stream",
          "name": "stdout",
          "text": [
            "Dimensiones entreamiento : (855, 14)\n",
            "Dimensiones prueba  (214, 14)\n"
          ]
        }
      ]
    },
    {
      "cell_type": "markdown",
      "source": [
        "A continuacion, entrenamos el modelo de clasificación de red neuronal, realizando validación cruzada para evaluar el rendimiento, y luego imprimir la precisión del modelo en los datos de entrenamiento y prueba.\n",
        "\n",
        "Se debe señalar que aqui hacemos un escalamiento de los datos, lo que resultará en un mejor rendimiento al ajustar los hiperparametros con GridSearchCV.\n",
        "\n",
        "La validación cruzada nos proporciona una evaluación más robusta del rendimiento del modelo al dividir los datos en conjuntos de entrenamiento y prueba en múltiples iteraciones."
      ],
      "metadata": {
        "id": "vkUD5D98rEpJ"
      }
    },
    {
      "cell_type": "code",
      "source": [
        "from sklearn.neural_network import MLPClassifier\n",
        "from sklearn.preprocessing import StandardScaler\n",
        "\n",
        "scaler = StandardScaler(with_mean=False)\n",
        "xtrains = scaler.fit_transform(xtrainE)\n",
        "xtests = scaler.transform(xtestE)\n",
        "\n",
        "mlp_Model = MLPClassifier()\n",
        "cross_val_scores = cross_val_score(mlp_Model, xtrains, y_train, cv=2)\n",
        "mlp_Model.fit(xtrains, y_train)\n",
        "# Evaluar el rendimiento del modelo en los datos de entrenamiento y prueba\n",
        "train_accuracy = mlp_Model.score(xtrains, y_train) * 100\n",
        "test_accuracy = mlp_Model.score(xtests, y_test) * 100\n",
        "\n",
        "print(\"Precisión del entrenamiento:\", \"{:.3f}%\".format(train_accuracy))\n",
        "print(\"Precisión de prueba:\", \"{:.3f}%\".format(test_accuracy))\n",
        "\n",
        "# Imprimir los resultados de la validación cruzada\n",
        "print(\"Resultados de la validación cruzada:\")\n",
        "print(cross_val_scores)\n",
        "print(\"Precisión media: {:.2f}\".format(cross_val_scores.mean()))"
      ],
      "metadata": {
        "colab": {
          "base_uri": "https://localhost:8080/"
        },
        "id": "u0VzTCNSnUsn",
        "outputId": "ac9fdb89-4f7e-4b2e-d192-9ea572be3c4a"
      },
      "execution_count": 55,
      "outputs": [
        {
          "output_type": "stream",
          "name": "stdout",
          "text": [
            "Precisión del entrenamiento: 99.064%\n",
            "Precisión de prueba: 99.533%\n",
            "Resultados de la validación cruzada:\n",
            "[0.98831776 0.99063232]\n",
            "Precisión media: 0.99\n"
          ]
        }
      ]
    },
    {
      "cell_type": "markdown",
      "source": [
        "###Prueba con hiperparámetros ajustados\n",
        "\n",
        "Definimos la matriz de hiperparámetros para su posteior uso."
      ],
      "metadata": {
        "id": "iCYpe5JRykaF"
      }
    },
    {
      "cell_type": "code",
      "source": [
        "param_grid = {\n",
        "    'hidden_layer_sizes': [(500),(700,500), (100,100,100)],\n",
        "    'max_iter': [50,100,200],\n",
        "    'activation': ['relu', 'tanh'],\n",
        "    'alpha': [0.0001, 0.001, 0.01]\n",
        "}\n",
        "print(param_grid)"
      ],
      "metadata": {
        "colab": {
          "base_uri": "https://localhost:8080/"
        },
        "id": "wGfijniTymXb",
        "outputId": "6209ba83-67b2-49e9-b270-05aea9c428b6"
      },
      "execution_count": 67,
      "outputs": [
        {
          "output_type": "stream",
          "name": "stdout",
          "text": [
            "{'hidden_layer_sizes': [500, (700, 500), (100, 100, 100)], 'max_iter': [50, 100, 200], 'activation': ['relu', 'tanh'], 'alpha': [0.0001, 0.001, 0.01]}\n"
          ]
        }
      ]
    },
    {
      "cell_type": "markdown",
      "source": [
        "###Utilización de la función GridSearchCV"
      ],
      "metadata": {
        "id": "8Bh9a1vN8v71"
      }
    },
    {
      "cell_type": "code",
      "source": [
        "mlp_Grid = GridSearchCV(estimator = mlp_Model, param_grid = param_grid, cv = 2, verbose=2, n_jobs = -1)\n",
        "\n",
        "mlp_Grid.fit(xtrains, y_train)"
      ],
      "metadata": {
        "colab": {
          "base_uri": "https://localhost:8080/",
          "height": 135
        },
        "id": "nrjQIqxO8xZA",
        "outputId": "9e3e682a-212d-4ecf-979c-c96b9123d320"
      },
      "execution_count": 68,
      "outputs": [
        {
          "output_type": "stream",
          "name": "stdout",
          "text": [
            "Fitting 2 folds for each of 54 candidates, totalling 108 fits\n"
          ]
        },
        {
          "output_type": "execute_result",
          "data": {
            "text/plain": [
              "GridSearchCV(cv=2, estimator=MLPClassifier(), n_jobs=-1,\n",
              "             param_grid={'activation': ['relu', 'tanh'],\n",
              "                         'alpha': [0.0001, 0.001, 0.01],\n",
              "                         'hidden_layer_sizes': [500, (700, 500),\n",
              "                                                (100, 100, 100)],\n",
              "                         'max_iter': [50, 100, 200]},\n",
              "             verbose=2)"
            ],
            "text/html": [
              "<style>#sk-container-id-6 {color: black;background-color: white;}#sk-container-id-6 pre{padding: 0;}#sk-container-id-6 div.sk-toggleable {background-color: white;}#sk-container-id-6 label.sk-toggleable__label {cursor: pointer;display: block;width: 100%;margin-bottom: 0;padding: 0.3em;box-sizing: border-box;text-align: center;}#sk-container-id-6 label.sk-toggleable__label-arrow:before {content: \"▸\";float: left;margin-right: 0.25em;color: #696969;}#sk-container-id-6 label.sk-toggleable__label-arrow:hover:before {color: black;}#sk-container-id-6 div.sk-estimator:hover label.sk-toggleable__label-arrow:before {color: black;}#sk-container-id-6 div.sk-toggleable__content {max-height: 0;max-width: 0;overflow: hidden;text-align: left;background-color: #f0f8ff;}#sk-container-id-6 div.sk-toggleable__content pre {margin: 0.2em;color: black;border-radius: 0.25em;background-color: #f0f8ff;}#sk-container-id-6 input.sk-toggleable__control:checked~div.sk-toggleable__content {max-height: 200px;max-width: 100%;overflow: auto;}#sk-container-id-6 input.sk-toggleable__control:checked~label.sk-toggleable__label-arrow:before {content: \"▾\";}#sk-container-id-6 div.sk-estimator input.sk-toggleable__control:checked~label.sk-toggleable__label {background-color: #d4ebff;}#sk-container-id-6 div.sk-label input.sk-toggleable__control:checked~label.sk-toggleable__label {background-color: #d4ebff;}#sk-container-id-6 input.sk-hidden--visually {border: 0;clip: rect(1px 1px 1px 1px);clip: rect(1px, 1px, 1px, 1px);height: 1px;margin: -1px;overflow: hidden;padding: 0;position: absolute;width: 1px;}#sk-container-id-6 div.sk-estimator {font-family: monospace;background-color: #f0f8ff;border: 1px dotted black;border-radius: 0.25em;box-sizing: border-box;margin-bottom: 0.5em;}#sk-container-id-6 div.sk-estimator:hover {background-color: #d4ebff;}#sk-container-id-6 div.sk-parallel-item::after {content: \"\";width: 100%;border-bottom: 1px solid gray;flex-grow: 1;}#sk-container-id-6 div.sk-label:hover label.sk-toggleable__label {background-color: #d4ebff;}#sk-container-id-6 div.sk-serial::before {content: \"\";position: absolute;border-left: 1px solid gray;box-sizing: border-box;top: 0;bottom: 0;left: 50%;z-index: 0;}#sk-container-id-6 div.sk-serial {display: flex;flex-direction: column;align-items: center;background-color: white;padding-right: 0.2em;padding-left: 0.2em;position: relative;}#sk-container-id-6 div.sk-item {position: relative;z-index: 1;}#sk-container-id-6 div.sk-parallel {display: flex;align-items: stretch;justify-content: center;background-color: white;position: relative;}#sk-container-id-6 div.sk-item::before, #sk-container-id-6 div.sk-parallel-item::before {content: \"\";position: absolute;border-left: 1px solid gray;box-sizing: border-box;top: 0;bottom: 0;left: 50%;z-index: -1;}#sk-container-id-6 div.sk-parallel-item {display: flex;flex-direction: column;z-index: 1;position: relative;background-color: white;}#sk-container-id-6 div.sk-parallel-item:first-child::after {align-self: flex-end;width: 50%;}#sk-container-id-6 div.sk-parallel-item:last-child::after {align-self: flex-start;width: 50%;}#sk-container-id-6 div.sk-parallel-item:only-child::after {width: 0;}#sk-container-id-6 div.sk-dashed-wrapped {border: 1px dashed gray;margin: 0 0.4em 0.5em 0.4em;box-sizing: border-box;padding-bottom: 0.4em;background-color: white;}#sk-container-id-6 div.sk-label label {font-family: monospace;font-weight: bold;display: inline-block;line-height: 1.2em;}#sk-container-id-6 div.sk-label-container {text-align: center;}#sk-container-id-6 div.sk-container {/* jupyter's `normalize.less` sets `[hidden] { display: none; }` but bootstrap.min.css set `[hidden] { display: none !important; }` so we also need the `!important` here to be able to override the default hidden behavior on the sphinx rendered scikit-learn.org. See: https://github.com/scikit-learn/scikit-learn/issues/21755 */display: inline-block !important;position: relative;}#sk-container-id-6 div.sk-text-repr-fallback {display: none;}</style><div id=\"sk-container-id-6\" class=\"sk-top-container\"><div class=\"sk-text-repr-fallback\"><pre>GridSearchCV(cv=2, estimator=MLPClassifier(), n_jobs=-1,\n",
              "             param_grid={&#x27;activation&#x27;: [&#x27;relu&#x27;, &#x27;tanh&#x27;],\n",
              "                         &#x27;alpha&#x27;: [0.0001, 0.001, 0.01],\n",
              "                         &#x27;hidden_layer_sizes&#x27;: [500, (700, 500),\n",
              "                                                (100, 100, 100)],\n",
              "                         &#x27;max_iter&#x27;: [50, 100, 200]},\n",
              "             verbose=2)</pre><b>In a Jupyter environment, please rerun this cell to show the HTML representation or trust the notebook. <br />On GitHub, the HTML representation is unable to render, please try loading this page with nbviewer.org.</b></div><div class=\"sk-container\" hidden><div class=\"sk-item sk-dashed-wrapped\"><div class=\"sk-label-container\"><div class=\"sk-label sk-toggleable\"><input class=\"sk-toggleable__control sk-hidden--visually\" id=\"sk-estimator-id-14\" type=\"checkbox\" ><label for=\"sk-estimator-id-14\" class=\"sk-toggleable__label sk-toggleable__label-arrow\">GridSearchCV</label><div class=\"sk-toggleable__content\"><pre>GridSearchCV(cv=2, estimator=MLPClassifier(), n_jobs=-1,\n",
              "             param_grid={&#x27;activation&#x27;: [&#x27;relu&#x27;, &#x27;tanh&#x27;],\n",
              "                         &#x27;alpha&#x27;: [0.0001, 0.001, 0.01],\n",
              "                         &#x27;hidden_layer_sizes&#x27;: [500, (700, 500),\n",
              "                                                (100, 100, 100)],\n",
              "                         &#x27;max_iter&#x27;: [50, 100, 200]},\n",
              "             verbose=2)</pre></div></div></div><div class=\"sk-parallel\"><div class=\"sk-parallel-item\"><div class=\"sk-item\"><div class=\"sk-label-container\"><div class=\"sk-label sk-toggleable\"><input class=\"sk-toggleable__control sk-hidden--visually\" id=\"sk-estimator-id-15\" type=\"checkbox\" ><label for=\"sk-estimator-id-15\" class=\"sk-toggleable__label sk-toggleable__label-arrow\">estimator: MLPClassifier</label><div class=\"sk-toggleable__content\"><pre>MLPClassifier()</pre></div></div></div><div class=\"sk-serial\"><div class=\"sk-item\"><div class=\"sk-estimator sk-toggleable\"><input class=\"sk-toggleable__control sk-hidden--visually\" id=\"sk-estimator-id-16\" type=\"checkbox\" ><label for=\"sk-estimator-id-16\" class=\"sk-toggleable__label sk-toggleable__label-arrow\">MLPClassifier</label><div class=\"sk-toggleable__content\"><pre>MLPClassifier()</pre></div></div></div></div></div></div></div></div></div></div>"
            ]
          },
          "metadata": {},
          "execution_count": 68
        }
      ]
    },
    {
      "cell_type": "markdown",
      "source": [
        "Parámetros escogidos:"
      ],
      "metadata": {
        "id": "GlFg3jCO_Vg1"
      }
    },
    {
      "cell_type": "code",
      "source": [
        "test_params = mlp_Grid.best_params_\n",
        "test_params"
      ],
      "metadata": {
        "colab": {
          "base_uri": "https://localhost:8080/"
        },
        "id": "XiX2n5hL_cn6",
        "outputId": "3ca6c0bb-f04f-460e-a724-f0331f02db9d"
      },
      "execution_count": 75,
      "outputs": [
        {
          "output_type": "execute_result",
          "data": {
            "text/plain": [
              "{'activation': 'relu',\n",
              " 'alpha': 0.01,\n",
              " 'hidden_layer_sizes': 500,\n",
              " 'max_iter': 200}"
            ]
          },
          "metadata": {},
          "execution_count": 75
        }
      ]
    },
    {
      "cell_type": "markdown",
      "source": [
        "Se evalua el rendimiento del método con los mejores parametros"
      ],
      "metadata": {
        "id": "Pj12yk9kCTZo"
      }
    },
    {
      "cell_type": "code",
      "source": [
        "# Evaluar el rendimiento del modelo en los datos de entrenamiento y prueba\n",
        "train_accuracy = mlp_Grid.score(xtrains, y_train) * 100\n",
        "test_accuracy = mlp_Grid.score(xtests, y_test) * 100\n",
        "\n",
        "print(\"Precisión del entrenamiento:\", \"{:.3f}%\".format(train_accuracy))\n",
        "print(\"Precisión de prueba:\", \"{:.3f}%\".format(test_accuracy))"
      ],
      "metadata": {
        "colab": {
          "base_uri": "https://localhost:8080/"
        },
        "id": "6RP_w5ggCU-R",
        "outputId": "2bd2c31c-f4a2-4bab-8f45-f58c0f738554"
      },
      "execution_count": 78,
      "outputs": [
        {
          "output_type": "stream",
          "name": "stdout",
          "text": [
            "Precisión del entrenamiento: 99.064%\n",
            "Precisión de prueba: 99.533%\n"
          ]
        }
      ]
    },
    {
      "cell_type": "markdown",
      "source": [
        "### Matriz de Confusión\n",
        "Una vez calculado el rendimiento, procedemos a dibujar la matriz de confusión para corroborar de manera visual, la infomación arrojado anteriormente."
      ],
      "metadata": {
        "id": "7-8zTxuZDceC"
      }
    },
    {
      "cell_type": "code",
      "source": [
        "# Calcular la matriz de confusión\n",
        "y_pred = mlp_Grid.predict(xtests)\n",
        "cm = confusion_matrix(y_test, y_pred)\n",
        "labels = np.unique(y_test)\n",
        "df_cm = pd.DataFrame(cm, index=labels, columns=labels)\n",
        "plt.figure(figsize=(8, 6))\n",
        "sns.heatmap(df_cm, annot=True, cmap='Blues', fmt='d')\n",
        "plt.title(\"Matriz de Confusión\")\n",
        "plt.xlabel(\"Etiqueta Predicha\")\n",
        "plt.ylabel(\"Etiqueta Verdadera\")\n",
        "plt.show()"
      ],
      "metadata": {
        "colab": {
          "base_uri": "https://localhost:8080/",
          "height": 564
        },
        "id": "X5E1UdjBEXeJ",
        "outputId": "e931abd2-1d01-4219-c8e9-9dafc3b24f19"
      },
      "execution_count": 80,
      "outputs": [
        {
          "output_type": "display_data",
          "data": {
            "text/plain": [
              "<Figure size 800x600 with 2 Axes>"
            ],
            "image/png": "[encoded data removed]"
          },
          "metadata": {}
        }
      ]
    },
    {
      "cell_type": "markdown",
      "source": [
        "#**RESULTADOS DE LOS MODELOS**\n",
        "\n",
        "Lo primero que debemos señalar es que todos los modelos arrojaron precisiones por encima del 90%, tanto en los conjuntos de entrenamiento como en los conjuntos de prueba. Esto indica que todos los modelos quedaron bien entrenados y con una suficiente capacidad de generalizar y de enfrentarse a conjuntos de datos nuevos.\n",
        "\n",
        "En cuanto a la comparación de los metodos, podemos decir que la red neuronal arrojó los mejores resultados: Tal como se ve en su matriz de confusión, solo 1 de las 214 etiquetas/clases del conjunto de datos de prueba fue predicha erroneamente. Random forest fue el segundo mejor con 3 clases predichas erroneamente. El arbol de decisión fue el peor con 6 clases predichas erroneamente.\n",
        "\n",
        "Finalmente, y de acuerdo a las matrices de confusión, debe señalarse que todos los tres modelos son ligeramente mejores reconociendo el inglés que reconociendo el neerlandés."
      ],
      "metadata": {
        "id": "eYe4wMWYYYHU"
      }
    }
  ]
}